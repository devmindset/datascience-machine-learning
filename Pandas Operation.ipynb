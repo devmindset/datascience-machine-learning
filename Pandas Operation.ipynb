{
 "cells": [
  {
   "cell_type": "code",
   "execution_count": 8,
   "metadata": {
    "collapsed": true
   },
   "outputs": [],
   "source": [
    "import pandas as pd"
   ]
  },
  {
   "cell_type": "code",
   "execution_count": 9,
   "metadata": {
    "collapsed": true
   },
   "outputs": [],
   "source": [
    "population_dict = {'California': 38332521,\n",
    "                   'Texas': 26448193,\n",
    "                   'Florida': 19552860,\n",
    "                   'Illinois': 12882135}\n",
    "\n",
    "population = pd.Series(population_dict)"
   ]
  },
  {
   "cell_type": "code",
   "execution_count": 11,
   "metadata": {},
   "outputs": [
    {
     "data": {
      "text/plain": [
       "Index(['California', 'Florida', 'Illinois', 'Texas'], dtype='object')"
      ]
     },
     "execution_count": 11,
     "metadata": {},
     "output_type": "execute_result"
    }
   ],
   "source": [
    "population.index"
   ]
  },
  {
   "cell_type": "code",
   "execution_count": 12,
   "metadata": {},
   "outputs": [
    {
     "data": {
      "text/plain": [
       "array([38332521, 19552860, 12882135, 26448193], dtype=int64)"
      ]
     },
     "execution_count": 12,
     "metadata": {},
     "output_type": "execute_result"
    }
   ],
   "source": [
    "population.values"
   ]
  },
  {
   "cell_type": "code",
   "execution_count": 13,
   "metadata": {
    "collapsed": true
   },
   "outputs": [],
   "source": [
    "area_dict = {'California': 423967, \n",
    "             'Illinois': 149995,\n",
    "              'Texas': 695662, \n",
    "             'New York': 141297,\n",
    "             'Florida': 170312}\n",
    "\n",
    "area = pd.Series(area_dict)"
   ]
  },
  {
   "cell_type": "code",
   "execution_count": 4,
   "metadata": {
    "collapsed": true
   },
   "outputs": [],
   "source": [
    "# Creating dataframes using series\n",
    "states = pd.DataFrame({'population':population, 'area':area})"
   ]
  },
  {
   "cell_type": "code",
   "execution_count": 5,
   "metadata": {},
   "outputs": [
    {
     "data": {
      "text/html": [
       "<div>\n",
       "<table border=\"1\" class=\"dataframe\">\n",
       "  <thead>\n",
       "    <tr style=\"text-align: right;\">\n",
       "      <th></th>\n",
       "      <th>area</th>\n",
       "      <th>population</th>\n",
       "    </tr>\n",
       "  </thead>\n",
       "  <tbody>\n",
       "    <tr>\n",
       "      <th>California</th>\n",
       "      <td>423967</td>\n",
       "      <td>38332521.0</td>\n",
       "    </tr>\n",
       "    <tr>\n",
       "      <th>Florida</th>\n",
       "      <td>170312</td>\n",
       "      <td>19552860.0</td>\n",
       "    </tr>\n",
       "    <tr>\n",
       "      <th>Illinois</th>\n",
       "      <td>149995</td>\n",
       "      <td>12882135.0</td>\n",
       "    </tr>\n",
       "    <tr>\n",
       "      <th>New York</th>\n",
       "      <td>141297</td>\n",
       "      <td>NaN</td>\n",
       "    </tr>\n",
       "    <tr>\n",
       "      <th>Texas</th>\n",
       "      <td>695662</td>\n",
       "      <td>26448193.0</td>\n",
       "    </tr>\n",
       "  </tbody>\n",
       "</table>\n",
       "</div>"
      ],
      "text/plain": [
       "              area  population\n",
       "California  423967  38332521.0\n",
       "Florida     170312  19552860.0\n",
       "Illinois    149995  12882135.0\n",
       "New York    141297         NaN\n",
       "Texas       695662  26448193.0"
      ]
     },
     "execution_count": 5,
     "metadata": {},
     "output_type": "execute_result"
    }
   ],
   "source": [
    "states"
   ]
  },
  {
   "cell_type": "code",
   "execution_count": 6,
   "metadata": {
    "collapsed": true
   },
   "outputs": [],
   "source": [
    "states['density'] = states['population'] / states['area']"
   ]
  },
  {
   "cell_type": "code",
   "execution_count": 7,
   "metadata": {},
   "outputs": [
    {
     "data": {
      "text/html": [
       "<div>\n",
       "<table border=\"1\" class=\"dataframe\">\n",
       "  <thead>\n",
       "    <tr style=\"text-align: right;\">\n",
       "      <th></th>\n",
       "      <th>area</th>\n",
       "      <th>population</th>\n",
       "      <th>density</th>\n",
       "    </tr>\n",
       "  </thead>\n",
       "  <tbody>\n",
       "    <tr>\n",
       "      <th>California</th>\n",
       "      <td>423967</td>\n",
       "      <td>38332521.0</td>\n",
       "      <td>90.413926</td>\n",
       "    </tr>\n",
       "    <tr>\n",
       "      <th>Florida</th>\n",
       "      <td>170312</td>\n",
       "      <td>19552860.0</td>\n",
       "      <td>114.806121</td>\n",
       "    </tr>\n",
       "    <tr>\n",
       "      <th>Illinois</th>\n",
       "      <td>149995</td>\n",
       "      <td>12882135.0</td>\n",
       "      <td>85.883763</td>\n",
       "    </tr>\n",
       "    <tr>\n",
       "      <th>New York</th>\n",
       "      <td>141297</td>\n",
       "      <td>NaN</td>\n",
       "      <td>NaN</td>\n",
       "    </tr>\n",
       "    <tr>\n",
       "      <th>Texas</th>\n",
       "      <td>695662</td>\n",
       "      <td>26448193.0</td>\n",
       "      <td>38.018740</td>\n",
       "    </tr>\n",
       "  </tbody>\n",
       "</table>\n",
       "</div>"
      ],
      "text/plain": [
       "              area  population     density\n",
       "California  423967  38332521.0   90.413926\n",
       "Florida     170312  19552860.0  114.806121\n",
       "Illinois    149995  12882135.0   85.883763\n",
       "New York    141297         NaN         NaN\n",
       "Texas       695662  26448193.0   38.018740"
      ]
     },
     "execution_count": 7,
     "metadata": {},
     "output_type": "execute_result"
    }
   ],
   "source": [
    "states"
   ]
  },
  {
   "cell_type": "code",
   "execution_count": 42,
   "metadata": {},
   "outputs": [],
   "source": [
    "df = pd.read_excel(r'C:\\Users\\ZekeLabs\\Downloads\\tab.xlsx',skiprows=[0,1], header=[0,1])"
   ]
  },
  {
   "cell_type": "code",
   "execution_count": 52,
   "metadata": {},
   "outputs": [],
   "source": [
    "df = df.drop(df.columns[0],axis=1)"
   ]
  },
  {
   "cell_type": "code",
   "execution_count": 54,
   "metadata": {},
   "outputs": [],
   "source": [
    "df = df.T"
   ]
  },
  {
   "cell_type": "code",
   "execution_count": 57,
   "metadata": {},
   "outputs": [],
   "source": [
    "df = df.rename(columns=df.iloc[0])"
   ]
  },
  {
   "cell_type": "code",
   "execution_count": 63,
   "metadata": {},
   "outputs": [
    {
     "data": {
      "text/plain": [
       "MultiIndex(levels=[[2012, 2013, 2014, 'Age group', 'Corresponding Level of Education', 'Unnamed: 0_level_0', 'Unnamed: 10_level_0', 'Unnamed: 11_level_0', 'Unnamed: 12_level_0', 'Unnamed: 13_level_0', 'Unnamed: 3_level_0', 'Unnamed: 4_level_0', 'Unnamed: 6_level_0', 'Unnamed: 7_level_0'], ['ALL', 'All', 'F', 'M', 'SC', 'ST', 'T', 'Unnamed: 0_level_1', 'Unnamed: 12_level_1', 'Unnamed: 13_level_1', 'Unnamed: 1_level_1', 'Unnamed: 8_level_1']],\n",
       "           labels=[[3, 1, 10, 11, 2, 12, 13, 4, 0, 6, 7, 8, 9], [10, 0, 4, 5, 1, 4, 5, 11, 3, 2, 6, 8, 9]])"
      ]
     },
     "execution_count": 63,
     "metadata": {},
     "output_type": "execute_result"
    }
   ],
   "source": [
    "df.index"
   ]
  },
  {
   "cell_type": "code",
   "execution_count": 64,
   "metadata": {
    "collapsed": true
   },
   "outputs": [],
   "source": [
    "df = pd.read_excel(r'C:\\Users\\ZekeLabs\\Downloads\\tab.xlsx',skiprows=[0,1], header=[0,1])"
   ]
  },
  {
   "cell_type": "code",
   "execution_count": 65,
   "metadata": {},
   "outputs": [
    {
     "data": {
      "text/html": [
       "<div>\n",
       "<table border=\"1\" class=\"dataframe\">\n",
       "  <thead>\n",
       "    <tr>\n",
       "      <th></th>\n",
       "      <th>Unnamed: 0_level_0</th>\n",
       "      <th>Age group</th>\n",
       "      <th>2013</th>\n",
       "      <th>Unnamed: 3_level_0</th>\n",
       "      <th>Unnamed: 4_level_0</th>\n",
       "      <th>2014</th>\n",
       "      <th>Unnamed: 6_level_0</th>\n",
       "      <th>Unnamed: 7_level_0</th>\n",
       "      <th>Corresponding Level of Education</th>\n",
       "      <th>2012</th>\n",
       "      <th>Unnamed: 10_level_0</th>\n",
       "      <th>Unnamed: 11_level_0</th>\n",
       "      <th>Unnamed: 12_level_0</th>\n",
       "      <th>Unnamed: 13_level_0</th>\n",
       "    </tr>\n",
       "    <tr>\n",
       "      <th></th>\n",
       "      <th>Unnamed: 0_level_1</th>\n",
       "      <th>Unnamed: 1_level_1</th>\n",
       "      <th>ALL</th>\n",
       "      <th>SC</th>\n",
       "      <th>ST</th>\n",
       "      <th>All</th>\n",
       "      <th>SC</th>\n",
       "      <th>ST</th>\n",
       "      <th>Unnamed: 8_level_1</th>\n",
       "      <th>M</th>\n",
       "      <th>F</th>\n",
       "      <th>T</th>\n",
       "      <th>Unnamed: 12_level_1</th>\n",
       "      <th>Unnamed: 13_level_1</th>\n",
       "    </tr>\n",
       "  </thead>\n",
       "  <tbody>\n",
       "    <tr>\n",
       "      <th>0</th>\n",
       "      <td>NaN</td>\n",
       "      <td>6-10 Years</td>\n",
       "      <td>130896.000</td>\n",
       "      <td>23324.000</td>\n",
       "      <td>13019.533</td>\n",
       "      <td>130647.971</td>\n",
       "      <td>23286.000</td>\n",
       "      <td>12970.798</td>\n",
       "      <td>Primary                                       ...</td>\n",
       "      <td>68583442.0</td>\n",
       "      <td>62560241.0</td>\n",
       "      <td>131143683.0</td>\n",
       "      <td>NaN</td>\n",
       "      <td>NaN</td>\n",
       "    </tr>\n",
       "    <tr>\n",
       "      <th>1</th>\n",
       "      <td>NaN</td>\n",
       "      <td>11-13 Years</td>\n",
       "      <td>75223.000</td>\n",
       "      <td>13259.363</td>\n",
       "      <td>7194.112</td>\n",
       "      <td>74412.746</td>\n",
       "      <td>13127.000</td>\n",
       "      <td>7079.001</td>\n",
       "      <td>Upper Primary                          (VI-VIII)</td>\n",
       "      <td>39946948.0</td>\n",
       "      <td>36097179.0</td>\n",
       "      <td>76044127.0</td>\n",
       "      <td>NaN</td>\n",
       "      <td>NaN</td>\n",
       "    </tr>\n",
       "    <tr>\n",
       "      <th>2</th>\n",
       "      <td>NaN</td>\n",
       "      <td>6-13 Years</td>\n",
       "      <td>206119.000</td>\n",
       "      <td>36583.363</td>\n",
       "      <td>20213.645</td>\n",
       "      <td>205060.717</td>\n",
       "      <td>36413.000</td>\n",
       "      <td>20049.799</td>\n",
       "      <td>Elementary                                    ...</td>\n",
       "      <td>108530390.0</td>\n",
       "      <td>98657420.0</td>\n",
       "      <td>207187810.0</td>\n",
       "      <td>NaN</td>\n",
       "      <td>NaN</td>\n",
       "    </tr>\n",
       "    <tr>\n",
       "      <th>3</th>\n",
       "      <td>NaN</td>\n",
       "      <td>14-15 Years</td>\n",
       "      <td>50244.000</td>\n",
       "      <td>8802.855</td>\n",
       "      <td>4610.000</td>\n",
       "      <td>49801.492</td>\n",
       "      <td>8724.077</td>\n",
       "      <td>4558.845</td>\n",
       "      <td>Secondary                               (IX-X)</td>\n",
       "      <td>26706389.0</td>\n",
       "      <td>23984866.0</td>\n",
       "      <td>50691255.0</td>\n",
       "      <td>NaN</td>\n",
       "      <td>NaN</td>\n",
       "    </tr>\n",
       "    <tr>\n",
       "      <th>4</th>\n",
       "      <td>NaN</td>\n",
       "      <td>6-15 Years</td>\n",
       "      <td>256363.000</td>\n",
       "      <td>45386.218</td>\n",
       "      <td>24823.645</td>\n",
       "      <td>254862.209</td>\n",
       "      <td>45137.077</td>\n",
       "      <td>24608.644</td>\n",
       "      <td>I-X</td>\n",
       "      <td>135236779.0</td>\n",
       "      <td>122642286.0</td>\n",
       "      <td>257879065.0</td>\n",
       "      <td>NaN</td>\n",
       "      <td>NaN</td>\n",
       "    </tr>\n",
       "    <tr>\n",
       "      <th>5</th>\n",
       "      <td>NaN</td>\n",
       "      <td>16-17 Years</td>\n",
       "      <td>45084.773</td>\n",
       "      <td>7748.797</td>\n",
       "      <td>3963.136</td>\n",
       "      <td>44734.006</td>\n",
       "      <td>7679.619</td>\n",
       "      <td>3937.000</td>\n",
       "      <td>Sr.  Secondary                        ( XI-XII)</td>\n",
       "      <td>24139427.0</td>\n",
       "      <td>21299011.0</td>\n",
       "      <td>45438438.0</td>\n",
       "      <td>NaN</td>\n",
       "      <td>NaN</td>\n",
       "    </tr>\n",
       "    <tr>\n",
       "      <th>6</th>\n",
       "      <td>NaN</td>\n",
       "      <td>6-17 Years</td>\n",
       "      <td>301447.773</td>\n",
       "      <td>53135.015</td>\n",
       "      <td>28786.781</td>\n",
       "      <td>299596.215</td>\n",
       "      <td>52816.696</td>\n",
       "      <td>28545.644</td>\n",
       "      <td>I-XII</td>\n",
       "      <td>50845816.0</td>\n",
       "      <td>45283877.0</td>\n",
       "      <td>96129693.0</td>\n",
       "      <td>IX-XII</td>\n",
       "      <td>NaN</td>\n",
       "    </tr>\n",
       "    <tr>\n",
       "      <th>7</th>\n",
       "      <td>NaN</td>\n",
       "      <td>18-23 Years</td>\n",
       "      <td>140802.000</td>\n",
       "      <td>24077.000</td>\n",
       "      <td>11926.000</td>\n",
       "      <td>141046.000</td>\n",
       "      <td>24106.000</td>\n",
       "      <td>11949.000</td>\n",
       "      <td>Higher Education</td>\n",
       "      <td>73294003.0</td>\n",
       "      <td>67264696.0</td>\n",
       "      <td>140558699.0</td>\n",
       "      <td>NaN</td>\n",
       "      <td>NaN</td>\n",
       "    </tr>\n",
       "    <tr>\n",
       "      <th>8</th>\n",
       "      <td>NaN</td>\n",
       "      <td>Data Source: Ministry of Human Resource Develo...</td>\n",
       "      <td>NaN</td>\n",
       "      <td>NaN</td>\n",
       "      <td>NaN</td>\n",
       "      <td>NaN</td>\n",
       "      <td>NaN</td>\n",
       "      <td>NaN</td>\n",
       "      <td>NaN</td>\n",
       "      <td>NaN</td>\n",
       "      <td>NaN</td>\n",
       "      <td>NaN</td>\n",
       "      <td>NaN</td>\n",
       "      <td>NaN</td>\n",
       "    </tr>\n",
       "    <tr>\n",
       "      <th>9</th>\n",
       "      <td>NaN</td>\n",
       "      <td>NaN</td>\n",
       "      <td>NaN</td>\n",
       "      <td>NaN</td>\n",
       "      <td>NaN</td>\n",
       "      <td>NaN</td>\n",
       "      <td>NaN</td>\n",
       "      <td>NaN</td>\n",
       "      <td>NaN</td>\n",
       "      <td>NaN</td>\n",
       "      <td>NaN</td>\n",
       "      <td>NaN</td>\n",
       "      <td>NaN</td>\n",
       "      <td></td>\n",
       "    </tr>\n",
       "    <tr>\n",
       "      <th>10</th>\n",
       "      <td>NaN</td>\n",
       "      <td>NaN</td>\n",
       "      <td>NaN</td>\n",
       "      <td>NaN</td>\n",
       "      <td>NaN</td>\n",
       "      <td>NaN</td>\n",
       "      <td>NaN</td>\n",
       "      <td>NaN</td>\n",
       "      <td>NaN</td>\n",
       "      <td>NaN</td>\n",
       "      <td>NaN</td>\n",
       "      <td>NaN</td>\n",
       "      <td>NaN</td>\n",
       "      <td></td>\n",
       "    </tr>\n",
       "  </tbody>\n",
       "</table>\n",
       "</div>"
      ],
      "text/plain": [
       "   Unnamed: 0_level_0                                          Age group  \\\n",
       "   Unnamed: 0_level_1                                 Unnamed: 1_level_1   \n",
       "0                 NaN                                         6-10 Years   \n",
       "1                 NaN                                        11-13 Years   \n",
       "2                 NaN                                         6-13 Years   \n",
       "3                 NaN                                        14-15 Years   \n",
       "4                 NaN                                         6-15 Years   \n",
       "5                 NaN                                        16-17 Years   \n",
       "6                 NaN                                         6-17 Years   \n",
       "7                 NaN                                        18-23 Years   \n",
       "8                 NaN  Data Source: Ministry of Human Resource Develo...   \n",
       "9                 NaN                                                NaN   \n",
       "10                NaN                                                NaN   \n",
       "\n",
       "          2013 Unnamed: 3_level_0 Unnamed: 4_level_0        2014  \\\n",
       "           ALL                 SC                 ST         All   \n",
       "0   130896.000          23324.000          13019.533  130647.971   \n",
       "1    75223.000          13259.363           7194.112   74412.746   \n",
       "2   206119.000          36583.363          20213.645  205060.717   \n",
       "3    50244.000           8802.855           4610.000   49801.492   \n",
       "4   256363.000          45386.218          24823.645  254862.209   \n",
       "5    45084.773           7748.797           3963.136   44734.006   \n",
       "6   301447.773          53135.015          28786.781  299596.215   \n",
       "7   140802.000          24077.000          11926.000  141046.000   \n",
       "8          NaN                NaN                NaN         NaN   \n",
       "9          NaN                NaN                NaN         NaN   \n",
       "10         NaN                NaN                NaN         NaN   \n",
       "\n",
       "   Unnamed: 6_level_0 Unnamed: 7_level_0  \\\n",
       "                   SC                 ST   \n",
       "0           23286.000          12970.798   \n",
       "1           13127.000           7079.001   \n",
       "2           36413.000          20049.799   \n",
       "3            8724.077           4558.845   \n",
       "4           45137.077          24608.644   \n",
       "5            7679.619           3937.000   \n",
       "6           52816.696          28545.644   \n",
       "7           24106.000          11949.000   \n",
       "8                 NaN                NaN   \n",
       "9                 NaN                NaN   \n",
       "10                NaN                NaN   \n",
       "\n",
       "                     Corresponding Level of Education         2012  \\\n",
       "                                   Unnamed: 8_level_1            M   \n",
       "0   Primary                                       ...   68583442.0   \n",
       "1    Upper Primary                          (VI-VIII)   39946948.0   \n",
       "2   Elementary                                    ...  108530390.0   \n",
       "3      Secondary                               (IX-X)   26706389.0   \n",
       "4                                                 I-X  135236779.0   \n",
       "5     Sr.  Secondary                        ( XI-XII)   24139427.0   \n",
       "6                                               I-XII   50845816.0   \n",
       "7                                    Higher Education   73294003.0   \n",
       "8                                                 NaN          NaN   \n",
       "9                                                 NaN          NaN   \n",
       "10                                                NaN          NaN   \n",
       "\n",
       "   Unnamed: 10_level_0 Unnamed: 11_level_0 Unnamed: 12_level_0  \\\n",
       "                     F                   T Unnamed: 12_level_1   \n",
       "0           62560241.0         131143683.0                 NaN   \n",
       "1           36097179.0          76044127.0                 NaN   \n",
       "2           98657420.0         207187810.0                 NaN   \n",
       "3           23984866.0          50691255.0                 NaN   \n",
       "4          122642286.0         257879065.0                 NaN   \n",
       "5           21299011.0          45438438.0                 NaN   \n",
       "6           45283877.0          96129693.0              IX-XII   \n",
       "7           67264696.0         140558699.0                 NaN   \n",
       "8                  NaN                 NaN                 NaN   \n",
       "9                  NaN                 NaN                 NaN   \n",
       "10                 NaN                 NaN                 NaN   \n",
       "\n",
       "   Unnamed: 13_level_0  \n",
       "   Unnamed: 13_level_1  \n",
       "0                  NaN  \n",
       "1                  NaN  \n",
       "2                  NaN  \n",
       "3                  NaN  \n",
       "4                  NaN  \n",
       "5                  NaN  \n",
       "6                  NaN  \n",
       "7                  NaN  \n",
       "8                  NaN  \n",
       "9                       \n",
       "10                      "
      ]
     },
     "execution_count": 65,
     "metadata": {},
     "output_type": "execute_result"
    }
   ],
   "source": [
    "df"
   ]
  },
  {
   "cell_type": "code",
   "execution_count": null,
   "metadata": {
    "collapsed": true
   },
   "outputs": [],
   "source": []
  }
 ],
 "metadata": {
  "kernelspec": {
   "display_name": "Python 3",
   "language": "python",
   "name": "python3"
  },
  "language_info": {
   "codemirror_mode": {
    "name": "ipython",
    "version": 3
   },
   "file_extension": ".py",
   "mimetype": "text/x-python",
   "name": "python",
   "nbconvert_exporter": "python",
   "pygments_lexer": "ipython3",
   "version": "3.5.0"
  }
 },
 "nbformat": 4,
 "nbformat_minor": 2
}
