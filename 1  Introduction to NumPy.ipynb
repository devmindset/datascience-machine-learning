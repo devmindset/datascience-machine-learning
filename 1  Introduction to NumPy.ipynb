{
 "cells": [
  {
   "cell_type": "markdown",
   "metadata": {},
   "source": [
    "### Introduction\n",
    "* Fast Mathematical Computational Library\n",
    "* General purpose library available in Python is slow\n",
    "* Specialized for doing mathematical computation\n",
    "* Internally implemented using C - so fast\n",
    "* High dimensional Computation\n",
    "* Inbuilt utilities\n",
    "* Mutabale"
   ]
  },
  {
   "cell_type": "markdown",
   "metadata": {},
   "source": [
    "#### NumPy Creation\n",
    "* Create from list\n",
    "* Create zeros\n",
    "* Create ones\n",
    "* Fill\n",
    "* range\n",
    "* random"
   ]
  },
  {
   "cell_type": "code",
   "execution_count": 1,
   "metadata": {
    "collapsed": true
   },
   "outputs": [],
   "source": []
  },
  {
   "cell_type": "code",
   "execution_count": 2,
   "metadata": {
    "collapsed": true
   },
   "outputs": [],
   "source": [
    "import numpy as np"
   ]
  },
  {
   "cell_type": "code",
   "execution_count": 5,
   "metadata": {
    "collapsed": true
   },
   "outputs": [],
   "source": [
    "l = [1,2,3,4,5]\n",
    "n1 = np.array(l)"
   ]
  },
  {
   "cell_type": "code",
   "execution_count": 6,
   "metadata": {},
   "outputs": [],
   "source": [
    "n2 = np.zeros(10,dtype=np.int)"
   ]
  },
  {
   "cell_type": "code",
   "execution_count": 7,
   "metadata": {
    "collapsed": true
   },
   "outputs": [],
   "source": [
    "n3 = np.ones(10,dtype=np.float)"
   ]
  },
  {
   "cell_type": "code",
   "execution_count": 9,
   "metadata": {},
   "outputs": [],
   "source": [
    "n4 = np.full(10,111)"
   ]
  },
  {
   "cell_type": "code",
   "execution_count": 10,
   "metadata": {},
   "outputs": [
    {
     "data": {
      "text/plain": [
       "array([111, 111, 111, 111, 111, 111, 111, 111, 111, 111])"
      ]
     },
     "execution_count": 10,
     "metadata": {},
     "output_type": "execute_result"
    }
   ],
   "source": [
    "n4"
   ]
  },
  {
   "cell_type": "code",
   "execution_count": 11,
   "metadata": {},
   "outputs": [
    {
     "data": {
      "text/plain": [
       "array([10, 15, 20, 25, 30, 35, 40, 45, 50, 55, 60, 65, 70, 75, 80, 85, 90,\n",
       "       95])"
      ]
     },
     "execution_count": 11,
     "metadata": {},
     "output_type": "execute_result"
    }
   ],
   "source": [
    "np.arange(10,100,5)"
   ]
  },
  {
   "cell_type": "code",
   "execution_count": 15,
   "metadata": {},
   "outputs": [],
   "source": [
    "d = np.ones((3,3,3))"
   ]
  },
  {
   "cell_type": "code",
   "execution_count": 19,
   "metadata": {},
   "outputs": [
    {
     "data": {
      "text/plain": [
       "1.0"
      ]
     },
     "execution_count": 19,
     "metadata": {},
     "output_type": "execute_result"
    }
   ],
   "source": [
    "d[1][1][1]"
   ]
  },
  {
   "cell_type": "code",
   "execution_count": 20,
   "metadata": {},
   "outputs": [
    {
     "data": {
      "text/plain": [
       "array([1, 2, 3, 4, 5])"
      ]
     },
     "execution_count": 20,
     "metadata": {},
     "output_type": "execute_result"
    }
   ],
   "source": [
    "n1"
   ]
  },
  {
   "cell_type": "code",
   "execution_count": 21,
   "metadata": {},
   "outputs": [
    {
     "data": {
      "text/plain": [
       "1"
      ]
     },
     "execution_count": 21,
     "metadata": {},
     "output_type": "execute_result"
    }
   ],
   "source": [
    "n1[0]"
   ]
  },
  {
   "cell_type": "code",
   "execution_count": 22,
   "metadata": {},
   "outputs": [
    {
     "data": {
      "text/plain": [
       "5"
      ]
     },
     "execution_count": 22,
     "metadata": {},
     "output_type": "execute_result"
    }
   ],
   "source": [
    "n1[-1]"
   ]
  },
  {
   "cell_type": "code",
   "execution_count": 23,
   "metadata": {},
   "outputs": [
    {
     "data": {
      "text/plain": [
       "5"
      ]
     },
     "execution_count": 23,
     "metadata": {},
     "output_type": "execute_result"
    }
   ],
   "source": [
    "n1[4]"
   ]
  },
  {
   "cell_type": "code",
   "execution_count": 26,
   "metadata": {},
   "outputs": [
    {
     "data": {
      "text/plain": [
       "array([ 0.67149444,  0.4677635 ,  0.17438498,  0.00247025,  0.83753791,\n",
       "        0.58560594,  0.26906071,  0.42705933,  0.9750533 ,  0.02834121])"
      ]
     },
     "execution_count": 26,
     "metadata": {},
     "output_type": "execute_result"
    }
   ],
   "source": [
    "np.random.rand(10)"
   ]
  },
  {
   "cell_type": "code",
   "execution_count": 27,
   "metadata": {},
   "outputs": [
    {
     "data": {
      "text/plain": [
       "array([[8, 5, 9],\n",
       "       [2, 3, 5],\n",
       "       [5, 1, 6]])"
      ]
     },
     "execution_count": 27,
     "metadata": {},
     "output_type": "execute_result"
    }
   ],
   "source": [
    "np.random.randint(0,10,size=(3,3))"
   ]
  },
  {
   "cell_type": "code",
   "execution_count": 28,
   "metadata": {},
   "outputs": [
    {
     "data": {
      "text/plain": [
       "array([12, 15,  9, 15,  7, 10,  5,  9, 17,  9,  8, 12,  5, 11,  9, 11, 11,\n",
       "        5,  9, 14, 12,  8,  2,  6,  4, 14,  3,  7,  3, 16,  7,  5, 14, 15,\n",
       "       14,  9,  6, 13,  6,  4,  8, 11,  9, 19, 17,  3, 11,  2, 16,  7, 18,\n",
       "        3, 17,  4, 12,  7, 14, 10, 11,  5, 14, 14, 14,  7,  8,  2, 17,  3,\n",
       "       11,  9, 13,  3, 12, 15, 11, 14, 18, 17,  7, 19, 19, 19, 13,  5, 15,\n",
       "        4,  6,  3,  7, 18, 11,  9, 12, 10, 19,  3, 15, 14, 19,  6])"
      ]
     },
     "execution_count": 28,
     "metadata": {},
     "output_type": "execute_result"
    }
   ],
   "source": [
    "np.random.randint(2,20,size=100)"
   ]
  },
  {
   "cell_type": "markdown",
   "metadata": {},
   "source": [
    "### Accessing elements"
   ]
  },
  {
   "cell_type": "code",
   "execution_count": 29,
   "metadata": {
    "collapsed": true
   },
   "outputs": [],
   "source": [
    "data = np.random.randint(2,20,size=(5,5))"
   ]
  },
  {
   "cell_type": "code",
   "execution_count": 30,
   "metadata": {},
   "outputs": [
    {
     "data": {
      "text/plain": [
       "array([[ 5,  7,  7,  7,  2],\n",
       "       [19, 15, 15, 12, 19],\n",
       "       [17, 13, 17, 12,  9],\n",
       "       [16,  4, 11,  2, 11],\n",
       "       [10, 14,  4,  7, 19]])"
      ]
     },
     "execution_count": 30,
     "metadata": {},
     "output_type": "execute_result"
    }
   ],
   "source": [
    "data"
   ]
  },
  {
   "cell_type": "code",
   "execution_count": 31,
   "metadata": {},
   "outputs": [
    {
     "data": {
      "text/plain": [
       "array([5, 7, 7, 7, 2])"
      ]
     },
     "execution_count": 31,
     "metadata": {},
     "output_type": "execute_result"
    }
   ],
   "source": [
    "data[0]"
   ]
  },
  {
   "cell_type": "code",
   "execution_count": 32,
   "metadata": {},
   "outputs": [
    {
     "data": {
      "text/plain": [
       "5"
      ]
     },
     "execution_count": 32,
     "metadata": {},
     "output_type": "execute_result"
    }
   ],
   "source": [
    "data[0][0]"
   ]
  },
  {
   "cell_type": "code",
   "execution_count": 33,
   "metadata": {},
   "outputs": [
    {
     "data": {
      "text/plain": [
       "array([[ 5,  7,  7,  7,  2],\n",
       "       [19, 15, 15, 12, 19]])"
      ]
     },
     "execution_count": 33,
     "metadata": {},
     "output_type": "execute_result"
    }
   ],
   "source": [
    "data[:2]"
   ]
  },
  {
   "cell_type": "code",
   "execution_count": 34,
   "metadata": {},
   "outputs": [
    {
     "data": {
      "text/plain": [
       "array([[17, 13, 17, 12,  9],\n",
       "       [16,  4, 11,  2, 11],\n",
       "       [10, 14,  4,  7, 19]])"
      ]
     },
     "execution_count": 34,
     "metadata": {},
     "output_type": "execute_result"
    }
   ],
   "source": [
    "data[2:]"
   ]
  },
  {
   "cell_type": "code",
   "execution_count": 35,
   "metadata": {},
   "outputs": [
    {
     "data": {
      "text/plain": [
       "array([ 7, 15, 13,  4, 14])"
      ]
     },
     "execution_count": 35,
     "metadata": {},
     "output_type": "execute_result"
    }
   ],
   "source": [
    "data[:,1]"
   ]
  },
  {
   "cell_type": "code",
   "execution_count": 38,
   "metadata": {},
   "outputs": [
    {
     "data": {
      "text/plain": [
       "array([[ 7,  7,  7],\n",
       "       [15, 15, 12],\n",
       "       [13, 17, 12],\n",
       "       [ 4, 11,  2],\n",
       "       [14,  4,  7]])"
      ]
     },
     "execution_count": 38,
     "metadata": {},
     "output_type": "execute_result"
    }
   ],
   "source": [
    "data[:,1:4]"
   ]
  },
  {
   "cell_type": "code",
   "execution_count": 39,
   "metadata": {},
   "outputs": [
    {
     "data": {
      "text/plain": [
       "array([[ 5,  7,  7,  7,  2],\n",
       "       [19, 15, 15, 12, 19],\n",
       "       [17, 13, 17, 12,  9],\n",
       "       [16,  4, 11,  2, 11],\n",
       "       [10, 14,  4,  7, 19]])"
      ]
     },
     "execution_count": 39,
     "metadata": {},
     "output_type": "execute_result"
    }
   ],
   "source": [
    "data[:,:]"
   ]
  },
  {
   "cell_type": "code",
   "execution_count": 40,
   "metadata": {},
   "outputs": [
    {
     "data": {
      "text/plain": [
       "array([[13, 17],\n",
       "       [ 4, 11]])"
      ]
     },
     "execution_count": 40,
     "metadata": {},
     "output_type": "execute_result"
    }
   ],
   "source": [
    "data[2:4, 1:3]"
   ]
  },
  {
   "cell_type": "code",
   "execution_count": 45,
   "metadata": {
    "collapsed": true
   },
   "outputs": [],
   "source": [
    "data = np.random.randint(2,20,size=(3,3,3))"
   ]
  },
  {
   "cell_type": "code",
   "execution_count": 46,
   "metadata": {},
   "outputs": [
    {
     "data": {
      "text/plain": [
       "array([[[17, 15, 17],\n",
       "        [15,  5,  3],\n",
       "        [ 3,  4,  9]],\n",
       "\n",
       "       [[ 2,  2,  9],\n",
       "        [14,  8,  3],\n",
       "        [ 4,  4,  8]],\n",
       "\n",
       "       [[ 5,  8, 19],\n",
       "        [ 8, 13, 12],\n",
       "        [14, 13,  4]]])"
      ]
     },
     "execution_count": 46,
     "metadata": {},
     "output_type": "execute_result"
    }
   ],
   "source": [
    "data"
   ]
  },
  {
   "cell_type": "code",
   "execution_count": 51,
   "metadata": {},
   "outputs": [
    {
     "data": {
      "text/plain": [
       "array([[17, 15, 17],\n",
       "       [15,  5,  3],\n",
       "       [ 3,  4,  9]])"
      ]
     },
     "execution_count": 51,
     "metadata": {},
     "output_type": "execute_result"
    }
   ],
   "source": [
    "data[0,:,:]"
   ]
  },
  {
   "cell_type": "code",
   "execution_count": 54,
   "metadata": {
    "collapsed": true
   },
   "outputs": [],
   "source": [
    "data[0][0] = [99,11,11]"
   ]
  },
  {
   "cell_type": "code",
   "execution_count": 55,
   "metadata": {},
   "outputs": [
    {
     "data": {
      "text/plain": [
       "array([[[99, 11, 11],\n",
       "        [15,  5,  3],\n",
       "        [ 3,  4,  9]],\n",
       "\n",
       "       [[ 2,  2,  9],\n",
       "        [14,  8,  3],\n",
       "        [ 4,  4,  8]],\n",
       "\n",
       "       [[ 5,  8, 19],\n",
       "        [ 8, 13, 12],\n",
       "        [14, 13,  4]]])"
      ]
     },
     "execution_count": 55,
     "metadata": {},
     "output_type": "execute_result"
    }
   ],
   "source": [
    "data"
   ]
  },
  {
   "cell_type": "markdown",
   "metadata": {},
   "source": [
    "### Shape, Size & Dimension"
   ]
  },
  {
   "cell_type": "code",
   "execution_count": 56,
   "metadata": {},
   "outputs": [
    {
     "data": {
      "text/plain": [
       "(3, 3, 3)"
      ]
     },
     "execution_count": 56,
     "metadata": {},
     "output_type": "execute_result"
    }
   ],
   "source": [
    "data.shape"
   ]
  },
  {
   "cell_type": "code",
   "execution_count": 57,
   "metadata": {},
   "outputs": [
    {
     "data": {
      "text/plain": [
       "3"
      ]
     },
     "execution_count": 57,
     "metadata": {},
     "output_type": "execute_result"
    }
   ],
   "source": [
    "data.ndim"
   ]
  },
  {
   "cell_type": "code",
   "execution_count": 58,
   "metadata": {},
   "outputs": [
    {
     "data": {
      "text/plain": [
       "27"
      ]
     },
     "execution_count": 58,
     "metadata": {},
     "output_type": "execute_result"
    }
   ],
   "source": [
    "data.size"
   ]
  },
  {
   "cell_type": "code",
   "execution_count": 59,
   "metadata": {
    "collapsed": true
   },
   "outputs": [],
   "source": [
    "data = np.random.randint(2,20,size=(8,8))"
   ]
  },
  {
   "cell_type": "code",
   "execution_count": 60,
   "metadata": {},
   "outputs": [
    {
     "data": {
      "text/plain": [
       "array([[18, 11,  3, 13, 14,  2, 12, 16],\n",
       "       [19,  4,  7,  2, 11,  2, 12, 10],\n",
       "       [10,  5, 17, 17, 13,  9,  3, 17],\n",
       "       [13,  5, 14,  4,  3,  4, 16,  8],\n",
       "       [ 4, 16, 19, 14,  9, 11, 17, 14],\n",
       "       [ 2,  8,  9, 18,  7, 17, 18, 10],\n",
       "       [ 6, 17, 17,  2,  5, 18,  4,  7],\n",
       "       [ 2, 19,  8, 12, 17,  9, 19, 19]])"
      ]
     },
     "execution_count": 60,
     "metadata": {},
     "output_type": "execute_result"
    }
   ],
   "source": [
    "data"
   ]
  },
  {
   "cell_type": "code",
   "execution_count": 63,
   "metadata": {},
   "outputs": [
    {
     "name": "stdout",
     "output_type": "stream",
     "text": [
      "Object `shape` not found.\n"
     ]
    }
   ],
   "source": [
    "data.reshape((2,2,2,4,2)).shape?"
   ]
  },
  {
   "cell_type": "code",
   "execution_count": 64,
   "metadata": {},
   "outputs": [
    {
     "data": {
      "text/plain": [
       "(2, 2, 2, 4, 2)"
      ]
     },
     "execution_count": 64,
     "metadata": {},
     "output_type": "execute_result"
    }
   ],
   "source": [
    "data.reshape((2,2,2,4,2)).shape"
   ]
  },
  {
   "cell_type": "code",
   "execution_count": 65,
   "metadata": {
    "collapsed": true
   },
   "outputs": [],
   "source": [
    "d = np.random.randint(1,100,size=10)"
   ]
  },
  {
   "cell_type": "code",
   "execution_count": 66,
   "metadata": {},
   "outputs": [
    {
     "data": {
      "text/plain": [
       "array([58, 19, 50, 61, 27, 62, 48, 50, 62, 18])"
      ]
     },
     "execution_count": 66,
     "metadata": {},
     "output_type": "execute_result"
    }
   ],
   "source": [
    "d"
   ]
  },
  {
   "cell_type": "code",
   "execution_count": 67,
   "metadata": {
    "collapsed": true
   },
   "outputs": [],
   "source": [
    "e = d.reshape((10,1))"
   ]
  },
  {
   "cell_type": "code",
   "execution_count": 69,
   "metadata": {},
   "outputs": [
    {
     "data": {
      "text/plain": [
       "array([[58],\n",
       "       [19],\n",
       "       [50],\n",
       "       [61],\n",
       "       [27],\n",
       "       [62],\n",
       "       [48],\n",
       "       [50],\n",
       "       [62],\n",
       "       [18]])"
      ]
     },
     "execution_count": 69,
     "metadata": {},
     "output_type": "execute_result"
    }
   ],
   "source": [
    "e"
   ]
  },
  {
   "cell_type": "code",
   "execution_count": 70,
   "metadata": {
    "collapsed": true
   },
   "outputs": [],
   "source": [
    "f = d.reshape((1,10))"
   ]
  },
  {
   "cell_type": "code",
   "execution_count": 72,
   "metadata": {},
   "outputs": [
    {
     "data": {
      "text/plain": [
       "2"
      ]
     },
     "execution_count": 72,
     "metadata": {},
     "output_type": "execute_result"
    }
   ],
   "source": [
    "f.ndim"
   ]
  },
  {
   "cell_type": "code",
   "execution_count": 76,
   "metadata": {},
   "outputs": [
    {
     "data": {
      "text/plain": [
       "array([[[58]],\n",
       "\n",
       "       [[19]],\n",
       "\n",
       "       [[50]],\n",
       "\n",
       "       [[61]],\n",
       "\n",
       "       [[27]],\n",
       "\n",
       "       [[62]],\n",
       "\n",
       "       [[48]],\n",
       "\n",
       "       [[50]],\n",
       "\n",
       "       [[62]],\n",
       "\n",
       "       [[18]]])"
      ]
     },
     "execution_count": 76,
     "metadata": {},
     "output_type": "execute_result"
    }
   ],
   "source": [
    "d[:,np.newaxis,np.newaxis]"
   ]
  },
  {
   "cell_type": "code",
   "execution_count": 75,
   "metadata": {},
   "outputs": [
    {
     "data": {
      "text/plain": [
       "array([58, 19, 50, 61, 27, 62, 48, 50, 62, 18])"
      ]
     },
     "execution_count": 75,
     "metadata": {},
     "output_type": "execute_result"
    }
   ],
   "source": [
    "d"
   ]
  },
  {
   "cell_type": "code",
   "execution_count": 77,
   "metadata": {
    "collapsed": true
   },
   "outputs": [],
   "source": [
    "data = np.random.randint(2,20,size=(8,8))"
   ]
  },
  {
   "cell_type": "code",
   "execution_count": 80,
   "metadata": {},
   "outputs": [
    {
     "data": {
      "text/plain": [
       "array([[[15,  5, 13, 16, 13, 15, 15, 15]],\n",
       "\n",
       "       [[ 3, 15, 11,  8, 18, 14, 15, 13]],\n",
       "\n",
       "       [[18, 16,  6,  9, 15,  9, 12,  3]],\n",
       "\n",
       "       [[ 5, 15,  2, 19, 19,  9,  2,  5]],\n",
       "\n",
       "       [[ 2, 13,  3, 17, 13,  2,  7, 14]],\n",
       "\n",
       "       [[12,  9, 16,  6,  7,  6,  3, 13]],\n",
       "\n",
       "       [[ 4, 12, 11,  5,  4, 13, 14, 16]],\n",
       "\n",
       "       [[ 6,  7,  8, 13, 15,  8,  2,  2]]])"
      ]
     },
     "execution_count": 80,
     "metadata": {},
     "output_type": "execute_result"
    }
   ],
   "source": [
    "data.reshape((8,1,8))"
   ]
  },
  {
   "cell_type": "code",
   "execution_count": 81,
   "metadata": {},
   "outputs": [
    {
     "data": {
      "text/plain": [
       "array([[[15],\n",
       "        [ 5],\n",
       "        [13],\n",
       "        [16],\n",
       "        [13],\n",
       "        [15],\n",
       "        [15],\n",
       "        [15]],\n",
       "\n",
       "       [[ 3],\n",
       "        [15],\n",
       "        [11],\n",
       "        [ 8],\n",
       "        [18],\n",
       "        [14],\n",
       "        [15],\n",
       "        [13]],\n",
       "\n",
       "       [[18],\n",
       "        [16],\n",
       "        [ 6],\n",
       "        [ 9],\n",
       "        [15],\n",
       "        [ 9],\n",
       "        [12],\n",
       "        [ 3]],\n",
       "\n",
       "       [[ 5],\n",
       "        [15],\n",
       "        [ 2],\n",
       "        [19],\n",
       "        [19],\n",
       "        [ 9],\n",
       "        [ 2],\n",
       "        [ 5]],\n",
       "\n",
       "       [[ 2],\n",
       "        [13],\n",
       "        [ 3],\n",
       "        [17],\n",
       "        [13],\n",
       "        [ 2],\n",
       "        [ 7],\n",
       "        [14]],\n",
       "\n",
       "       [[12],\n",
       "        [ 9],\n",
       "        [16],\n",
       "        [ 6],\n",
       "        [ 7],\n",
       "        [ 6],\n",
       "        [ 3],\n",
       "        [13]],\n",
       "\n",
       "       [[ 4],\n",
       "        [12],\n",
       "        [11],\n",
       "        [ 5],\n",
       "        [ 4],\n",
       "        [13],\n",
       "        [14],\n",
       "        [16]],\n",
       "\n",
       "       [[ 6],\n",
       "        [ 7],\n",
       "        [ 8],\n",
       "        [13],\n",
       "        [15],\n",
       "        [ 8],\n",
       "        [ 2],\n",
       "        [ 2]]])"
      ]
     },
     "execution_count": 81,
     "metadata": {},
     "output_type": "execute_result"
    }
   ],
   "source": [
    "data.reshape((8,8,1))"
   ]
  },
  {
   "cell_type": "code",
   "execution_count": 82,
   "metadata": {},
   "outputs": [
    {
     "data": {
      "text/plain": [
       "array([[[15,  5, 13, 16, 13, 15, 15, 15],\n",
       "        [ 3, 15, 11,  8, 18, 14, 15, 13],\n",
       "        [18, 16,  6,  9, 15,  9, 12,  3],\n",
       "        [ 5, 15,  2, 19, 19,  9,  2,  5],\n",
       "        [ 2, 13,  3, 17, 13,  2,  7, 14],\n",
       "        [12,  9, 16,  6,  7,  6,  3, 13],\n",
       "        [ 4, 12, 11,  5,  4, 13, 14, 16],\n",
       "        [ 6,  7,  8, 13, 15,  8,  2,  2]]])"
      ]
     },
     "execution_count": 82,
     "metadata": {},
     "output_type": "execute_result"
    }
   ],
   "source": [
    "data.reshape((1,8,8))"
   ]
  },
  {
   "cell_type": "code",
   "execution_count": null,
   "metadata": {
    "collapsed": true
   },
   "outputs": [],
   "source": []
  }
 ],
 "metadata": {
  "kernelspec": {
   "display_name": "Python 3",
   "language": "python",
   "name": "python3"
  },
  "language_info": {
   "codemirror_mode": {
    "name": "ipython",
    "version": 3
   },
   "file_extension": ".py",
   "mimetype": "text/x-python",
   "name": "python",
   "nbconvert_exporter": "python",
   "pygments_lexer": "ipython3",
   "version": "3.5.4"
  }
 },
 "nbformat": 4,
 "nbformat_minor": 2
}
