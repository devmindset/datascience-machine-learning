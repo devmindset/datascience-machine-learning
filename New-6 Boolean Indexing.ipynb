{
 "cells": [
  {
   "cell_type": "code",
   "execution_count": 1,
   "metadata": {
    "collapsed": true
   },
   "outputs": [],
   "source": [
    "import pandas as pd\n",
    "stock_data = pd.read_csv('MoreStock.csv')"
   ]
  },
  {
   "cell_type": "code",
   "execution_count": 3,
   "metadata": {},
   "outputs": [
    {
     "data": {
      "text/html": [
       "<div>\n",
       "<table border=\"1\" class=\"dataframe\">\n",
       "  <thead>\n",
       "    <tr style=\"text-align: right;\">\n",
       "      <th></th>\n",
       "      <th>TradingDate</th>\n",
       "      <th>PriceType</th>\n",
       "      <th>Nasdaq</th>\n",
       "      <th>S&amp;P 500</th>\n",
       "      <th>Russell 2000</th>\n",
       "    </tr>\n",
       "  </thead>\n",
       "  <tbody>\n",
       "    <tr>\n",
       "      <th>1</th>\n",
       "      <td>2014/02/21</td>\n",
       "      <td>close</td>\n",
       "      <td>4263.41</td>\n",
       "      <td>1836.25</td>\n",
       "      <td>1164.63</td>\n",
       "    </tr>\n",
       "    <tr>\n",
       "      <th>4</th>\n",
       "      <td>2014/02/24</td>\n",
       "      <td>close</td>\n",
       "      <td>4292.97</td>\n",
       "      <td>1847.61</td>\n",
       "      <td>1174.55</td>\n",
       "    </tr>\n",
       "    <tr>\n",
       "      <th>7</th>\n",
       "      <td>2014/02/25</td>\n",
       "      <td>close</td>\n",
       "      <td>4287.59</td>\n",
       "      <td>1845.12</td>\n",
       "      <td>1173.95</td>\n",
       "    </tr>\n",
       "    <tr>\n",
       "      <th>10</th>\n",
       "      <td>2014/02/26</td>\n",
       "      <td>close</td>\n",
       "      <td>4292.06</td>\n",
       "      <td>1845.16</td>\n",
       "      <td>1181.72</td>\n",
       "    </tr>\n",
       "    <tr>\n",
       "      <th>13</th>\n",
       "      <td>2014/02/27</td>\n",
       "      <td>close</td>\n",
       "      <td>4318.93</td>\n",
       "      <td>1854.29</td>\n",
       "      <td>1187.94</td>\n",
       "    </tr>\n",
       "    <tr>\n",
       "      <th>16</th>\n",
       "      <td>2014/02/28</td>\n",
       "      <td>close</td>\n",
       "      <td>4308.12</td>\n",
       "      <td>1859.45</td>\n",
       "      <td>1183.03</td>\n",
       "    </tr>\n",
       "  </tbody>\n",
       "</table>\n",
       "</div>"
      ],
      "text/plain": [
       "   TradingDate PriceType   Nasdaq  S&P 500  Russell 2000\n",
       "1   2014/02/21     close  4263.41  1836.25       1164.63\n",
       "4   2014/02/24     close  4292.97  1847.61       1174.55\n",
       "7   2014/02/25     close  4287.59  1845.12       1173.95\n",
       "10  2014/02/26     close  4292.06  1845.16       1181.72\n",
       "13  2014/02/27     close  4318.93  1854.29       1187.94\n",
       "16  2014/02/28     close  4308.12  1859.45       1183.03"
      ]
     },
     "execution_count": 3,
     "metadata": {},
     "output_type": "execute_result"
    }
   ],
   "source": [
    "stock_data[stock_data['PriceType'] == 'close']"
   ]
  },
  {
   "cell_type": "code",
   "execution_count": 4,
   "metadata": {},
   "outputs": [
    {
     "data": {
      "text/plain": [
       "0     False\n",
       "1      True\n",
       "2     False\n",
       "3     False\n",
       "4      True\n",
       "5     False\n",
       "6     False\n",
       "7      True\n",
       "8     False\n",
       "9     False\n",
       "10     True\n",
       "11    False\n",
       "12    False\n",
       "13     True\n",
       "14    False\n",
       "15    False\n",
       "16     True\n",
       "17    False\n",
       "Name: PriceType, dtype: bool"
      ]
     },
     "execution_count": 4,
     "metadata": {},
     "output_type": "execute_result"
    }
   ],
   "source": [
    "stock_data['PriceType'] == 'close'"
   ]
  },
  {
   "cell_type": "code",
   "execution_count": 6,
   "metadata": {},
   "outputs": [
    {
     "data": {
      "text/html": [
       "<div>\n",
       "<table border=\"1\" class=\"dataframe\">\n",
       "  <thead>\n",
       "    <tr style=\"text-align: right;\">\n",
       "      <th></th>\n",
       "      <th>TradingDate</th>\n",
       "      <th>PriceType</th>\n",
       "      <th>Nasdaq</th>\n",
       "      <th>S&amp;P 500</th>\n",
       "      <th>Russell 2000</th>\n",
       "    </tr>\n",
       "  </thead>\n",
       "  <tbody>\n",
       "    <tr>\n",
       "      <th>13</th>\n",
       "      <td>2014/02/27</td>\n",
       "      <td>close</td>\n",
       "      <td>4318.93</td>\n",
       "      <td>1854.29</td>\n",
       "      <td>1187.94</td>\n",
       "    </tr>\n",
       "    <tr>\n",
       "      <th>16</th>\n",
       "      <td>2014/02/28</td>\n",
       "      <td>close</td>\n",
       "      <td>4308.12</td>\n",
       "      <td>1859.45</td>\n",
       "      <td>1183.03</td>\n",
       "    </tr>\n",
       "  </tbody>\n",
       "</table>\n",
       "</div>"
      ],
      "text/plain": [
       "   TradingDate PriceType   Nasdaq  S&P 500  Russell 2000\n",
       "13  2014/02/27     close  4318.93  1854.29       1187.94\n",
       "16  2014/02/28     close  4308.12  1859.45       1183.03"
      ]
     },
     "execution_count": 6,
     "metadata": {},
     "output_type": "execute_result"
    }
   ],
   "source": [
    "stock_data[(stock_data['PriceType'] == 'close') & (stock_data['Nasdaq'] > 4300)]"
   ]
  },
  {
   "cell_type": "code",
   "execution_count": 7,
   "metadata": {},
   "outputs": [
    {
     "data": {
      "text/html": [
       "<div>\n",
       "<table border=\"1\" class=\"dataframe\">\n",
       "  <thead>\n",
       "    <tr style=\"text-align: right;\">\n",
       "      <th></th>\n",
       "      <th>TradingDate</th>\n",
       "      <th>PriceType</th>\n",
       "      <th>Nasdaq</th>\n",
       "      <th>S&amp;P 500</th>\n",
       "      <th>Russell 2000</th>\n",
       "    </tr>\n",
       "  </thead>\n",
       "  <tbody>\n",
       "    <tr>\n",
       "      <th>1</th>\n",
       "      <td>2014/02/21</td>\n",
       "      <td>close</td>\n",
       "      <td>4263.41</td>\n",
       "      <td>1836.25</td>\n",
       "      <td>1164.63</td>\n",
       "    </tr>\n",
       "    <tr>\n",
       "      <th>4</th>\n",
       "      <td>2014/02/24</td>\n",
       "      <td>close</td>\n",
       "      <td>4292.97</td>\n",
       "      <td>1847.61</td>\n",
       "      <td>1174.55</td>\n",
       "    </tr>\n",
       "    <tr>\n",
       "      <th>5</th>\n",
       "      <td>2014/02/24</td>\n",
       "      <td>high</td>\n",
       "      <td>4311.13</td>\n",
       "      <td>1858.71</td>\n",
       "      <td>1180.29</td>\n",
       "    </tr>\n",
       "    <tr>\n",
       "      <th>7</th>\n",
       "      <td>2014/02/25</td>\n",
       "      <td>close</td>\n",
       "      <td>4287.59</td>\n",
       "      <td>1845.12</td>\n",
       "      <td>1173.95</td>\n",
       "    </tr>\n",
       "    <tr>\n",
       "      <th>8</th>\n",
       "      <td>2014/02/25</td>\n",
       "      <td>high</td>\n",
       "      <td>4307.51</td>\n",
       "      <td>1852.91</td>\n",
       "      <td>1179.43</td>\n",
       "    </tr>\n",
       "    <tr>\n",
       "      <th>9</th>\n",
       "      <td>2014/02/26</td>\n",
       "      <td>open</td>\n",
       "      <td>4300.45</td>\n",
       "      <td>1845.79</td>\n",
       "      <td>1176.11</td>\n",
       "    </tr>\n",
       "    <tr>\n",
       "      <th>10</th>\n",
       "      <td>2014/02/26</td>\n",
       "      <td>close</td>\n",
       "      <td>4292.06</td>\n",
       "      <td>1845.16</td>\n",
       "      <td>1181.72</td>\n",
       "    </tr>\n",
       "    <tr>\n",
       "      <th>11</th>\n",
       "      <td>2014/02/26</td>\n",
       "      <td>high</td>\n",
       "      <td>4316.82</td>\n",
       "      <td>1852.65</td>\n",
       "      <td>1188.06</td>\n",
       "    </tr>\n",
       "    <tr>\n",
       "      <th>13</th>\n",
       "      <td>2014/02/27</td>\n",
       "      <td>close</td>\n",
       "      <td>4318.93</td>\n",
       "      <td>1854.29</td>\n",
       "      <td>1187.94</td>\n",
       "    </tr>\n",
       "    <tr>\n",
       "      <th>14</th>\n",
       "      <td>2014/02/27</td>\n",
       "      <td>high</td>\n",
       "      <td>4322.46</td>\n",
       "      <td>1854.53</td>\n",
       "      <td>1187.94</td>\n",
       "    </tr>\n",
       "    <tr>\n",
       "      <th>15</th>\n",
       "      <td>2014/02/28</td>\n",
       "      <td>open</td>\n",
       "      <td>4323.52</td>\n",
       "      <td>1855.12</td>\n",
       "      <td>1189.19</td>\n",
       "    </tr>\n",
       "    <tr>\n",
       "      <th>16</th>\n",
       "      <td>2014/02/28</td>\n",
       "      <td>close</td>\n",
       "      <td>4308.12</td>\n",
       "      <td>1859.45</td>\n",
       "      <td>1183.03</td>\n",
       "    </tr>\n",
       "    <tr>\n",
       "      <th>17</th>\n",
       "      <td>2014/02/28</td>\n",
       "      <td>high</td>\n",
       "      <td>4342.59</td>\n",
       "      <td>1867.92</td>\n",
       "      <td>1193.50</td>\n",
       "    </tr>\n",
       "  </tbody>\n",
       "</table>\n",
       "</div>"
      ],
      "text/plain": [
       "   TradingDate PriceType   Nasdaq  S&P 500  Russell 2000\n",
       "1   2014/02/21     close  4263.41  1836.25       1164.63\n",
       "4   2014/02/24     close  4292.97  1847.61       1174.55\n",
       "5   2014/02/24      high  4311.13  1858.71       1180.29\n",
       "7   2014/02/25     close  4287.59  1845.12       1173.95\n",
       "8   2014/02/25      high  4307.51  1852.91       1179.43\n",
       "9   2014/02/26      open  4300.45  1845.79       1176.11\n",
       "10  2014/02/26     close  4292.06  1845.16       1181.72\n",
       "11  2014/02/26      high  4316.82  1852.65       1188.06\n",
       "13  2014/02/27     close  4318.93  1854.29       1187.94\n",
       "14  2014/02/27      high  4322.46  1854.53       1187.94\n",
       "15  2014/02/28      open  4323.52  1855.12       1189.19\n",
       "16  2014/02/28     close  4308.12  1859.45       1183.03\n",
       "17  2014/02/28      high  4342.59  1867.92       1193.50"
      ]
     },
     "execution_count": 7,
     "metadata": {},
     "output_type": "execute_result"
    }
   ],
   "source": [
    "stock_data[(stock_data['PriceType'] == 'close') | (stock_data['Nasdaq'] > 4300)]"
   ]
  },
  {
   "cell_type": "markdown",
   "metadata": {},
   "source": [
    "### Using the where method()"
   ]
  },
  {
   "cell_type": "code",
   "execution_count": 8,
   "metadata": {
    "collapsed": true
   },
   "outputs": [],
   "source": [
    "import numpy as np\n",
    "np.random.seed(100) # seed controls random number generation\n",
    "normvals = pd.Series([np.random.normal() for i in np.arange(10)])"
   ]
  },
  {
   "cell_type": "code",
   "execution_count": 9,
   "metadata": {},
   "outputs": [
    {
     "data": {
      "text/plain": [
       "0   -1.749765\n",
       "1    0.342680\n",
       "2    1.153036\n",
       "3   -0.252436\n",
       "4    0.981321\n",
       "5    0.514219\n",
       "6    0.221180\n",
       "7   -1.070043\n",
       "8   -0.189496\n",
       "9    0.255001\n",
       "dtype: float64"
      ]
     },
     "execution_count": 9,
     "metadata": {},
     "output_type": "execute_result"
    }
   ],
   "source": [
    "normvals"
   ]
  },
  {
   "cell_type": "code",
   "execution_count": 10,
   "metadata": {},
   "outputs": [
    {
     "data": {
      "text/plain": [
       "1    0.342680\n",
       "2    1.153036\n",
       "4    0.981321\n",
       "5    0.514219\n",
       "6    0.221180\n",
       "9    0.255001\n",
       "dtype: float64"
      ]
     },
     "execution_count": 10,
     "metadata": {},
     "output_type": "execute_result"
    }
   ],
   "source": [
    "normvals[normvals > 0]"
   ]
  },
  {
   "cell_type": "code",
   "execution_count": 11,
   "metadata": {},
   "outputs": [
    {
     "data": {
      "text/plain": [
       "0         NaN\n",
       "1    0.342680\n",
       "2    1.153036\n",
       "3         NaN\n",
       "4    0.981321\n",
       "5    0.514219\n",
       "6    0.221180\n",
       "7         NaN\n",
       "8         NaN\n",
       "9    0.255001\n",
       "dtype: float64"
      ]
     },
     "execution_count": 11,
     "metadata": {},
     "output_type": "execute_result"
    }
   ],
   "source": [
    "normvals.where(normvals > 0)"
   ]
  },
  {
   "cell_type": "code",
   "execution_count": 12,
   "metadata": {
    "collapsed": true
   },
   "outputs": [],
   "source": [
    "## Working with DF\n",
    "np.random.seed(100)\n",
    "normDF=pd.DataFrame([[round(np.random.normal(),3) for i in np.arange(5)] for j in range(3)], \n",
    "            columns=['0','30','60','90','120'])"
   ]
  },
  {
   "cell_type": "code",
   "execution_count": 13,
   "metadata": {},
   "outputs": [
    {
     "data": {
      "text/html": [
       "<div>\n",
       "<table border=\"1\" class=\"dataframe\">\n",
       "  <thead>\n",
       "    <tr style=\"text-align: right;\">\n",
       "      <th></th>\n",
       "      <th>0</th>\n",
       "      <th>30</th>\n",
       "      <th>60</th>\n",
       "      <th>90</th>\n",
       "      <th>120</th>\n",
       "    </tr>\n",
       "  </thead>\n",
       "  <tbody>\n",
       "    <tr>\n",
       "      <th>0</th>\n",
       "      <td>-1.750</td>\n",
       "      <td>0.343</td>\n",
       "      <td>1.153</td>\n",
       "      <td>-0.252</td>\n",
       "      <td>0.981</td>\n",
       "    </tr>\n",
       "    <tr>\n",
       "      <th>1</th>\n",
       "      <td>0.514</td>\n",
       "      <td>0.221</td>\n",
       "      <td>-1.070</td>\n",
       "      <td>-0.189</td>\n",
       "      <td>0.255</td>\n",
       "    </tr>\n",
       "    <tr>\n",
       "      <th>2</th>\n",
       "      <td>-0.458</td>\n",
       "      <td>0.435</td>\n",
       "      <td>-0.584</td>\n",
       "      <td>0.817</td>\n",
       "      <td>0.673</td>\n",
       "    </tr>\n",
       "  </tbody>\n",
       "</table>\n",
       "</div>"
      ],
      "text/plain": [
       "       0     30     60     90    120\n",
       "0 -1.750  0.343  1.153 -0.252  0.981\n",
       "1  0.514  0.221 -1.070 -0.189  0.255\n",
       "2 -0.458  0.435 -0.584  0.817  0.673"
      ]
     },
     "execution_count": 13,
     "metadata": {},
     "output_type": "execute_result"
    }
   ],
   "source": [
    "normDF"
   ]
  },
  {
   "cell_type": "code",
   "execution_count": 17,
   "metadata": {},
   "outputs": [
    {
     "data": {
      "text/html": [
       "<div>\n",
       "<table border=\"1\" class=\"dataframe\">\n",
       "  <thead>\n",
       "    <tr style=\"text-align: right;\">\n",
       "      <th></th>\n",
       "      <th>0</th>\n",
       "      <th>1</th>\n",
       "      <th>2</th>\n",
       "      <th>3</th>\n",
       "      <th>4</th>\n",
       "    </tr>\n",
       "  </thead>\n",
       "  <tbody>\n",
       "    <tr>\n",
       "      <th>0</th>\n",
       "      <td>0</td>\n",
       "      <td>1</td>\n",
       "      <td>2</td>\n",
       "      <td>3</td>\n",
       "      <td>4</td>\n",
       "    </tr>\n",
       "    <tr>\n",
       "      <th>1</th>\n",
       "      <td>0</td>\n",
       "      <td>1</td>\n",
       "      <td>2</td>\n",
       "      <td>3</td>\n",
       "      <td>4</td>\n",
       "    </tr>\n",
       "    <tr>\n",
       "      <th>2</th>\n",
       "      <td>0</td>\n",
       "      <td>1</td>\n",
       "      <td>2</td>\n",
       "      <td>3</td>\n",
       "      <td>4</td>\n",
       "    </tr>\n",
       "  </tbody>\n",
       "</table>\n",
       "</div>"
      ],
      "text/plain": [
       "   0  1  2  3  4\n",
       "0  0  1  2  3  4\n",
       "1  0  1  2  3  4\n",
       "2  0  1  2  3  4"
      ]
     },
     "execution_count": 17,
     "metadata": {},
     "output_type": "execute_result"
    }
   ],
   "source": [
    "pd.DataFrame([[i for i in np.arange(5)] for j in np.arange(3)])"
   ]
  },
  {
   "cell_type": "code",
   "execution_count": 19,
   "metadata": {},
   "outputs": [
    {
     "data": {
      "text/html": [
       "<div>\n",
       "<table border=\"1\" class=\"dataframe\">\n",
       "  <thead>\n",
       "    <tr style=\"text-align: right;\">\n",
       "      <th></th>\n",
       "      <th>0</th>\n",
       "      <th>30</th>\n",
       "      <th>60</th>\n",
       "      <th>90</th>\n",
       "      <th>120</th>\n",
       "    </tr>\n",
       "  </thead>\n",
       "  <tbody>\n",
       "    <tr>\n",
       "      <th>0</th>\n",
       "      <td>NaN</td>\n",
       "      <td>0.343</td>\n",
       "      <td>1.153</td>\n",
       "      <td>NaN</td>\n",
       "      <td>0.981</td>\n",
       "    </tr>\n",
       "    <tr>\n",
       "      <th>1</th>\n",
       "      <td>0.514</td>\n",
       "      <td>0.221</td>\n",
       "      <td>NaN</td>\n",
       "      <td>NaN</td>\n",
       "      <td>0.255</td>\n",
       "    </tr>\n",
       "    <tr>\n",
       "      <th>2</th>\n",
       "      <td>NaN</td>\n",
       "      <td>0.435</td>\n",
       "      <td>NaN</td>\n",
       "      <td>0.817</td>\n",
       "      <td>0.673</td>\n",
       "    </tr>\n",
       "  </tbody>\n",
       "</table>\n",
       "</div>"
      ],
      "text/plain": [
       "       0     30     60     90    120\n",
       "0    NaN  0.343  1.153    NaN  0.981\n",
       "1  0.514  0.221    NaN    NaN  0.255\n",
       "2    NaN  0.435    NaN  0.817  0.673"
      ]
     },
     "execution_count": 19,
     "metadata": {},
     "output_type": "execute_result"
    }
   ],
   "source": [
    "normDF[normDF > 0]"
   ]
  },
  {
   "cell_type": "code",
   "execution_count": 22,
   "metadata": {},
   "outputs": [],
   "source": [
    "stock_data.set_index('TradingDate',inplace=True)"
   ]
  },
  {
   "cell_type": "code",
   "execution_count": 25,
   "metadata": {},
   "outputs": [],
   "source": [
    "stock_data.reset_index(inplace=True)"
   ]
  },
  {
   "cell_type": "code",
   "execution_count": 27,
   "metadata": {},
   "outputs": [],
   "source": [
    "normDF.where(normDF > 0, inplace=True)"
   ]
  },
  {
   "cell_type": "code",
   "execution_count": 28,
   "metadata": {},
   "outputs": [
    {
     "data": {
      "text/html": [
       "<div>\n",
       "<table border=\"1\" class=\"dataframe\">\n",
       "  <thead>\n",
       "    <tr style=\"text-align: right;\">\n",
       "      <th></th>\n",
       "      <th>0</th>\n",
       "      <th>30</th>\n",
       "      <th>60</th>\n",
       "      <th>90</th>\n",
       "      <th>120</th>\n",
       "    </tr>\n",
       "  </thead>\n",
       "  <tbody>\n",
       "    <tr>\n",
       "      <th>0</th>\n",
       "      <td>NaN</td>\n",
       "      <td>0.343</td>\n",
       "      <td>1.153</td>\n",
       "      <td>NaN</td>\n",
       "      <td>0.981</td>\n",
       "    </tr>\n",
       "    <tr>\n",
       "      <th>1</th>\n",
       "      <td>0.514</td>\n",
       "      <td>0.221</td>\n",
       "      <td>NaN</td>\n",
       "      <td>NaN</td>\n",
       "      <td>0.255</td>\n",
       "    </tr>\n",
       "    <tr>\n",
       "      <th>2</th>\n",
       "      <td>NaN</td>\n",
       "      <td>0.435</td>\n",
       "      <td>NaN</td>\n",
       "      <td>0.817</td>\n",
       "      <td>0.673</td>\n",
       "    </tr>\n",
       "  </tbody>\n",
       "</table>\n",
       "</div>"
      ],
      "text/plain": [
       "       0     30     60     90    120\n",
       "0    NaN  0.343  1.153    NaN  0.981\n",
       "1  0.514  0.221    NaN    NaN  0.255\n",
       "2    NaN  0.435    NaN  0.817  0.673"
      ]
     },
     "execution_count": 28,
     "metadata": {},
     "output_type": "execute_result"
    }
   ],
   "source": [
    "normDF"
   ]
  },
  {
   "cell_type": "code",
   "execution_count": null,
   "metadata": {
    "collapsed": true
   },
   "outputs": [],
   "source": []
  }
 ],
 "metadata": {
  "kernelspec": {
   "display_name": "Python 3",
   "language": "python",
   "name": "python3"
  },
  "language_info": {
   "codemirror_mode": {
    "name": "ipython",
    "version": 3
   },
   "file_extension": ".py",
   "mimetype": "text/x-python",
   "name": "python",
   "nbconvert_exporter": "python",
   "pygments_lexer": "ipython3",
   "version": "3.5.0"
  }
 },
 "nbformat": 4,
 "nbformat_minor": 2
}
