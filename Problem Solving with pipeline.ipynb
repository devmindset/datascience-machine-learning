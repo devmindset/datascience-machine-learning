{
 "cells": [
  {
   "cell_type": "markdown",
   "metadata": {},
   "source": [
    "### Predicting petal_width using sepal length - Pipeline concept"
   ]
  },
  {
   "cell_type": "code",
   "execution_count": 1,
   "metadata": {
    "collapsed": true
   },
   "outputs": [],
   "source": [
    "import seaborn as sns\n",
    "iris = sns.load_dataset('iris')"
   ]
  },
  {
   "cell_type": "code",
   "execution_count": 3,
   "metadata": {},
   "outputs": [],
   "source": [
    "X = iris['sepal_length']\n",
    "Y = iris['petal_width']"
   ]
  },
  {
   "cell_type": "code",
   "execution_count": 8,
   "metadata": {},
   "outputs": [],
   "source": [
    "X = X.values.reshape(X.values.shape[0],1)\n",
    "#X.values[:,np.newaxis]"
   ]
  },
  {
   "cell_type": "code",
   "execution_count": 26,
   "metadata": {},
   "outputs": [
    {
     "data": {
      "text/plain": [
       "array([[ 5.1],\n",
       "       [ 4.9],\n",
       "       [ 4.7],\n",
       "       [ 4.6],\n",
       "       [ 5. ],\n",
       "       [ 5.4],\n",
       "       [ 4.6],\n",
       "       [ 5. ],\n",
       "       [ 4.4],\n",
       "       [ 4.9],\n",
       "       [ 5.4],\n",
       "       [ 4.8],\n",
       "       [ 4.8],\n",
       "       [ 4.3],\n",
       "       [ 5.8],\n",
       "       [ 5.7],\n",
       "       [ 5.4],\n",
       "       [ 5.1],\n",
       "       [ 5.7],\n",
       "       [ 5.1],\n",
       "       [ 5.4],\n",
       "       [ 5.1],\n",
       "       [ 4.6],\n",
       "       [ 5.1],\n",
       "       [ 4.8],\n",
       "       [ 5. ],\n",
       "       [ 5. ],\n",
       "       [ 5.2],\n",
       "       [ 5.2],\n",
       "       [ 4.7],\n",
       "       [ 4.8],\n",
       "       [ 5.4],\n",
       "       [ 5.2],\n",
       "       [ 5.5],\n",
       "       [ 4.9],\n",
       "       [ 5. ],\n",
       "       [ 5.5],\n",
       "       [ 4.9],\n",
       "       [ 4.4],\n",
       "       [ 5.1],\n",
       "       [ 5. ],\n",
       "       [ 4.5],\n",
       "       [ 4.4],\n",
       "       [ 5. ],\n",
       "       [ 5.1],\n",
       "       [ 4.8],\n",
       "       [ 5.1],\n",
       "       [ 4.6],\n",
       "       [ 5.3],\n",
       "       [ 5. ],\n",
       "       [ 7. ],\n",
       "       [ 6.4],\n",
       "       [ 6.9],\n",
       "       [ 5.5],\n",
       "       [ 6.5],\n",
       "       [ 5.7],\n",
       "       [ 6.3],\n",
       "       [ 4.9],\n",
       "       [ 6.6],\n",
       "       [ 5.2],\n",
       "       [ 5. ],\n",
       "       [ 5.9],\n",
       "       [ 6. ],\n",
       "       [ 6.1],\n",
       "       [ 5.6],\n",
       "       [ 6.7],\n",
       "       [ 5.6],\n",
       "       [ 5.8],\n",
       "       [ 6.2],\n",
       "       [ 5.6],\n",
       "       [ 5.9],\n",
       "       [ 6.1],\n",
       "       [ 6.3],\n",
       "       [ 6.1],\n",
       "       [ 6.4],\n",
       "       [ 6.6],\n",
       "       [ 6.8],\n",
       "       [ 6.7],\n",
       "       [ 6. ],\n",
       "       [ 5.7],\n",
       "       [ 5.5],\n",
       "       [ 5.5],\n",
       "       [ 5.8],\n",
       "       [ 6. ],\n",
       "       [ 5.4],\n",
       "       [ 6. ],\n",
       "       [ 6.7],\n",
       "       [ 6.3],\n",
       "       [ 5.6],\n",
       "       [ 5.5],\n",
       "       [ 5.5],\n",
       "       [ 6.1],\n",
       "       [ 5.8],\n",
       "       [ 5. ],\n",
       "       [ 5.6],\n",
       "       [ 5.7],\n",
       "       [ 5.7],\n",
       "       [ 6.2],\n",
       "       [ 5.1],\n",
       "       [ 5.7],\n",
       "       [ 6.3],\n",
       "       [ 5.8],\n",
       "       [ 7.1],\n",
       "       [ 6.3],\n",
       "       [ 6.5],\n",
       "       [ 7.6],\n",
       "       [ 4.9],\n",
       "       [ 7.3],\n",
       "       [ 6.7],\n",
       "       [ 7.2],\n",
       "       [ 6.5],\n",
       "       [ 6.4],\n",
       "       [ 6.8],\n",
       "       [ 5.7],\n",
       "       [ 5.8],\n",
       "       [ 6.4],\n",
       "       [ 6.5],\n",
       "       [ 7.7],\n",
       "       [ 7.7],\n",
       "       [ 6. ],\n",
       "       [ 6.9],\n",
       "       [ 5.6],\n",
       "       [ 7.7],\n",
       "       [ 6.3],\n",
       "       [ 6.7],\n",
       "       [ 7.2],\n",
       "       [ 6.2],\n",
       "       [ 6.1],\n",
       "       [ 6.4],\n",
       "       [ 7.2],\n",
       "       [ 7.4],\n",
       "       [ 7.9],\n",
       "       [ 6.4],\n",
       "       [ 6.3],\n",
       "       [ 6.1],\n",
       "       [ 7.7],\n",
       "       [ 6.3],\n",
       "       [ 6.4],\n",
       "       [ 6. ],\n",
       "       [ 6.9],\n",
       "       [ 6.7],\n",
       "       [ 6.9],\n",
       "       [ 5.8],\n",
       "       [ 6.8],\n",
       "       [ 6.7],\n",
       "       [ 6.7],\n",
       "       [ 6.3],\n",
       "       [ 6.5],\n",
       "       [ 6.2],\n",
       "       [ 5.9]])"
      ]
     },
     "execution_count": 26,
     "metadata": {},
     "output_type": "execute_result"
    }
   ],
   "source": [
    "X"
   ]
  },
  {
   "cell_type": "code",
   "execution_count": 19,
   "metadata": {
    "collapsed": true
   },
   "outputs": [],
   "source": [
    "from sklearn.linear_model import LinearRegression\n",
    "from sklearn.preprocessing import PolynomialFeatures\n",
    "from sklearn.pipeline import make_pipeline"
   ]
  },
  {
   "cell_type": "code",
   "execution_count": 20,
   "metadata": {
    "collapsed": true
   },
   "outputs": [],
   "source": [
    "def create_pipeline(degrees):\n",
    "    pipeline = make_pipeline(PolynomialFeatures(degrees),LinearRegression(fit_intercept=True))\n",
    "    return pipeline\n",
    "    "
   ]
  },
  {
   "cell_type": "code",
   "execution_count": 31,
   "metadata": {
    "collapsed": true
   },
   "outputs": [],
   "source": [
    "from sklearn.model_selection import train_test_split\n",
    "from sklearn.metrics import r2_score"
   ]
  },
  {
   "cell_type": "code",
   "execution_count": 34,
   "metadata": {
    "collapsed": true
   },
   "outputs": [],
   "source": [
    "Xtrain, Xtest, Ytrain, Ytest = train_test_split(X,Y)"
   ]
  },
  {
   "cell_type": "code",
   "execution_count": 45,
   "metadata": {},
   "outputs": [
    {
     "name": "stdout",
     "output_type": "stream",
     "text": [
      "0.621979412019\n",
      "0.676323877222\n",
      "0.668042115698\n",
      "0.673909392348\n",
      "0.682237655709\n",
      "0.675521975762\n",
      "0.668068970156\n",
      "0.669402503074\n",
      "0.67430133089\n",
      "0.676747459766\n",
      "0.676987466396\n",
      "0.676051383454\n",
      "0.674718279447\n",
      "0.673514873088\n",
      "0.672765921405\n",
      "0.672566855253\n",
      "0.672834187715\n",
      "0.673352862581\n",
      "0.673850216485\n",
      "0.67411348102\n",
      "0.674006774946\n",
      "0.673531350525\n",
      "0.668497036835\n",
      "0.669505431318\n",
      "0.670648044736\n",
      "0.671710359982\n",
      "0.672441024015\n",
      "0.67275955555\n",
      "0.672663116227\n",
      "0.672262948112\n",
      "0.671704250353\n",
      "0.671208357369\n",
      "0.670780674418\n"
     ]
    }
   ],
   "source": [
    "models = []\n",
    "for degree in range(2,35):\n",
    "    #this will create a pipeline with mentioned degree & estimator as linear regression\n",
    "    pipeline = create_pipeline(degree)\n",
    "    pipeline.fit(Xtrain,Ytrain)\n",
    "    pred = pipeline.predict(Xtest)\n",
    "    print (r2_score(Ytest,pred))\n",
    "    models.append([degree,r2_score(Ytest,pred),pipeline])\n",
    "    "
   ]
  },
  {
   "cell_type": "code",
   "execution_count": 25,
   "metadata": {},
   "outputs": [
    {
     "data": {
      "text/plain": [
       "Pipeline(memory=None,\n",
       "     steps=[('polynomialfeatures', PolynomialFeatures(degree=2, include_bias=True, interaction_only=False)), ('linearregression', LinearRegression(copy_X=True, fit_intercept=True, n_jobs=1, normalize=False))])"
      ]
     },
     "execution_count": 25,
     "metadata": {},
     "output_type": "execute_result"
    }
   ],
   "source": [
    "create_pipeline(2)"
   ]
  },
  {
   "cell_type": "code",
   "execution_count": 17,
   "metadata": {},
   "outputs": [
    {
     "data": {
      "text/plain": [
       "(112, 1)"
      ]
     },
     "execution_count": 17,
     "metadata": {},
     "output_type": "execute_result"
    }
   ],
   "source": [
    "Xtrain.shape"
   ]
  },
  {
   "cell_type": "code",
   "execution_count": 18,
   "metadata": {},
   "outputs": [
    {
     "data": {
      "text/plain": [
       "(38, 1)"
      ]
     },
     "execution_count": 18,
     "metadata": {},
     "output_type": "execute_result"
    }
   ],
   "source": [
    "Ytrain.shape"
   ]
  },
  {
   "cell_type": "code",
   "execution_count": 47,
   "metadata": {},
   "outputs": [],
   "source": [
    "top_models = sorted(models,key = lambda d: d[1],reverse=True)[:5]"
   ]
  },
  {
   "cell_type": "code",
   "execution_count": 52,
   "metadata": {},
   "outputs": [
    {
     "data": {
      "text/plain": [
       "array([ 1.781523  ,  1.47476482])"
      ]
     },
     "execution_count": 52,
     "metadata": {},
     "output_type": "execute_result"
    }
   ],
   "source": [
    "top_models[0][2].predict([[6.2],[5.9]])"
   ]
  },
  {
   "cell_type": "code",
   "execution_count": 54,
   "metadata": {},
   "outputs": [
    {
     "data": {
      "text/plain": [
       "148    2.3\n",
       "149    1.8\n",
       "Name: petal_width, dtype: float64"
      ]
     },
     "execution_count": 54,
     "metadata": {},
     "output_type": "execute_result"
    }
   ],
   "source": [
    "Y[-2:]"
   ]
  },
  {
   "cell_type": "code",
   "execution_count": 56,
   "metadata": {},
   "outputs": [
    {
     "data": {
      "text/plain": [
       "array([ 1.63913345,  1.36675312])"
      ]
     },
     "execution_count": 56,
     "metadata": {},
     "output_type": "execute_result"
    }
   ],
   "source": [
    "top_models[3][2].predict([[6.2],[5.9]])"
   ]
  },
  {
   "cell_type": "markdown",
   "metadata": {},
   "source": [
    "### "
   ]
  }
 ],
 "metadata": {
  "kernelspec": {
   "display_name": "Python 3",
   "language": "python",
   "name": "python3"
  },
  "language_info": {
   "codemirror_mode": {
    "name": "ipython",
    "version": 3
   },
   "file_extension": ".py",
   "mimetype": "text/x-python",
   "name": "python",
   "nbconvert_exporter": "python",
   "pygments_lexer": "ipython3",
   "version": "3.5.4"
  }
 },
 "nbformat": 4,
 "nbformat_minor": 2
}
