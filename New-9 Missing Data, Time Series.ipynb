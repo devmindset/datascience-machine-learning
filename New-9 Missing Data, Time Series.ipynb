{
 "cells": [
  {
   "cell_type": "markdown",
   "metadata": {},
   "source": [
    "### Handling Missing Data"
   ]
  },
  {
   "cell_type": "code",
   "execution_count": 2,
   "metadata": {
    "collapsed": true
   },
   "outputs": [],
   "source": [
    "import pandas as pd\n",
    "import numpy as np\n",
    "\n",
    "data = pd.Series([1.0,np.NaN,5.9,6]) + pd.Series([3,5,2,5.6])"
   ]
  },
  {
   "cell_type": "code",
   "execution_count": 2,
   "metadata": {},
   "outputs": [
    {
     "data": {
      "text/plain": [
       "0     4.0\n",
       "1     NaN\n",
       "2     7.9\n",
       "3    11.6\n",
       "dtype: float64"
      ]
     },
     "execution_count": 2,
     "metadata": {},
     "output_type": "execute_result"
    }
   ],
   "source": [
    "data"
   ]
  },
  {
   "cell_type": "code",
   "execution_count": 3,
   "metadata": {},
   "outputs": [
    {
     "data": {
      "text/plain": [
       "7.833333333333333"
      ]
     },
     "execution_count": 3,
     "metadata": {},
     "output_type": "execute_result"
    }
   ],
   "source": [
    "np.mean(data)"
   ]
  },
  {
   "cell_type": "code",
   "execution_count": 4,
   "metadata": {},
   "outputs": [
    {
     "data": {
      "text/plain": [
       "0     4.0\n",
       "1     0.0\n",
       "2     7.9\n",
       "3    11.6\n",
       "dtype: float64"
      ]
     },
     "execution_count": 4,
     "metadata": {},
     "output_type": "execute_result"
    }
   ],
   "source": [
    "data.fillna(0)"
   ]
  },
  {
   "cell_type": "code",
   "execution_count": 5,
   "metadata": {},
   "outputs": [
    {
     "data": {
      "text/plain": [
       "0     4.0\n",
       "1     4.0\n",
       "2     7.9\n",
       "3    11.6\n",
       "dtype: float64"
      ]
     },
     "execution_count": 5,
     "metadata": {},
     "output_type": "execute_result"
    }
   ],
   "source": [
    "data.fillna(method='ffill')"
   ]
  },
  {
   "cell_type": "code",
   "execution_count": 6,
   "metadata": {},
   "outputs": [
    {
     "data": {
      "text/plain": [
       "0     4.0\n",
       "1     7.9\n",
       "2     7.9\n",
       "3    11.6\n",
       "dtype: float64"
      ]
     },
     "execution_count": 6,
     "metadata": {},
     "output_type": "execute_result"
    }
   ],
   "source": [
    "data.fillna(method='bfill')"
   ]
  },
  {
   "cell_type": "code",
   "execution_count": 9,
   "metadata": {},
   "outputs": [
    {
     "data": {
      "text/plain": [
       "0     4.0\n",
       "2     7.9\n",
       "3    11.6\n",
       "dtype: float64"
      ]
     },
     "execution_count": 9,
     "metadata": {},
     "output_type": "execute_result"
    }
   ],
   "source": [
    "data.dropna()"
   ]
  },
  {
   "cell_type": "code",
   "execution_count": 10,
   "metadata": {
    "collapsed": true
   },
   "outputs": [],
   "source": [
    "data = pd.Series([1.0,np.NaN,np.NaN, np.NaN, 5.9,6])"
   ]
  },
  {
   "cell_type": "code",
   "execution_count": 11,
   "metadata": {},
   "outputs": [
    {
     "data": {
      "text/plain": [
       "0    1.0\n",
       "1    1.0\n",
       "2    1.0\n",
       "3    1.0\n",
       "4    5.9\n",
       "5    6.0\n",
       "dtype: float64"
      ]
     },
     "execution_count": 11,
     "metadata": {},
     "output_type": "execute_result"
    }
   ],
   "source": [
    "data.fillna(method='ffill')"
   ]
  },
  {
   "cell_type": "code",
   "execution_count": 12,
   "metadata": {},
   "outputs": [
    {
     "name": "stdout",
     "output_type": "stream",
     "text": [
      "Help on method fillna in module pandas.core.series:\n",
      "\n",
      "fillna(value=None, method=None, axis=None, inplace=False, limit=None, downcast=None, **kwargs) method of pandas.core.series.Series instance\n",
      "    Fill NA/NaN values using the specified method\n",
      "    \n",
      "    Parameters\n",
      "    ----------\n",
      "    value : scalar, dict, Series, or DataFrame\n",
      "        Value to use to fill holes (e.g. 0), alternately a\n",
      "        dict/Series/DataFrame of values specifying which value to use for\n",
      "        each index (for a Series) or column (for a DataFrame). (values not\n",
      "        in the dict/Series/DataFrame will not be filled). This value cannot\n",
      "        be a list.\n",
      "    method : {'backfill', 'bfill', 'pad', 'ffill', None}, default None\n",
      "        Method to use for filling holes in reindexed Series\n",
      "        pad / ffill: propagate last valid observation forward to next valid\n",
      "        backfill / bfill: use NEXT valid observation to fill gap\n",
      "    axis : {0, 'index'}\n",
      "    inplace : boolean, default False\n",
      "        If True, fill in place. Note: this will modify any\n",
      "        other views on this object, (e.g. a no-copy slice for a column in a\n",
      "        DataFrame).\n",
      "    limit : int, default None\n",
      "        If method is specified, this is the maximum number of consecutive\n",
      "        NaN values to forward/backward fill. In other words, if there is\n",
      "        a gap with more than this number of consecutive NaNs, it will only\n",
      "        be partially filled. If method is not specified, this is the\n",
      "        maximum number of entries along the entire axis where NaNs will be\n",
      "        filled.\n",
      "    downcast : dict, default is None\n",
      "        a dict of item->dtype of what to downcast if possible,\n",
      "        or the string 'infer' which will try to downcast to an appropriate\n",
      "        equal type (e.g. float64 to int64 if possible)\n",
      "    \n",
      "    See Also\n",
      "    --------\n",
      "    reindex, asfreq\n",
      "    \n",
      "    Returns\n",
      "    -------\n",
      "    filled : Series\n",
      "\n"
     ]
    }
   ],
   "source": [
    "help(data.fillna)"
   ]
  },
  {
   "cell_type": "code",
   "execution_count": 3,
   "metadata": {},
   "outputs": [],
   "source": [
    "goal_data = pd.read_csv('goal_stats_euro_leagues_2012-13.csv')"
   ]
  },
  {
   "cell_type": "code",
   "execution_count": 5,
   "metadata": {
    "collapsed": true
   },
   "outputs": [],
   "source": [
    "d1 = goal_data[:4] "
   ]
  },
  {
   "cell_type": "code",
   "execution_count": 6,
   "metadata": {
    "collapsed": true
   },
   "outputs": [],
   "source": [
    "d2 = goal_data[-4:]"
   ]
  },
  {
   "cell_type": "code",
   "execution_count": 7,
   "metadata": {
    "collapsed": true
   },
   "outputs": [],
   "source": [
    "d1 = d1.iloc[:,:3]"
   ]
  },
  {
   "cell_type": "code",
   "execution_count": 8,
   "metadata": {
    "collapsed": true
   },
   "outputs": [],
   "source": [
    "d2 = d2.iloc[:,3:]"
   ]
  },
  {
   "cell_type": "code",
   "execution_count": 9,
   "metadata": {},
   "outputs": [
    {
     "data": {
      "text/html": [
       "<div>\n",
       "<table border=\"1\" class=\"dataframe\">\n",
       "  <thead>\n",
       "    <tr style=\"text-align: right;\">\n",
       "      <th></th>\n",
       "      <th>Month</th>\n",
       "      <th>Stat</th>\n",
       "      <th>EPL</th>\n",
       "    </tr>\n",
       "  </thead>\n",
       "  <tbody>\n",
       "    <tr>\n",
       "      <th>0</th>\n",
       "      <td>08/01/2012</td>\n",
       "      <td>MatchesPlayed</td>\n",
       "      <td>20.0</td>\n",
       "    </tr>\n",
       "    <tr>\n",
       "      <th>1</th>\n",
       "      <td>09/01/2012</td>\n",
       "      <td>MatchesPlayed</td>\n",
       "      <td>38.0</td>\n",
       "    </tr>\n",
       "    <tr>\n",
       "      <th>2</th>\n",
       "      <td>10/01/2012</td>\n",
       "      <td>MatchesPlayed</td>\n",
       "      <td>31.0</td>\n",
       "    </tr>\n",
       "    <tr>\n",
       "      <th>3</th>\n",
       "      <td>11/01/2012</td>\n",
       "      <td>MatchesPlayed</td>\n",
       "      <td>50.0</td>\n",
       "    </tr>\n",
       "  </tbody>\n",
       "</table>\n",
       "</div>"
      ],
      "text/plain": [
       "        Month           Stat   EPL\n",
       "0  08/01/2012  MatchesPlayed  20.0\n",
       "1  09/01/2012  MatchesPlayed  38.0\n",
       "2  10/01/2012  MatchesPlayed  31.0\n",
       "3  11/01/2012  MatchesPlayed  50.0"
      ]
     },
     "execution_count": 9,
     "metadata": {},
     "output_type": "execute_result"
    }
   ],
   "source": [
    "d1"
   ]
  },
  {
   "cell_type": "code",
   "execution_count": 10,
   "metadata": {},
   "outputs": [
    {
     "data": {
      "text/html": [
       "<div>\n",
       "<table border=\"1\" class=\"dataframe\">\n",
       "  <thead>\n",
       "    <tr style=\"text-align: right;\">\n",
       "      <th></th>\n",
       "      <th>La Liga</th>\n",
       "      <th>Serie A</th>\n",
       "      <th>Bundesliga</th>\n",
       "    </tr>\n",
       "  </thead>\n",
       "  <tbody>\n",
       "    <tr>\n",
       "      <th>18</th>\n",
       "      <td>101</td>\n",
       "      <td>99.0</td>\n",
       "      <td>106.0</td>\n",
       "    </tr>\n",
       "    <tr>\n",
       "      <th>19</th>\n",
       "      <td>127</td>\n",
       "      <td>102.0</td>\n",
       "      <td>104.0</td>\n",
       "    </tr>\n",
       "    <tr>\n",
       "      <th>20</th>\n",
       "      <td>109</td>\n",
       "      <td>102.0</td>\n",
       "      <td>92.0</td>\n",
       "    </tr>\n",
       "    <tr>\n",
       "      <th>21</th>\n",
       "      <td>80</td>\n",
       "      <td>NaN</td>\n",
       "      <td>NaN</td>\n",
       "    </tr>\n",
       "  </tbody>\n",
       "</table>\n",
       "</div>"
      ],
      "text/plain": [
       "    La Liga  Serie A  Bundesliga\n",
       "18      101     99.0       106.0\n",
       "19      127    102.0       104.0\n",
       "20      109    102.0        92.0\n",
       "21       80      NaN         NaN"
      ]
     },
     "execution_count": 10,
     "metadata": {},
     "output_type": "execute_result"
    }
   ],
   "source": [
    "d2"
   ]
  },
  {
   "cell_type": "code",
   "execution_count": 11,
   "metadata": {
    "collapsed": true
   },
   "outputs": [],
   "source": [
    "dA = goal_data.iloc[:2,:3]"
   ]
  },
  {
   "cell_type": "code",
   "execution_count": 12,
   "metadata": {
    "collapsed": true
   },
   "outputs": [],
   "source": [
    "dB = goal_data[2:]"
   ]
  },
  {
   "cell_type": "code",
   "execution_count": 13,
   "metadata": {},
   "outputs": [
    {
     "data": {
      "text/html": [
       "<div>\n",
       "<table border=\"1\" class=\"dataframe\">\n",
       "  <thead>\n",
       "    <tr style=\"text-align: right;\">\n",
       "      <th></th>\n",
       "      <th>Month</th>\n",
       "      <th>Stat</th>\n",
       "      <th>EPL</th>\n",
       "    </tr>\n",
       "  </thead>\n",
       "  <tbody>\n",
       "    <tr>\n",
       "      <th>0</th>\n",
       "      <td>08/01/2012</td>\n",
       "      <td>MatchesPlayed</td>\n",
       "      <td>20.0</td>\n",
       "    </tr>\n",
       "    <tr>\n",
       "      <th>1</th>\n",
       "      <td>09/01/2012</td>\n",
       "      <td>MatchesPlayed</td>\n",
       "      <td>38.0</td>\n",
       "    </tr>\n",
       "  </tbody>\n",
       "</table>\n",
       "</div>"
      ],
      "text/plain": [
       "        Month           Stat   EPL\n",
       "0  08/01/2012  MatchesPlayed  20.0\n",
       "1  09/01/2012  MatchesPlayed  38.0"
      ]
     },
     "execution_count": 13,
     "metadata": {},
     "output_type": "execute_result"
    }
   ],
   "source": [
    "dA"
   ]
  },
  {
   "cell_type": "code",
   "execution_count": 14,
   "metadata": {},
   "outputs": [
    {
     "data": {
      "text/html": [
       "<div>\n",
       "<table border=\"1\" class=\"dataframe\">\n",
       "  <thead>\n",
       "    <tr style=\"text-align: right;\">\n",
       "      <th></th>\n",
       "      <th>Month</th>\n",
       "      <th>Stat</th>\n",
       "      <th>EPL</th>\n",
       "      <th>La Liga</th>\n",
       "      <th>Serie A</th>\n",
       "      <th>Bundesliga</th>\n",
       "    </tr>\n",
       "  </thead>\n",
       "  <tbody>\n",
       "    <tr>\n",
       "      <th>2</th>\n",
       "      <td>10/01/2012</td>\n",
       "      <td>MatchesPlayed</td>\n",
       "      <td>31.0</td>\n",
       "      <td>31</td>\n",
       "      <td>39.0</td>\n",
       "      <td>27.0</td>\n",
       "    </tr>\n",
       "    <tr>\n",
       "      <th>3</th>\n",
       "      <td>11/01/2012</td>\n",
       "      <td>MatchesPlayed</td>\n",
       "      <td>50.0</td>\n",
       "      <td>41</td>\n",
       "      <td>42.0</td>\n",
       "      <td>46.0</td>\n",
       "    </tr>\n",
       "    <tr>\n",
       "      <th>4</th>\n",
       "      <td>12/01/2012</td>\n",
       "      <td>MatchesPlayed</td>\n",
       "      <td>59.0</td>\n",
       "      <td>39</td>\n",
       "      <td>39.0</td>\n",
       "      <td>26.0</td>\n",
       "    </tr>\n",
       "    <tr>\n",
       "      <th>5</th>\n",
       "      <td>01/01/2013</td>\n",
       "      <td>MatchesPlayed</td>\n",
       "      <td>42.0</td>\n",
       "      <td>40</td>\n",
       "      <td>40.0</td>\n",
       "      <td>18.0</td>\n",
       "    </tr>\n",
       "    <tr>\n",
       "      <th>6</th>\n",
       "      <td>02/01/2013</td>\n",
       "      <td>MatchesPlayed</td>\n",
       "      <td>30.0</td>\n",
       "      <td>40</td>\n",
       "      <td>40.0</td>\n",
       "      <td>36.0</td>\n",
       "    </tr>\n",
       "    <tr>\n",
       "      <th>7</th>\n",
       "      <td>03/01/2013</td>\n",
       "      <td>MatchesPlayed</td>\n",
       "      <td>35.0</td>\n",
       "      <td>38</td>\n",
       "      <td>39.0</td>\n",
       "      <td>36.0</td>\n",
       "    </tr>\n",
       "    <tr>\n",
       "      <th>8</th>\n",
       "      <td>04/01/2013</td>\n",
       "      <td>MatchesPlayed</td>\n",
       "      <td>42.0</td>\n",
       "      <td>42</td>\n",
       "      <td>41.0</td>\n",
       "      <td>36.0</td>\n",
       "    </tr>\n",
       "    <tr>\n",
       "      <th>9</th>\n",
       "      <td>05/01/2013</td>\n",
       "      <td>MatchesPlayed</td>\n",
       "      <td>33.0</td>\n",
       "      <td>40</td>\n",
       "      <td>40.0</td>\n",
       "      <td>27.0</td>\n",
       "    </tr>\n",
       "    <tr>\n",
       "      <th>10</th>\n",
       "      <td>06/02/2013</td>\n",
       "      <td>MatchesPlayed</td>\n",
       "      <td>NaN</td>\n",
       "      <td>10</td>\n",
       "      <td>NaN</td>\n",
       "      <td>NaN</td>\n",
       "    </tr>\n",
       "    <tr>\n",
       "      <th>11</th>\n",
       "      <td>08/01/2012</td>\n",
       "      <td>GoalsScored</td>\n",
       "      <td>57.0</td>\n",
       "      <td>60</td>\n",
       "      <td>21.0</td>\n",
       "      <td>23.0</td>\n",
       "    </tr>\n",
       "    <tr>\n",
       "      <th>12</th>\n",
       "      <td>09/01/2012</td>\n",
       "      <td>GoalsScored</td>\n",
       "      <td>111.0</td>\n",
       "      <td>112</td>\n",
       "      <td>133.0</td>\n",
       "      <td>135.0</td>\n",
       "    </tr>\n",
       "    <tr>\n",
       "      <th>13</th>\n",
       "      <td>10/01/2012</td>\n",
       "      <td>GoalsScored</td>\n",
       "      <td>95.0</td>\n",
       "      <td>88</td>\n",
       "      <td>97.0</td>\n",
       "      <td>77.0</td>\n",
       "    </tr>\n",
       "    <tr>\n",
       "      <th>14</th>\n",
       "      <td>11/01/2012</td>\n",
       "      <td>GoalsScored</td>\n",
       "      <td>121.0</td>\n",
       "      <td>116</td>\n",
       "      <td>120.0</td>\n",
       "      <td>137.0</td>\n",
       "    </tr>\n",
       "    <tr>\n",
       "      <th>15</th>\n",
       "      <td>12/01/2012</td>\n",
       "      <td>GoalsScored</td>\n",
       "      <td>183.0</td>\n",
       "      <td>109</td>\n",
       "      <td>125.0</td>\n",
       "      <td>72.0</td>\n",
       "    </tr>\n",
       "    <tr>\n",
       "      <th>16</th>\n",
       "      <td>01/01/2013</td>\n",
       "      <td>GoalsScored</td>\n",
       "      <td>117.0</td>\n",
       "      <td>121</td>\n",
       "      <td>104.0</td>\n",
       "      <td>51.0</td>\n",
       "    </tr>\n",
       "    <tr>\n",
       "      <th>17</th>\n",
       "      <td>02/01/2013</td>\n",
       "      <td>GoalsScored</td>\n",
       "      <td>87.0</td>\n",
       "      <td>110</td>\n",
       "      <td>100.0</td>\n",
       "      <td>101.0</td>\n",
       "    </tr>\n",
       "    <tr>\n",
       "      <th>18</th>\n",
       "      <td>03/01/2013</td>\n",
       "      <td>GoalsScored</td>\n",
       "      <td>91.0</td>\n",
       "      <td>101</td>\n",
       "      <td>99.0</td>\n",
       "      <td>106.0</td>\n",
       "    </tr>\n",
       "    <tr>\n",
       "      <th>19</th>\n",
       "      <td>04/01/2013</td>\n",
       "      <td>GoalsScored</td>\n",
       "      <td>105.0</td>\n",
       "      <td>127</td>\n",
       "      <td>102.0</td>\n",
       "      <td>104.0</td>\n",
       "    </tr>\n",
       "    <tr>\n",
       "      <th>20</th>\n",
       "      <td>05/01/2013</td>\n",
       "      <td>GoalsScored</td>\n",
       "      <td>96.0</td>\n",
       "      <td>109</td>\n",
       "      <td>102.0</td>\n",
       "      <td>92.0</td>\n",
       "    </tr>\n",
       "    <tr>\n",
       "      <th>21</th>\n",
       "      <td>06/01/2013</td>\n",
       "      <td>GoalsScored</td>\n",
       "      <td>NaN</td>\n",
       "      <td>80</td>\n",
       "      <td>NaN</td>\n",
       "      <td>NaN</td>\n",
       "    </tr>\n",
       "  </tbody>\n",
       "</table>\n",
       "</div>"
      ],
      "text/plain": [
       "         Month           Stat    EPL  La Liga  Serie A  Bundesliga\n",
       "2   10/01/2012  MatchesPlayed   31.0       31     39.0        27.0\n",
       "3   11/01/2012  MatchesPlayed   50.0       41     42.0        46.0\n",
       "4   12/01/2012  MatchesPlayed   59.0       39     39.0        26.0\n",
       "5   01/01/2013  MatchesPlayed   42.0       40     40.0        18.0\n",
       "6   02/01/2013  MatchesPlayed   30.0       40     40.0        36.0\n",
       "7   03/01/2013  MatchesPlayed   35.0       38     39.0        36.0\n",
       "8   04/01/2013  MatchesPlayed   42.0       42     41.0        36.0\n",
       "9   05/01/2013  MatchesPlayed   33.0       40     40.0        27.0\n",
       "10  06/02/2013  MatchesPlayed    NaN       10      NaN         NaN\n",
       "11  08/01/2012    GoalsScored   57.0       60     21.0        23.0\n",
       "12  09/01/2012    GoalsScored  111.0      112    133.0       135.0\n",
       "13  10/01/2012    GoalsScored   95.0       88     97.0        77.0\n",
       "14  11/01/2012    GoalsScored  121.0      116    120.0       137.0\n",
       "15  12/01/2012    GoalsScored  183.0      109    125.0        72.0\n",
       "16  01/01/2013    GoalsScored  117.0      121    104.0        51.0\n",
       "17  02/01/2013    GoalsScored   87.0      110    100.0       101.0\n",
       "18  03/01/2013    GoalsScored   91.0      101     99.0       106.0\n",
       "19  04/01/2013    GoalsScored  105.0      127    102.0       104.0\n",
       "20  05/01/2013    GoalsScored   96.0      109    102.0        92.0\n",
       "21  06/01/2013    GoalsScored    NaN       80      NaN         NaN"
      ]
     },
     "execution_count": 14,
     "metadata": {},
     "output_type": "execute_result"
    }
   ],
   "source": [
    "dB"
   ]
  },
  {
   "cell_type": "code",
   "execution_count": 15,
   "metadata": {
    "collapsed": true
   },
   "outputs": [],
   "source": [
    "data = dA.append(dB)"
   ]
  },
  {
   "cell_type": "code",
   "execution_count": 17,
   "metadata": {},
   "outputs": [
    {
     "data": {
      "text/html": [
       "<div>\n",
       "<table border=\"1\" class=\"dataframe\">\n",
       "  <thead>\n",
       "    <tr style=\"text-align: right;\">\n",
       "      <th></th>\n",
       "      <th>Bundesliga</th>\n",
       "      <th>EPL</th>\n",
       "      <th>La Liga</th>\n",
       "      <th>Month</th>\n",
       "      <th>Serie A</th>\n",
       "      <th>Stat</th>\n",
       "    </tr>\n",
       "  </thead>\n",
       "  <tbody>\n",
       "    <tr>\n",
       "      <th>0</th>\n",
       "      <td>27.0</td>\n",
       "      <td>20.0</td>\n",
       "      <td>31.0</td>\n",
       "      <td>08/01/2012</td>\n",
       "      <td>39.0</td>\n",
       "      <td>MatchesPlayed</td>\n",
       "    </tr>\n",
       "    <tr>\n",
       "      <th>1</th>\n",
       "      <td>27.0</td>\n",
       "      <td>38.0</td>\n",
       "      <td>31.0</td>\n",
       "      <td>09/01/2012</td>\n",
       "      <td>39.0</td>\n",
       "      <td>MatchesPlayed</td>\n",
       "    </tr>\n",
       "    <tr>\n",
       "      <th>2</th>\n",
       "      <td>27.0</td>\n",
       "      <td>31.0</td>\n",
       "      <td>31.0</td>\n",
       "      <td>10/01/2012</td>\n",
       "      <td>39.0</td>\n",
       "      <td>MatchesPlayed</td>\n",
       "    </tr>\n",
       "    <tr>\n",
       "      <th>3</th>\n",
       "      <td>46.0</td>\n",
       "      <td>50.0</td>\n",
       "      <td>41.0</td>\n",
       "      <td>11/01/2012</td>\n",
       "      <td>42.0</td>\n",
       "      <td>MatchesPlayed</td>\n",
       "    </tr>\n",
       "    <tr>\n",
       "      <th>4</th>\n",
       "      <td>26.0</td>\n",
       "      <td>59.0</td>\n",
       "      <td>39.0</td>\n",
       "      <td>12/01/2012</td>\n",
       "      <td>39.0</td>\n",
       "      <td>MatchesPlayed</td>\n",
       "    </tr>\n",
       "    <tr>\n",
       "      <th>5</th>\n",
       "      <td>18.0</td>\n",
       "      <td>42.0</td>\n",
       "      <td>40.0</td>\n",
       "      <td>01/01/2013</td>\n",
       "      <td>40.0</td>\n",
       "      <td>MatchesPlayed</td>\n",
       "    </tr>\n",
       "    <tr>\n",
       "      <th>6</th>\n",
       "      <td>36.0</td>\n",
       "      <td>30.0</td>\n",
       "      <td>40.0</td>\n",
       "      <td>02/01/2013</td>\n",
       "      <td>40.0</td>\n",
       "      <td>MatchesPlayed</td>\n",
       "    </tr>\n",
       "    <tr>\n",
       "      <th>7</th>\n",
       "      <td>36.0</td>\n",
       "      <td>35.0</td>\n",
       "      <td>38.0</td>\n",
       "      <td>03/01/2013</td>\n",
       "      <td>39.0</td>\n",
       "      <td>MatchesPlayed</td>\n",
       "    </tr>\n",
       "    <tr>\n",
       "      <th>8</th>\n",
       "      <td>36.0</td>\n",
       "      <td>42.0</td>\n",
       "      <td>42.0</td>\n",
       "      <td>04/01/2013</td>\n",
       "      <td>41.0</td>\n",
       "      <td>MatchesPlayed</td>\n",
       "    </tr>\n",
       "    <tr>\n",
       "      <th>9</th>\n",
       "      <td>27.0</td>\n",
       "      <td>33.0</td>\n",
       "      <td>40.0</td>\n",
       "      <td>05/01/2013</td>\n",
       "      <td>40.0</td>\n",
       "      <td>MatchesPlayed</td>\n",
       "    </tr>\n",
       "    <tr>\n",
       "      <th>10</th>\n",
       "      <td>23.0</td>\n",
       "      <td>57.0</td>\n",
       "      <td>10.0</td>\n",
       "      <td>06/02/2013</td>\n",
       "      <td>21.0</td>\n",
       "      <td>MatchesPlayed</td>\n",
       "    </tr>\n",
       "    <tr>\n",
       "      <th>11</th>\n",
       "      <td>23.0</td>\n",
       "      <td>57.0</td>\n",
       "      <td>60.0</td>\n",
       "      <td>08/01/2012</td>\n",
       "      <td>21.0</td>\n",
       "      <td>GoalsScored</td>\n",
       "    </tr>\n",
       "    <tr>\n",
       "      <th>12</th>\n",
       "      <td>135.0</td>\n",
       "      <td>111.0</td>\n",
       "      <td>112.0</td>\n",
       "      <td>09/01/2012</td>\n",
       "      <td>133.0</td>\n",
       "      <td>GoalsScored</td>\n",
       "    </tr>\n",
       "    <tr>\n",
       "      <th>13</th>\n",
       "      <td>77.0</td>\n",
       "      <td>95.0</td>\n",
       "      <td>88.0</td>\n",
       "      <td>10/01/2012</td>\n",
       "      <td>97.0</td>\n",
       "      <td>GoalsScored</td>\n",
       "    </tr>\n",
       "    <tr>\n",
       "      <th>14</th>\n",
       "      <td>137.0</td>\n",
       "      <td>121.0</td>\n",
       "      <td>116.0</td>\n",
       "      <td>11/01/2012</td>\n",
       "      <td>120.0</td>\n",
       "      <td>GoalsScored</td>\n",
       "    </tr>\n",
       "    <tr>\n",
       "      <th>15</th>\n",
       "      <td>72.0</td>\n",
       "      <td>183.0</td>\n",
       "      <td>109.0</td>\n",
       "      <td>12/01/2012</td>\n",
       "      <td>125.0</td>\n",
       "      <td>GoalsScored</td>\n",
       "    </tr>\n",
       "    <tr>\n",
       "      <th>16</th>\n",
       "      <td>51.0</td>\n",
       "      <td>117.0</td>\n",
       "      <td>121.0</td>\n",
       "      <td>01/01/2013</td>\n",
       "      <td>104.0</td>\n",
       "      <td>GoalsScored</td>\n",
       "    </tr>\n",
       "    <tr>\n",
       "      <th>17</th>\n",
       "      <td>101.0</td>\n",
       "      <td>87.0</td>\n",
       "      <td>110.0</td>\n",
       "      <td>02/01/2013</td>\n",
       "      <td>100.0</td>\n",
       "      <td>GoalsScored</td>\n",
       "    </tr>\n",
       "    <tr>\n",
       "      <th>18</th>\n",
       "      <td>106.0</td>\n",
       "      <td>91.0</td>\n",
       "      <td>101.0</td>\n",
       "      <td>03/01/2013</td>\n",
       "      <td>99.0</td>\n",
       "      <td>GoalsScored</td>\n",
       "    </tr>\n",
       "    <tr>\n",
       "      <th>19</th>\n",
       "      <td>104.0</td>\n",
       "      <td>105.0</td>\n",
       "      <td>127.0</td>\n",
       "      <td>04/01/2013</td>\n",
       "      <td>102.0</td>\n",
       "      <td>GoalsScored</td>\n",
       "    </tr>\n",
       "    <tr>\n",
       "      <th>20</th>\n",
       "      <td>92.0</td>\n",
       "      <td>96.0</td>\n",
       "      <td>109.0</td>\n",
       "      <td>05/01/2013</td>\n",
       "      <td>102.0</td>\n",
       "      <td>GoalsScored</td>\n",
       "    </tr>\n",
       "    <tr>\n",
       "      <th>21</th>\n",
       "      <td>NaN</td>\n",
       "      <td>NaN</td>\n",
       "      <td>80.0</td>\n",
       "      <td>06/01/2013</td>\n",
       "      <td>NaN</td>\n",
       "      <td>GoalsScored</td>\n",
       "    </tr>\n",
       "  </tbody>\n",
       "</table>\n",
       "</div>"
      ],
      "text/plain": [
       "    Bundesliga    EPL  La Liga       Month  Serie A           Stat\n",
       "0         27.0   20.0     31.0  08/01/2012     39.0  MatchesPlayed\n",
       "1         27.0   38.0     31.0  09/01/2012     39.0  MatchesPlayed\n",
       "2         27.0   31.0     31.0  10/01/2012     39.0  MatchesPlayed\n",
       "3         46.0   50.0     41.0  11/01/2012     42.0  MatchesPlayed\n",
       "4         26.0   59.0     39.0  12/01/2012     39.0  MatchesPlayed\n",
       "5         18.0   42.0     40.0  01/01/2013     40.0  MatchesPlayed\n",
       "6         36.0   30.0     40.0  02/01/2013     40.0  MatchesPlayed\n",
       "7         36.0   35.0     38.0  03/01/2013     39.0  MatchesPlayed\n",
       "8         36.0   42.0     42.0  04/01/2013     41.0  MatchesPlayed\n",
       "9         27.0   33.0     40.0  05/01/2013     40.0  MatchesPlayed\n",
       "10        23.0   57.0     10.0  06/02/2013     21.0  MatchesPlayed\n",
       "11        23.0   57.0     60.0  08/01/2012     21.0    GoalsScored\n",
       "12       135.0  111.0    112.0  09/01/2012    133.0    GoalsScored\n",
       "13        77.0   95.0     88.0  10/01/2012     97.0    GoalsScored\n",
       "14       137.0  121.0    116.0  11/01/2012    120.0    GoalsScored\n",
       "15        72.0  183.0    109.0  12/01/2012    125.0    GoalsScored\n",
       "16        51.0  117.0    121.0  01/01/2013    104.0    GoalsScored\n",
       "17       101.0   87.0    110.0  02/01/2013    100.0    GoalsScored\n",
       "18       106.0   91.0    101.0  03/01/2013     99.0    GoalsScored\n",
       "19       104.0  105.0    127.0  04/01/2013    102.0    GoalsScored\n",
       "20        92.0   96.0    109.0  05/01/2013    102.0    GoalsScored\n",
       "21         NaN    NaN     80.0  06/01/2013      NaN    GoalsScored"
      ]
     },
     "execution_count": 17,
     "metadata": {},
     "output_type": "execute_result"
    }
   ],
   "source": [
    "data.fillna(method='bfill')"
   ]
  },
  {
   "cell_type": "code",
   "execution_count": 45,
   "metadata": {},
   "outputs": [
    {
     "data": {
      "text/html": [
       "<div>\n",
       "<table border=\"1\" class=\"dataframe\">\n",
       "  <thead>\n",
       "    <tr style=\"text-align: right;\">\n",
       "      <th></th>\n",
       "      <th>Bundesliga</th>\n",
       "      <th>EPL</th>\n",
       "      <th>La Liga</th>\n",
       "      <th>Month</th>\n",
       "      <th>Serie A</th>\n",
       "      <th>Stat</th>\n",
       "    </tr>\n",
       "  </thead>\n",
       "  <tbody>\n",
       "    <tr>\n",
       "      <th>0</th>\n",
       "      <td>20</td>\n",
       "      <td>20</td>\n",
       "      <td>08/01/2012</td>\n",
       "      <td>08/01/2012</td>\n",
       "      <td>MatchesPlayed</td>\n",
       "      <td>MatchesPlayed</td>\n",
       "    </tr>\n",
       "    <tr>\n",
       "      <th>1</th>\n",
       "      <td>38</td>\n",
       "      <td>38</td>\n",
       "      <td>09/01/2012</td>\n",
       "      <td>09/01/2012</td>\n",
       "      <td>MatchesPlayed</td>\n",
       "      <td>MatchesPlayed</td>\n",
       "    </tr>\n",
       "    <tr>\n",
       "      <th>2</th>\n",
       "      <td>31</td>\n",
       "      <td>31</td>\n",
       "      <td>10/01/2012</td>\n",
       "      <td>10/01/2012</td>\n",
       "      <td>MatchesPlayed</td>\n",
       "      <td>MatchesPlayed</td>\n",
       "    </tr>\n",
       "    <tr>\n",
       "      <th>2</th>\n",
       "      <td>27</td>\n",
       "      <td>31</td>\n",
       "      <td>31</td>\n",
       "      <td>10/01/2012</td>\n",
       "      <td>39</td>\n",
       "      <td>MatchesPlayed</td>\n",
       "    </tr>\n",
       "    <tr>\n",
       "      <th>3</th>\n",
       "      <td>46</td>\n",
       "      <td>50</td>\n",
       "      <td>41</td>\n",
       "      <td>11/01/2012</td>\n",
       "      <td>42</td>\n",
       "      <td>MatchesPlayed</td>\n",
       "    </tr>\n",
       "    <tr>\n",
       "      <th>4</th>\n",
       "      <td>26</td>\n",
       "      <td>59</td>\n",
       "      <td>39</td>\n",
       "      <td>12/01/2012</td>\n",
       "      <td>39</td>\n",
       "      <td>MatchesPlayed</td>\n",
       "    </tr>\n",
       "    <tr>\n",
       "      <th>5</th>\n",
       "      <td>18</td>\n",
       "      <td>42</td>\n",
       "      <td>40</td>\n",
       "      <td>01/01/2013</td>\n",
       "      <td>40</td>\n",
       "      <td>MatchesPlayed</td>\n",
       "    </tr>\n",
       "    <tr>\n",
       "      <th>6</th>\n",
       "      <td>36</td>\n",
       "      <td>30</td>\n",
       "      <td>40</td>\n",
       "      <td>02/01/2013</td>\n",
       "      <td>40</td>\n",
       "      <td>MatchesPlayed</td>\n",
       "    </tr>\n",
       "    <tr>\n",
       "      <th>7</th>\n",
       "      <td>36</td>\n",
       "      <td>35</td>\n",
       "      <td>38</td>\n",
       "      <td>03/01/2013</td>\n",
       "      <td>39</td>\n",
       "      <td>MatchesPlayed</td>\n",
       "    </tr>\n",
       "    <tr>\n",
       "      <th>8</th>\n",
       "      <td>36</td>\n",
       "      <td>42</td>\n",
       "      <td>42</td>\n",
       "      <td>04/01/2013</td>\n",
       "      <td>41</td>\n",
       "      <td>MatchesPlayed</td>\n",
       "    </tr>\n",
       "    <tr>\n",
       "      <th>9</th>\n",
       "      <td>27</td>\n",
       "      <td>33</td>\n",
       "      <td>40</td>\n",
       "      <td>05/01/2013</td>\n",
       "      <td>40</td>\n",
       "      <td>MatchesPlayed</td>\n",
       "    </tr>\n",
       "    <tr>\n",
       "      <th>10</th>\n",
       "      <td>10</td>\n",
       "      <td>10</td>\n",
       "      <td>10</td>\n",
       "      <td>06/02/2013</td>\n",
       "      <td>MatchesPlayed</td>\n",
       "      <td>MatchesPlayed</td>\n",
       "    </tr>\n",
       "    <tr>\n",
       "      <th>11</th>\n",
       "      <td>23</td>\n",
       "      <td>57</td>\n",
       "      <td>60</td>\n",
       "      <td>08/01/2012</td>\n",
       "      <td>21</td>\n",
       "      <td>GoalsScored</td>\n",
       "    </tr>\n",
       "    <tr>\n",
       "      <th>12</th>\n",
       "      <td>135</td>\n",
       "      <td>111</td>\n",
       "      <td>112</td>\n",
       "      <td>09/01/2012</td>\n",
       "      <td>133</td>\n",
       "      <td>GoalsScored</td>\n",
       "    </tr>\n",
       "    <tr>\n",
       "      <th>13</th>\n",
       "      <td>77</td>\n",
       "      <td>95</td>\n",
       "      <td>88</td>\n",
       "      <td>10/01/2012</td>\n",
       "      <td>97</td>\n",
       "      <td>GoalsScored</td>\n",
       "    </tr>\n",
       "    <tr>\n",
       "      <th>14</th>\n",
       "      <td>137</td>\n",
       "      <td>121</td>\n",
       "      <td>116</td>\n",
       "      <td>11/01/2012</td>\n",
       "      <td>120</td>\n",
       "      <td>GoalsScored</td>\n",
       "    </tr>\n",
       "    <tr>\n",
       "      <th>15</th>\n",
       "      <td>72</td>\n",
       "      <td>183</td>\n",
       "      <td>109</td>\n",
       "      <td>12/01/2012</td>\n",
       "      <td>125</td>\n",
       "      <td>GoalsScored</td>\n",
       "    </tr>\n",
       "    <tr>\n",
       "      <th>16</th>\n",
       "      <td>51</td>\n",
       "      <td>117</td>\n",
       "      <td>121</td>\n",
       "      <td>01/01/2013</td>\n",
       "      <td>104</td>\n",
       "      <td>GoalsScored</td>\n",
       "    </tr>\n",
       "    <tr>\n",
       "      <th>17</th>\n",
       "      <td>101</td>\n",
       "      <td>87</td>\n",
       "      <td>110</td>\n",
       "      <td>02/01/2013</td>\n",
       "      <td>100</td>\n",
       "      <td>GoalsScored</td>\n",
       "    </tr>\n",
       "    <tr>\n",
       "      <th>18</th>\n",
       "      <td>106</td>\n",
       "      <td>91</td>\n",
       "      <td>101</td>\n",
       "      <td>03/01/2013</td>\n",
       "      <td>99</td>\n",
       "      <td>GoalsScored</td>\n",
       "    </tr>\n",
       "    <tr>\n",
       "      <th>19</th>\n",
       "      <td>104</td>\n",
       "      <td>105</td>\n",
       "      <td>127</td>\n",
       "      <td>04/01/2013</td>\n",
       "      <td>102</td>\n",
       "      <td>GoalsScored</td>\n",
       "    </tr>\n",
       "    <tr>\n",
       "      <th>20</th>\n",
       "      <td>92</td>\n",
       "      <td>96</td>\n",
       "      <td>109</td>\n",
       "      <td>05/01/2013</td>\n",
       "      <td>102</td>\n",
       "      <td>GoalsScored</td>\n",
       "    </tr>\n",
       "    <tr>\n",
       "      <th>21</th>\n",
       "      <td>80</td>\n",
       "      <td>80</td>\n",
       "      <td>80</td>\n",
       "      <td>06/01/2013</td>\n",
       "      <td>GoalsScored</td>\n",
       "      <td>GoalsScored</td>\n",
       "    </tr>\n",
       "  </tbody>\n",
       "</table>\n",
       "</div>"
      ],
      "text/plain": [
       "   Bundesliga  EPL     La Liga       Month        Serie A           Stat\n",
       "0          20   20  08/01/2012  08/01/2012  MatchesPlayed  MatchesPlayed\n",
       "1          38   38  09/01/2012  09/01/2012  MatchesPlayed  MatchesPlayed\n",
       "2          31   31  10/01/2012  10/01/2012  MatchesPlayed  MatchesPlayed\n",
       "2          27   31          31  10/01/2012             39  MatchesPlayed\n",
       "3          46   50          41  11/01/2012             42  MatchesPlayed\n",
       "4          26   59          39  12/01/2012             39  MatchesPlayed\n",
       "5          18   42          40  01/01/2013             40  MatchesPlayed\n",
       "6          36   30          40  02/01/2013             40  MatchesPlayed\n",
       "7          36   35          38  03/01/2013             39  MatchesPlayed\n",
       "8          36   42          42  04/01/2013             41  MatchesPlayed\n",
       "9          27   33          40  05/01/2013             40  MatchesPlayed\n",
       "10         10   10          10  06/02/2013  MatchesPlayed  MatchesPlayed\n",
       "11         23   57          60  08/01/2012             21    GoalsScored\n",
       "12        135  111         112  09/01/2012            133    GoalsScored\n",
       "13         77   95          88  10/01/2012             97    GoalsScored\n",
       "14        137  121         116  11/01/2012            120    GoalsScored\n",
       "15         72  183         109  12/01/2012            125    GoalsScored\n",
       "16         51  117         121  01/01/2013            104    GoalsScored\n",
       "17        101   87         110  02/01/2013            100    GoalsScored\n",
       "18        106   91         101  03/01/2013             99    GoalsScored\n",
       "19        104  105         127  04/01/2013            102    GoalsScored\n",
       "20         92   96         109  05/01/2013            102    GoalsScored\n",
       "21         80   80          80  06/01/2013    GoalsScored    GoalsScored"
      ]
     },
     "execution_count": 45,
     "metadata": {},
     "output_type": "execute_result"
    }
   ],
   "source": [
    "data.fillna(method='bfill',axis=1)"
   ]
  },
  {
   "cell_type": "code",
   "execution_count": 13,
   "metadata": {},
   "outputs": [
    {
     "data": {
      "text/html": [
       "<div>\n",
       "<table border=\"1\" class=\"dataframe\">\n",
       "  <thead>\n",
       "    <tr style=\"text-align: right;\">\n",
       "      <th></th>\n",
       "      <th>A</th>\n",
       "      <th>B</th>\n",
       "      <th>C</th>\n",
       "      <th>D</th>\n",
       "    </tr>\n",
       "  </thead>\n",
       "  <tbody>\n",
       "    <tr>\n",
       "      <th>0</th>\n",
       "      <td>NaN</td>\n",
       "      <td>2.0</td>\n",
       "      <td>NaN</td>\n",
       "      <td>0</td>\n",
       "    </tr>\n",
       "    <tr>\n",
       "      <th>1</th>\n",
       "      <td>3.0</td>\n",
       "      <td>4.0</td>\n",
       "      <td>NaN</td>\n",
       "      <td>1</td>\n",
       "    </tr>\n",
       "    <tr>\n",
       "      <th>2</th>\n",
       "      <td>NaN</td>\n",
       "      <td>NaN</td>\n",
       "      <td>NaN</td>\n",
       "      <td>5</td>\n",
       "    </tr>\n",
       "  </tbody>\n",
       "</table>\n",
       "</div>"
      ],
      "text/plain": [
       "     A    B   C  D\n",
       "0  NaN  2.0 NaN  0\n",
       "1  3.0  4.0 NaN  1\n",
       "2  NaN  NaN NaN  5"
      ]
     },
     "execution_count": 13,
     "metadata": {},
     "output_type": "execute_result"
    }
   ],
   "source": [
    "df = pd.DataFrame([[np.nan, 2, np.nan, 0], [3, 4, np.nan, 1],\n",
    "                    [np.nan, np.nan, np.nan, 5]],\n",
    "                   columns=list('ABCD'))\n",
    "df"
   ]
  },
  {
   "cell_type": "code",
   "execution_count": 12,
   "metadata": {},
   "outputs": [
    {
     "data": {
      "text/html": [
       "<div>\n",
       "<table border=\"1\" class=\"dataframe\">\n",
       "  <thead>\n",
       "    <tr style=\"text-align: right;\">\n",
       "      <th></th>\n",
       "      <th>A</th>\n",
       "      <th>B</th>\n",
       "      <th>C</th>\n",
       "      <th>D</th>\n",
       "    </tr>\n",
       "  </thead>\n",
       "  <tbody>\n",
       "    <tr>\n",
       "      <th>0</th>\n",
       "      <td>NaN</td>\n",
       "      <td>2.0</td>\n",
       "      <td>NaN</td>\n",
       "      <td>0</td>\n",
       "    </tr>\n",
       "    <tr>\n",
       "      <th>1</th>\n",
       "      <td>3.0</td>\n",
       "      <td>4.0</td>\n",
       "      <td>NaN</td>\n",
       "      <td>1</td>\n",
       "    </tr>\n",
       "  </tbody>\n",
       "</table>\n",
       "</div>"
      ],
      "text/plain": [
       "     A    B   C  D\n",
       "0  NaN  2.0 NaN  0\n",
       "1  3.0  4.0 NaN  1"
      ]
     },
     "execution_count": 12,
     "metadata": {},
     "output_type": "execute_result"
    }
   ],
   "source": [
    "#drop row if less than 2 non-na values r there\n",
    "df.dropna(thresh=2)"
   ]
  },
  {
   "cell_type": "markdown",
   "metadata": {},
   "source": [
    "### Handling Time Series"
   ]
  },
  {
   "cell_type": "code",
   "execution_count": 18,
   "metadata": {},
   "outputs": [
    {
     "data": {
      "text/html": [
       "<div>\n",
       "<table border=\"1\" class=\"dataframe\">\n",
       "  <thead>\n",
       "    <tr style=\"text-align: right;\">\n",
       "      <th></th>\n",
       "      <th>Month</th>\n",
       "      <th>Stat</th>\n",
       "      <th>EPL</th>\n",
       "      <th>La Liga</th>\n",
       "      <th>Serie A</th>\n",
       "      <th>Bundesliga</th>\n",
       "    </tr>\n",
       "  </thead>\n",
       "  <tbody>\n",
       "    <tr>\n",
       "      <th>0</th>\n",
       "      <td>08/01/2012</td>\n",
       "      <td>MatchesPlayed</td>\n",
       "      <td>20.0</td>\n",
       "      <td>20</td>\n",
       "      <td>10.0</td>\n",
       "      <td>10.0</td>\n",
       "    </tr>\n",
       "    <tr>\n",
       "      <th>1</th>\n",
       "      <td>09/01/2012</td>\n",
       "      <td>MatchesPlayed</td>\n",
       "      <td>38.0</td>\n",
       "      <td>39</td>\n",
       "      <td>50.0</td>\n",
       "      <td>44.0</td>\n",
       "    </tr>\n",
       "    <tr>\n",
       "      <th>2</th>\n",
       "      <td>10/01/2012</td>\n",
       "      <td>MatchesPlayed</td>\n",
       "      <td>31.0</td>\n",
       "      <td>31</td>\n",
       "      <td>39.0</td>\n",
       "      <td>27.0</td>\n",
       "    </tr>\n",
       "    <tr>\n",
       "      <th>3</th>\n",
       "      <td>11/01/2012</td>\n",
       "      <td>MatchesPlayed</td>\n",
       "      <td>50.0</td>\n",
       "      <td>41</td>\n",
       "      <td>42.0</td>\n",
       "      <td>46.0</td>\n",
       "    </tr>\n",
       "    <tr>\n",
       "      <th>4</th>\n",
       "      <td>12/01/2012</td>\n",
       "      <td>MatchesPlayed</td>\n",
       "      <td>59.0</td>\n",
       "      <td>39</td>\n",
       "      <td>39.0</td>\n",
       "      <td>26.0</td>\n",
       "    </tr>\n",
       "    <tr>\n",
       "      <th>5</th>\n",
       "      <td>01/01/2013</td>\n",
       "      <td>MatchesPlayed</td>\n",
       "      <td>42.0</td>\n",
       "      <td>40</td>\n",
       "      <td>40.0</td>\n",
       "      <td>18.0</td>\n",
       "    </tr>\n",
       "    <tr>\n",
       "      <th>6</th>\n",
       "      <td>02/01/2013</td>\n",
       "      <td>MatchesPlayed</td>\n",
       "      <td>30.0</td>\n",
       "      <td>40</td>\n",
       "      <td>40.0</td>\n",
       "      <td>36.0</td>\n",
       "    </tr>\n",
       "    <tr>\n",
       "      <th>7</th>\n",
       "      <td>03/01/2013</td>\n",
       "      <td>MatchesPlayed</td>\n",
       "      <td>35.0</td>\n",
       "      <td>38</td>\n",
       "      <td>39.0</td>\n",
       "      <td>36.0</td>\n",
       "    </tr>\n",
       "    <tr>\n",
       "      <th>8</th>\n",
       "      <td>04/01/2013</td>\n",
       "      <td>MatchesPlayed</td>\n",
       "      <td>42.0</td>\n",
       "      <td>42</td>\n",
       "      <td>41.0</td>\n",
       "      <td>36.0</td>\n",
       "    </tr>\n",
       "    <tr>\n",
       "      <th>9</th>\n",
       "      <td>05/01/2013</td>\n",
       "      <td>MatchesPlayed</td>\n",
       "      <td>33.0</td>\n",
       "      <td>40</td>\n",
       "      <td>40.0</td>\n",
       "      <td>27.0</td>\n",
       "    </tr>\n",
       "    <tr>\n",
       "      <th>10</th>\n",
       "      <td>06/02/2013</td>\n",
       "      <td>MatchesPlayed</td>\n",
       "      <td>NaN</td>\n",
       "      <td>10</td>\n",
       "      <td>NaN</td>\n",
       "      <td>NaN</td>\n",
       "    </tr>\n",
       "    <tr>\n",
       "      <th>11</th>\n",
       "      <td>08/01/2012</td>\n",
       "      <td>GoalsScored</td>\n",
       "      <td>57.0</td>\n",
       "      <td>60</td>\n",
       "      <td>21.0</td>\n",
       "      <td>23.0</td>\n",
       "    </tr>\n",
       "    <tr>\n",
       "      <th>12</th>\n",
       "      <td>09/01/2012</td>\n",
       "      <td>GoalsScored</td>\n",
       "      <td>111.0</td>\n",
       "      <td>112</td>\n",
       "      <td>133.0</td>\n",
       "      <td>135.0</td>\n",
       "    </tr>\n",
       "    <tr>\n",
       "      <th>13</th>\n",
       "      <td>10/01/2012</td>\n",
       "      <td>GoalsScored</td>\n",
       "      <td>95.0</td>\n",
       "      <td>88</td>\n",
       "      <td>97.0</td>\n",
       "      <td>77.0</td>\n",
       "    </tr>\n",
       "    <tr>\n",
       "      <th>14</th>\n",
       "      <td>11/01/2012</td>\n",
       "      <td>GoalsScored</td>\n",
       "      <td>121.0</td>\n",
       "      <td>116</td>\n",
       "      <td>120.0</td>\n",
       "      <td>137.0</td>\n",
       "    </tr>\n",
       "    <tr>\n",
       "      <th>15</th>\n",
       "      <td>12/01/2012</td>\n",
       "      <td>GoalsScored</td>\n",
       "      <td>183.0</td>\n",
       "      <td>109</td>\n",
       "      <td>125.0</td>\n",
       "      <td>72.0</td>\n",
       "    </tr>\n",
       "    <tr>\n",
       "      <th>16</th>\n",
       "      <td>01/01/2013</td>\n",
       "      <td>GoalsScored</td>\n",
       "      <td>117.0</td>\n",
       "      <td>121</td>\n",
       "      <td>104.0</td>\n",
       "      <td>51.0</td>\n",
       "    </tr>\n",
       "    <tr>\n",
       "      <th>17</th>\n",
       "      <td>02/01/2013</td>\n",
       "      <td>GoalsScored</td>\n",
       "      <td>87.0</td>\n",
       "      <td>110</td>\n",
       "      <td>100.0</td>\n",
       "      <td>101.0</td>\n",
       "    </tr>\n",
       "    <tr>\n",
       "      <th>18</th>\n",
       "      <td>03/01/2013</td>\n",
       "      <td>GoalsScored</td>\n",
       "      <td>91.0</td>\n",
       "      <td>101</td>\n",
       "      <td>99.0</td>\n",
       "      <td>106.0</td>\n",
       "    </tr>\n",
       "    <tr>\n",
       "      <th>19</th>\n",
       "      <td>04/01/2013</td>\n",
       "      <td>GoalsScored</td>\n",
       "      <td>105.0</td>\n",
       "      <td>127</td>\n",
       "      <td>102.0</td>\n",
       "      <td>104.0</td>\n",
       "    </tr>\n",
       "    <tr>\n",
       "      <th>20</th>\n",
       "      <td>05/01/2013</td>\n",
       "      <td>GoalsScored</td>\n",
       "      <td>96.0</td>\n",
       "      <td>109</td>\n",
       "      <td>102.0</td>\n",
       "      <td>92.0</td>\n",
       "    </tr>\n",
       "    <tr>\n",
       "      <th>21</th>\n",
       "      <td>06/01/2013</td>\n",
       "      <td>GoalsScored</td>\n",
       "      <td>NaN</td>\n",
       "      <td>80</td>\n",
       "      <td>NaN</td>\n",
       "      <td>NaN</td>\n",
       "    </tr>\n",
       "  </tbody>\n",
       "</table>\n",
       "</div>"
      ],
      "text/plain": [
       "         Month           Stat    EPL  La Liga  Serie A  Bundesliga\n",
       "0   08/01/2012  MatchesPlayed   20.0       20     10.0        10.0\n",
       "1   09/01/2012  MatchesPlayed   38.0       39     50.0        44.0\n",
       "2   10/01/2012  MatchesPlayed   31.0       31     39.0        27.0\n",
       "3   11/01/2012  MatchesPlayed   50.0       41     42.0        46.0\n",
       "4   12/01/2012  MatchesPlayed   59.0       39     39.0        26.0\n",
       "5   01/01/2013  MatchesPlayed   42.0       40     40.0        18.0\n",
       "6   02/01/2013  MatchesPlayed   30.0       40     40.0        36.0\n",
       "7   03/01/2013  MatchesPlayed   35.0       38     39.0        36.0\n",
       "8   04/01/2013  MatchesPlayed   42.0       42     41.0        36.0\n",
       "9   05/01/2013  MatchesPlayed   33.0       40     40.0        27.0\n",
       "10  06/02/2013  MatchesPlayed    NaN       10      NaN         NaN\n",
       "11  08/01/2012    GoalsScored   57.0       60     21.0        23.0\n",
       "12  09/01/2012    GoalsScored  111.0      112    133.0       135.0\n",
       "13  10/01/2012    GoalsScored   95.0       88     97.0        77.0\n",
       "14  11/01/2012    GoalsScored  121.0      116    120.0       137.0\n",
       "15  12/01/2012    GoalsScored  183.0      109    125.0        72.0\n",
       "16  01/01/2013    GoalsScored  117.0      121    104.0        51.0\n",
       "17  02/01/2013    GoalsScored   87.0      110    100.0       101.0\n",
       "18  03/01/2013    GoalsScored   91.0      101     99.0       106.0\n",
       "19  04/01/2013    GoalsScored  105.0      127    102.0       104.0\n",
       "20  05/01/2013    GoalsScored   96.0      109    102.0        92.0\n",
       "21  06/01/2013    GoalsScored    NaN       80      NaN         NaN"
      ]
     },
     "execution_count": 18,
     "metadata": {},
     "output_type": "execute_result"
    }
   ],
   "source": [
    "goal_data"
   ]
  },
  {
   "cell_type": "code",
   "execution_count": 19,
   "metadata": {
    "collapsed": true
   },
   "outputs": [],
   "source": [
    "goal_data['Month'] = pd.to_datetime(goal_data['Month'])"
   ]
  },
  {
   "cell_type": "code",
   "execution_count": 49,
   "metadata": {},
   "outputs": [
    {
     "data": {
      "text/html": [
       "<div>\n",
       "<table border=\"1\" class=\"dataframe\">\n",
       "  <thead>\n",
       "    <tr style=\"text-align: right;\">\n",
       "      <th></th>\n",
       "      <th>Month</th>\n",
       "      <th>Stat</th>\n",
       "      <th>EPL</th>\n",
       "      <th>La Liga</th>\n",
       "      <th>Serie A</th>\n",
       "      <th>Bundesliga</th>\n",
       "    </tr>\n",
       "  </thead>\n",
       "  <tbody>\n",
       "    <tr>\n",
       "      <th>0</th>\n",
       "      <td>2012-08-01</td>\n",
       "      <td>MatchesPlayed</td>\n",
       "      <td>20.0</td>\n",
       "      <td>20</td>\n",
       "      <td>10.0</td>\n",
       "      <td>10.0</td>\n",
       "    </tr>\n",
       "    <tr>\n",
       "      <th>1</th>\n",
       "      <td>2012-09-01</td>\n",
       "      <td>MatchesPlayed</td>\n",
       "      <td>38.0</td>\n",
       "      <td>39</td>\n",
       "      <td>50.0</td>\n",
       "      <td>44.0</td>\n",
       "    </tr>\n",
       "    <tr>\n",
       "      <th>2</th>\n",
       "      <td>2012-10-01</td>\n",
       "      <td>MatchesPlayed</td>\n",
       "      <td>31.0</td>\n",
       "      <td>31</td>\n",
       "      <td>39.0</td>\n",
       "      <td>27.0</td>\n",
       "    </tr>\n",
       "    <tr>\n",
       "      <th>3</th>\n",
       "      <td>2012-11-01</td>\n",
       "      <td>MatchesPlayed</td>\n",
       "      <td>50.0</td>\n",
       "      <td>41</td>\n",
       "      <td>42.0</td>\n",
       "      <td>46.0</td>\n",
       "    </tr>\n",
       "    <tr>\n",
       "      <th>4</th>\n",
       "      <td>2012-12-01</td>\n",
       "      <td>MatchesPlayed</td>\n",
       "      <td>59.0</td>\n",
       "      <td>39</td>\n",
       "      <td>39.0</td>\n",
       "      <td>26.0</td>\n",
       "    </tr>\n",
       "    <tr>\n",
       "      <th>5</th>\n",
       "      <td>2013-01-01</td>\n",
       "      <td>MatchesPlayed</td>\n",
       "      <td>42.0</td>\n",
       "      <td>40</td>\n",
       "      <td>40.0</td>\n",
       "      <td>18.0</td>\n",
       "    </tr>\n",
       "    <tr>\n",
       "      <th>6</th>\n",
       "      <td>2013-02-01</td>\n",
       "      <td>MatchesPlayed</td>\n",
       "      <td>30.0</td>\n",
       "      <td>40</td>\n",
       "      <td>40.0</td>\n",
       "      <td>36.0</td>\n",
       "    </tr>\n",
       "    <tr>\n",
       "      <th>7</th>\n",
       "      <td>2013-03-01</td>\n",
       "      <td>MatchesPlayed</td>\n",
       "      <td>35.0</td>\n",
       "      <td>38</td>\n",
       "      <td>39.0</td>\n",
       "      <td>36.0</td>\n",
       "    </tr>\n",
       "    <tr>\n",
       "      <th>8</th>\n",
       "      <td>2013-04-01</td>\n",
       "      <td>MatchesPlayed</td>\n",
       "      <td>42.0</td>\n",
       "      <td>42</td>\n",
       "      <td>41.0</td>\n",
       "      <td>36.0</td>\n",
       "    </tr>\n",
       "    <tr>\n",
       "      <th>9</th>\n",
       "      <td>2013-05-01</td>\n",
       "      <td>MatchesPlayed</td>\n",
       "      <td>33.0</td>\n",
       "      <td>40</td>\n",
       "      <td>40.0</td>\n",
       "      <td>27.0</td>\n",
       "    </tr>\n",
       "    <tr>\n",
       "      <th>10</th>\n",
       "      <td>2013-06-02</td>\n",
       "      <td>MatchesPlayed</td>\n",
       "      <td>NaN</td>\n",
       "      <td>10</td>\n",
       "      <td>NaN</td>\n",
       "      <td>NaN</td>\n",
       "    </tr>\n",
       "    <tr>\n",
       "      <th>11</th>\n",
       "      <td>2012-08-01</td>\n",
       "      <td>GoalsScored</td>\n",
       "      <td>57.0</td>\n",
       "      <td>60</td>\n",
       "      <td>21.0</td>\n",
       "      <td>23.0</td>\n",
       "    </tr>\n",
       "    <tr>\n",
       "      <th>12</th>\n",
       "      <td>2012-09-01</td>\n",
       "      <td>GoalsScored</td>\n",
       "      <td>111.0</td>\n",
       "      <td>112</td>\n",
       "      <td>133.0</td>\n",
       "      <td>135.0</td>\n",
       "    </tr>\n",
       "    <tr>\n",
       "      <th>13</th>\n",
       "      <td>2012-10-01</td>\n",
       "      <td>GoalsScored</td>\n",
       "      <td>95.0</td>\n",
       "      <td>88</td>\n",
       "      <td>97.0</td>\n",
       "      <td>77.0</td>\n",
       "    </tr>\n",
       "    <tr>\n",
       "      <th>14</th>\n",
       "      <td>2012-11-01</td>\n",
       "      <td>GoalsScored</td>\n",
       "      <td>121.0</td>\n",
       "      <td>116</td>\n",
       "      <td>120.0</td>\n",
       "      <td>137.0</td>\n",
       "    </tr>\n",
       "    <tr>\n",
       "      <th>15</th>\n",
       "      <td>2012-12-01</td>\n",
       "      <td>GoalsScored</td>\n",
       "      <td>183.0</td>\n",
       "      <td>109</td>\n",
       "      <td>125.0</td>\n",
       "      <td>72.0</td>\n",
       "    </tr>\n",
       "    <tr>\n",
       "      <th>16</th>\n",
       "      <td>2013-01-01</td>\n",
       "      <td>GoalsScored</td>\n",
       "      <td>117.0</td>\n",
       "      <td>121</td>\n",
       "      <td>104.0</td>\n",
       "      <td>51.0</td>\n",
       "    </tr>\n",
       "    <tr>\n",
       "      <th>17</th>\n",
       "      <td>2013-02-01</td>\n",
       "      <td>GoalsScored</td>\n",
       "      <td>87.0</td>\n",
       "      <td>110</td>\n",
       "      <td>100.0</td>\n",
       "      <td>101.0</td>\n",
       "    </tr>\n",
       "    <tr>\n",
       "      <th>18</th>\n",
       "      <td>2013-03-01</td>\n",
       "      <td>GoalsScored</td>\n",
       "      <td>91.0</td>\n",
       "      <td>101</td>\n",
       "      <td>99.0</td>\n",
       "      <td>106.0</td>\n",
       "    </tr>\n",
       "    <tr>\n",
       "      <th>19</th>\n",
       "      <td>2013-04-01</td>\n",
       "      <td>GoalsScored</td>\n",
       "      <td>105.0</td>\n",
       "      <td>127</td>\n",
       "      <td>102.0</td>\n",
       "      <td>104.0</td>\n",
       "    </tr>\n",
       "    <tr>\n",
       "      <th>20</th>\n",
       "      <td>2013-05-01</td>\n",
       "      <td>GoalsScored</td>\n",
       "      <td>96.0</td>\n",
       "      <td>109</td>\n",
       "      <td>102.0</td>\n",
       "      <td>92.0</td>\n",
       "    </tr>\n",
       "    <tr>\n",
       "      <th>21</th>\n",
       "      <td>2013-06-01</td>\n",
       "      <td>GoalsScored</td>\n",
       "      <td>NaN</td>\n",
       "      <td>80</td>\n",
       "      <td>NaN</td>\n",
       "      <td>NaN</td>\n",
       "    </tr>\n",
       "  </tbody>\n",
       "</table>\n",
       "</div>"
      ],
      "text/plain": [
       "        Month           Stat    EPL  La Liga  Serie A  Bundesliga\n",
       "0  2012-08-01  MatchesPlayed   20.0       20     10.0        10.0\n",
       "1  2012-09-01  MatchesPlayed   38.0       39     50.0        44.0\n",
       "2  2012-10-01  MatchesPlayed   31.0       31     39.0        27.0\n",
       "3  2012-11-01  MatchesPlayed   50.0       41     42.0        46.0\n",
       "4  2012-12-01  MatchesPlayed   59.0       39     39.0        26.0\n",
       "5  2013-01-01  MatchesPlayed   42.0       40     40.0        18.0\n",
       "6  2013-02-01  MatchesPlayed   30.0       40     40.0        36.0\n",
       "7  2013-03-01  MatchesPlayed   35.0       38     39.0        36.0\n",
       "8  2013-04-01  MatchesPlayed   42.0       42     41.0        36.0\n",
       "9  2013-05-01  MatchesPlayed   33.0       40     40.0        27.0\n",
       "10 2013-06-02  MatchesPlayed    NaN       10      NaN         NaN\n",
       "11 2012-08-01    GoalsScored   57.0       60     21.0        23.0\n",
       "12 2012-09-01    GoalsScored  111.0      112    133.0       135.0\n",
       "13 2012-10-01    GoalsScored   95.0       88     97.0        77.0\n",
       "14 2012-11-01    GoalsScored  121.0      116    120.0       137.0\n",
       "15 2012-12-01    GoalsScored  183.0      109    125.0        72.0\n",
       "16 2013-01-01    GoalsScored  117.0      121    104.0        51.0\n",
       "17 2013-02-01    GoalsScored   87.0      110    100.0       101.0\n",
       "18 2013-03-01    GoalsScored   91.0      101     99.0       106.0\n",
       "19 2013-04-01    GoalsScored  105.0      127    102.0       104.0\n",
       "20 2013-05-01    GoalsScored   96.0      109    102.0        92.0\n",
       "21 2013-06-01    GoalsScored    NaN       80      NaN         NaN"
      ]
     },
     "execution_count": 49,
     "metadata": {},
     "output_type": "execute_result"
    }
   ],
   "source": [
    "goal_data"
   ]
  },
  {
   "cell_type": "code",
   "execution_count": 51,
   "metadata": {
    "collapsed": true
   },
   "outputs": [],
   "source": [
    "d = pd.datetime(2017,12,20)"
   ]
  },
  {
   "cell_type": "code",
   "execution_count": 53,
   "metadata": {},
   "outputs": [
    {
     "data": {
      "text/plain": [
       "datetime.datetime(2017, 12, 20, 0, 0)"
      ]
     },
     "execution_count": 53,
     "metadata": {},
     "output_type": "execute_result"
    }
   ],
   "source": [
    "d"
   ]
  },
  {
   "cell_type": "code",
   "execution_count": 55,
   "metadata": {},
   "outputs": [
    {
     "data": {
      "text/plain": [
       "Timestamp('2018-01-01 00:00:00')"
      ]
     },
     "execution_count": 55,
     "metadata": {},
     "output_type": "execute_result"
    }
   ],
   "source": [
    "d + pd.DateOffset(12)"
   ]
  },
  {
   "cell_type": "code",
   "execution_count": 56,
   "metadata": {
    "collapsed": true
   },
   "outputs": [],
   "source": [
    "from datetime import datetime"
   ]
  },
  {
   "cell_type": "code",
   "execution_count": 57,
   "metadata": {},
   "outputs": [
    {
     "data": {
      "text/plain": [
       "datetime.datetime(2017, 7, 13, 7, 46, 18, 318885)"
      ]
     },
     "execution_count": 57,
     "metadata": {},
     "output_type": "execute_result"
    }
   ],
   "source": [
    "datetime.now()"
   ]
  },
  {
   "cell_type": "code",
   "execution_count": 20,
   "metadata": {
    "collapsed": true
   },
   "outputs": [],
   "source": [
    "from dateutil import parser\n",
    "date = parser.parse(\"13th of July,2017\")\n",
    "date1 = parser.parse(\"5th of November,2017\")\n",
    "date2 = parser.parse(\"7th of November,2017\")"
   ]
  },
  {
   "cell_type": "code",
   "execution_count": 63,
   "metadata": {},
   "outputs": [
    {
     "data": {
      "text/plain": [
       "datetime.datetime(2017, 7, 13, 0, 0)"
      ]
     },
     "execution_count": 63,
     "metadata": {},
     "output_type": "execute_result"
    }
   ],
   "source": [
    "date"
   ]
  },
  {
   "cell_type": "code",
   "execution_count": 60,
   "metadata": {},
   "outputs": [
    {
     "data": {
      "text/plain": [
       "datetime.timedelta(2)"
      ]
     },
     "execution_count": 60,
     "metadata": {},
     "output_type": "execute_result"
    }
   ],
   "source": [
    "date2 - date1"
   ]
  },
  {
   "cell_type": "code",
   "execution_count": 64,
   "metadata": {},
   "outputs": [
    {
     "data": {
      "text/plain": [
       "'Thursday'"
      ]
     },
     "execution_count": 64,
     "metadata": {},
     "output_type": "execute_result"
    }
   ],
   "source": [
    "#Find weekof the day\n",
    "date.strftime('%A')"
   ]
  },
  {
   "cell_type": "code",
   "execution_count": 21,
   "metadata": {},
   "outputs": [
    {
     "name": "stdout",
     "output_type": "stream",
     "text": [
      "Help on built-in function strftime:\n",
      "\n",
      "strftime(...) method of datetime.datetime instance\n",
      "    format -> strftime() style string.\n",
      "\n"
     ]
    }
   ],
   "source": [
    "help(date.strftime)"
   ]
  },
  {
   "cell_type": "code",
   "execution_count": 66,
   "metadata": {},
   "outputs": [
    {
     "data": {
      "text/plain": [
       "'2017'"
      ]
     },
     "execution_count": 66,
     "metadata": {},
     "output_type": "execute_result"
    }
   ],
   "source": [
    "#Find year the day\n",
    "date.strftime('%Y')"
   ]
  },
  {
   "cell_type": "code",
   "execution_count": 67,
   "metadata": {},
   "outputs": [
    {
     "name": "stdout",
     "output_type": "stream",
     "text": [
      "Help on built-in function strftime:\n",
      "\n",
      "strftime(...) method of datetime.datetime instance\n",
      "    format -> strftime() style string.\n",
      "\n"
     ]
    }
   ],
   "source": [
    "help(date.strftime)"
   ]
  },
  {
   "cell_type": "code",
   "execution_count": 69,
   "metadata": {},
   "outputs": [
    {
     "data": {
      "text/plain": [
       "'00'"
      ]
     },
     "execution_count": 69,
     "metadata": {},
     "output_type": "execute_result"
    }
   ],
   "source": [
    "#Find year the day\n",
    "date.strftime('%M')"
   ]
  },
  {
   "cell_type": "code",
   "execution_count": 22,
   "metadata": {
    "collapsed": true
   },
   "outputs": [],
   "source": [
    "date = pd.to_datetime(\"13th of July 2017\")"
   ]
  },
  {
   "cell_type": "code",
   "execution_count": 23,
   "metadata": {},
   "outputs": [
    {
     "data": {
      "text/plain": [
       "Timestamp('2017-07-13 00:00:00')"
      ]
     },
     "execution_count": 23,
     "metadata": {},
     "output_type": "execute_result"
    }
   ],
   "source": [
    "date"
   ]
  },
  {
   "cell_type": "code",
   "execution_count": 74,
   "metadata": {},
   "outputs": [
    {
     "data": {
      "text/plain": [
       "DatetimeIndex(['2017-07-13 00:00:00', '2017-08-12 10:29:06',\n",
       "               '2017-09-11 20:58:12', '2017-10-12 07:27:18',\n",
       "               '2017-11-11 17:56:24', '2017-12-12 04:25:30',\n",
       "               '2018-01-11 14:54:36', '2018-02-11 01:23:42',\n",
       "               '2018-03-13 11:52:48', '2018-04-12 22:21:54',\n",
       "               '2018-05-13 08:51:00', '2018-06-12 19:20:06'],\n",
       "              dtype='datetime64[ns]', freq=None)"
      ]
     },
     "execution_count": 74,
     "metadata": {},
     "output_type": "execute_result"
    }
   ],
   "source": [
    "date + pd.to_timedelta(np.arange(12),'M')"
   ]
  },
  {
   "cell_type": "code",
   "execution_count": 76,
   "metadata": {},
   "outputs": [
    {
     "data": {
      "text/plain": [
       "DatetimeIndex(['2017-07-13', '2017-07-14', '2017-07-15', '2017-07-16',\n",
       "               '2017-07-17', '2017-07-18', '2017-07-19', '2017-07-20',\n",
       "               '2017-07-21', '2017-07-22', '2017-07-23', '2017-07-24'],\n",
       "              dtype='datetime64[ns]', freq=None)"
      ]
     },
     "execution_count": 76,
     "metadata": {},
     "output_type": "execute_result"
    }
   ],
   "source": [
    "date + pd.to_timedelta(np.arange(12),'D')"
   ]
  },
  {
   "cell_type": "code",
   "execution_count": 33,
   "metadata": {
    "collapsed": true
   },
   "outputs": [],
   "source": [
    "index = pd.DatetimeIndex(['2017-07-04','2017-08-4','2017-09-04','2017-06-04'])"
   ]
  },
  {
   "cell_type": "code",
   "execution_count": 31,
   "metadata": {
    "collapsed": true
   },
   "outputs": [],
   "source": [
    "data = pd.Series([0,1,2,3], index=index)\n",
    "data_dummy = pd.Series([0,1,2,3], index=['2017-07-04','2017-08-4','2017-09-04','2017-06-04'])"
   ]
  },
  {
   "cell_type": "code",
   "execution_count": 26,
   "metadata": {},
   "outputs": [
    {
     "data": {
      "text/plain": [
       "2017-07-04    0\n",
       "2017-08-04    1\n",
       "2017-09-04    2\n",
       "2017-06-04    3\n",
       "dtype: int64"
      ]
     },
     "execution_count": 26,
     "metadata": {},
     "output_type": "execute_result"
    }
   ],
   "source": [
    "data"
   ]
  },
  {
   "cell_type": "code",
   "execution_count": 34,
   "metadata": {},
   "outputs": [
    {
     "data": {
      "text/plain": [
       "2017-07-04    0\n",
       "2017-08-04    1\n",
       "2017-09-04    2\n",
       "2017-06-04    3\n",
       "dtype: int64"
      ]
     },
     "execution_count": 34,
     "metadata": {},
     "output_type": "execute_result"
    }
   ],
   "source": [
    "data['2017-06-04':'2017-09-04']"
   ]
  },
  {
   "cell_type": "code",
   "execution_count": 35,
   "metadata": {},
   "outputs": [
    {
     "data": {
      "text/plain": [
       "2017-07-04    0\n",
       "2017-08-4     1\n",
       "2017-09-04    2\n",
       "dtype: int64"
      ]
     },
     "execution_count": 35,
     "metadata": {},
     "output_type": "execute_result"
    }
   ],
   "source": [
    "data_dummy['2017-07-04':'2017-09-04']"
   ]
  },
  {
   "cell_type": "code",
   "execution_count": 20,
   "metadata": {},
   "outputs": [
    {
     "data": {
      "text/plain": [
       "2017-07-04    0\n",
       "2017-08-04    1\n",
       "2017-09-04    2\n",
       "2017-06-04    3\n",
       "dtype: int64"
      ]
     },
     "execution_count": 20,
     "metadata": {},
     "output_type": "execute_result"
    }
   ],
   "source": [
    "data['2017']"
   ]
  },
  {
   "cell_type": "code",
   "execution_count": 89,
   "metadata": {
    "collapsed": true
   },
   "outputs": [],
   "source": [
    "data = pd.Series([0,1,2,3], index=['2017-07-04','2017-08-4','2017-09-04','2017-6-04'])"
   ]
  },
  {
   "cell_type": "code",
   "execution_count": 91,
   "metadata": {},
   "outputs": [
    {
     "data": {
      "text/plain": [
       "2017-07-04    0\n",
       "2017-08-4     1\n",
       "2017-09-04    2\n",
       "dtype: int64"
      ]
     },
     "execution_count": 91,
     "metadata": {},
     "output_type": "execute_result"
    }
   ],
   "source": [
    "data['2017-06-04':'2017-09-04']"
   ]
  },
  {
   "cell_type": "code",
   "execution_count": 96,
   "metadata": {},
   "outputs": [
    {
     "data": {
      "text/plain": [
       "2017-07-04    0\n",
       "2017-08-04    1\n",
       "2017-09-04    2\n",
       "2017-06-04    3\n",
       "dtype: int64"
      ]
     },
     "execution_count": 96,
     "metadata": {},
     "output_type": "execute_result"
    }
   ],
   "source": [
    "data"
   ]
  },
  {
   "cell_type": "code",
   "execution_count": 97,
   "metadata": {
    "collapsed": true
   },
   "outputs": [],
   "source": [
    "index = pd.DatetimeIndex(['2017-07-04','2018-08-4','2017-09-04','2017-6-04'])"
   ]
  },
  {
   "cell_type": "code",
   "execution_count": 98,
   "metadata": {
    "collapsed": true
   },
   "outputs": [],
   "source": [
    "data = pd.Series([0,1,2,3], index=index)"
   ]
  },
  {
   "cell_type": "code",
   "execution_count": 99,
   "metadata": {},
   "outputs": [
    {
     "data": {
      "text/plain": [
       "2017-07-04    0\n",
       "2017-09-04    2\n",
       "2017-06-04    3\n",
       "dtype: int64"
      ]
     },
     "execution_count": 99,
     "metadata": {},
     "output_type": "execute_result"
    }
   ],
   "source": [
    "data['2017']"
   ]
  },
  {
   "cell_type": "code",
   "execution_count": 100,
   "metadata": {},
   "outputs": [
    {
     "data": {
      "text/plain": [
       "DatetimeIndex(['2017-02-26', '2017-02-27', '2017-02-28', '2017-03-01',\n",
       "               '2017-03-02'],\n",
       "              dtype='datetime64[ns]', freq='D')"
      ]
     },
     "execution_count": 100,
     "metadata": {},
     "output_type": "execute_result"
    }
   ],
   "source": [
    "pd.date_range('2017-02-26', '2017-03-02')"
   ]
  },
  {
   "cell_type": "code",
   "execution_count": 21,
   "metadata": {
    "collapsed": true
   },
   "outputs": [],
   "source": [
    "from pandas_datareader import data"
   ]
  },
  {
   "cell_type": "code",
   "execution_count": 24,
   "metadata": {
    "collapsed": true
   },
   "outputs": [],
   "source": [
    "goog = data.DataReader('GOOG', start='2004', end='2017',\n",
    "                       data_source='google')"
   ]
  },
  {
   "cell_type": "code",
   "execution_count": 25,
   "metadata": {},
   "outputs": [
    {
     "data": {
      "text/html": [
       "<div>\n",
       "<table border=\"1\" class=\"dataframe\">\n",
       "  <thead>\n",
       "    <tr style=\"text-align: right;\">\n",
       "      <th></th>\n",
       "      <th>Open</th>\n",
       "      <th>High</th>\n",
       "      <th>Low</th>\n",
       "      <th>Close</th>\n",
       "      <th>Volume</th>\n",
       "    </tr>\n",
       "    <tr>\n",
       "      <th>Date</th>\n",
       "      <th></th>\n",
       "      <th></th>\n",
       "      <th></th>\n",
       "      <th></th>\n",
       "      <th></th>\n",
       "    </tr>\n",
       "  </thead>\n",
       "  <tbody>\n",
       "    <tr>\n",
       "      <th>2004-08-19</th>\n",
       "      <td>49.96</td>\n",
       "      <td>51.98</td>\n",
       "      <td>47.93</td>\n",
       "      <td>50.12</td>\n",
       "      <td>NaN</td>\n",
       "    </tr>\n",
       "    <tr>\n",
       "      <th>2004-08-20</th>\n",
       "      <td>50.69</td>\n",
       "      <td>54.49</td>\n",
       "      <td>50.20</td>\n",
       "      <td>54.10</td>\n",
       "      <td>NaN</td>\n",
       "    </tr>\n",
       "    <tr>\n",
       "      <th>2004-08-23</th>\n",
       "      <td>55.32</td>\n",
       "      <td>56.68</td>\n",
       "      <td>54.47</td>\n",
       "      <td>54.65</td>\n",
       "      <td>NaN</td>\n",
       "    </tr>\n",
       "    <tr>\n",
       "      <th>2004-08-24</th>\n",
       "      <td>55.56</td>\n",
       "      <td>55.74</td>\n",
       "      <td>51.73</td>\n",
       "      <td>52.38</td>\n",
       "      <td>NaN</td>\n",
       "    </tr>\n",
       "    <tr>\n",
       "      <th>2004-08-25</th>\n",
       "      <td>52.43</td>\n",
       "      <td>53.95</td>\n",
       "      <td>51.89</td>\n",
       "      <td>52.95</td>\n",
       "      <td>NaN</td>\n",
       "    </tr>\n",
       "    <tr>\n",
       "      <th>2004-08-26</th>\n",
       "      <td>52.42</td>\n",
       "      <td>53.92</td>\n",
       "      <td>52.28</td>\n",
       "      <td>53.90</td>\n",
       "      <td>NaN</td>\n",
       "    </tr>\n",
       "    <tr>\n",
       "      <th>2004-08-27</th>\n",
       "      <td>54.00</td>\n",
       "      <td>54.26</td>\n",
       "      <td>52.79</td>\n",
       "      <td>53.02</td>\n",
       "      <td>NaN</td>\n",
       "    </tr>\n",
       "    <tr>\n",
       "      <th>2004-08-30</th>\n",
       "      <td>52.69</td>\n",
       "      <td>52.69</td>\n",
       "      <td>50.95</td>\n",
       "      <td>50.95</td>\n",
       "      <td>NaN</td>\n",
       "    </tr>\n",
       "    <tr>\n",
       "      <th>2004-08-31</th>\n",
       "      <td>51.11</td>\n",
       "      <td>51.80</td>\n",
       "      <td>51.03</td>\n",
       "      <td>51.13</td>\n",
       "      <td>NaN</td>\n",
       "    </tr>\n",
       "    <tr>\n",
       "      <th>2004-09-01</th>\n",
       "      <td>51.30</td>\n",
       "      <td>51.43</td>\n",
       "      <td>49.79</td>\n",
       "      <td>50.07</td>\n",
       "      <td>NaN</td>\n",
       "    </tr>\n",
       "    <tr>\n",
       "      <th>2004-09-02</th>\n",
       "      <td>49.50</td>\n",
       "      <td>51.13</td>\n",
       "      <td>49.42</td>\n",
       "      <td>50.70</td>\n",
       "      <td>NaN</td>\n",
       "    </tr>\n",
       "    <tr>\n",
       "      <th>2004-09-03</th>\n",
       "      <td>50.42</td>\n",
       "      <td>50.82</td>\n",
       "      <td>49.61</td>\n",
       "      <td>49.95</td>\n",
       "      <td>NaN</td>\n",
       "    </tr>\n",
       "    <tr>\n",
       "      <th>2004-09-07</th>\n",
       "      <td>50.45</td>\n",
       "      <td>50.95</td>\n",
       "      <td>49.76</td>\n",
       "      <td>50.74</td>\n",
       "      <td>NaN</td>\n",
       "    </tr>\n",
       "    <tr>\n",
       "      <th>2004-09-08</th>\n",
       "      <td>50.32</td>\n",
       "      <td>51.46</td>\n",
       "      <td>50.20</td>\n",
       "      <td>51.10</td>\n",
       "      <td>NaN</td>\n",
       "    </tr>\n",
       "    <tr>\n",
       "      <th>2004-09-09</th>\n",
       "      <td>51.20</td>\n",
       "      <td>51.30</td>\n",
       "      <td>50.45</td>\n",
       "      <td>51.10</td>\n",
       "      <td>NaN</td>\n",
       "    </tr>\n",
       "    <tr>\n",
       "      <th>2004-09-10</th>\n",
       "      <td>50.75</td>\n",
       "      <td>53.23</td>\n",
       "      <td>50.60</td>\n",
       "      <td>52.61</td>\n",
       "      <td>NaN</td>\n",
       "    </tr>\n",
       "    <tr>\n",
       "      <th>2004-09-13</th>\n",
       "      <td>53.26</td>\n",
       "      <td>54.15</td>\n",
       "      <td>53.18</td>\n",
       "      <td>53.70</td>\n",
       "      <td>NaN</td>\n",
       "    </tr>\n",
       "    <tr>\n",
       "      <th>2004-09-14</th>\n",
       "      <td>53.67</td>\n",
       "      <td>55.94</td>\n",
       "      <td>53.34</td>\n",
       "      <td>55.69</td>\n",
       "      <td>NaN</td>\n",
       "    </tr>\n",
       "    <tr>\n",
       "      <th>2004-09-15</th>\n",
       "      <td>55.22</td>\n",
       "      <td>57.06</td>\n",
       "      <td>55.04</td>\n",
       "      <td>55.94</td>\n",
       "      <td>NaN</td>\n",
       "    </tr>\n",
       "    <tr>\n",
       "      <th>2004-09-16</th>\n",
       "      <td>56.11</td>\n",
       "      <td>57.84</td>\n",
       "      <td>55.77</td>\n",
       "      <td>56.93</td>\n",
       "      <td>NaN</td>\n",
       "    </tr>\n",
       "    <tr>\n",
       "      <th>2004-09-17</th>\n",
       "      <td>57.15</td>\n",
       "      <td>58.69</td>\n",
       "      <td>56.72</td>\n",
       "      <td>58.69</td>\n",
       "      <td>NaN</td>\n",
       "    </tr>\n",
       "    <tr>\n",
       "      <th>2004-09-20</th>\n",
       "      <td>58.42</td>\n",
       "      <td>60.74</td>\n",
       "      <td>58.33</td>\n",
       "      <td>59.62</td>\n",
       "      <td>NaN</td>\n",
       "    </tr>\n",
       "    <tr>\n",
       "      <th>2004-09-21</th>\n",
       "      <td>60.04</td>\n",
       "      <td>60.15</td>\n",
       "      <td>58.70</td>\n",
       "      <td>58.86</td>\n",
       "      <td>NaN</td>\n",
       "    </tr>\n",
       "    <tr>\n",
       "      <th>2004-09-22</th>\n",
       "      <td>58.67</td>\n",
       "      <td>59.78</td>\n",
       "      <td>58.35</td>\n",
       "      <td>59.13</td>\n",
       "      <td>NaN</td>\n",
       "    </tr>\n",
       "    <tr>\n",
       "      <th>2004-09-23</th>\n",
       "      <td>59.36</td>\n",
       "      <td>61.25</td>\n",
       "      <td>58.45</td>\n",
       "      <td>60.35</td>\n",
       "      <td>NaN</td>\n",
       "    </tr>\n",
       "    <tr>\n",
       "      <th>2004-09-24</th>\n",
       "      <td>60.42</td>\n",
       "      <td>61.99</td>\n",
       "      <td>59.82</td>\n",
       "      <td>59.86</td>\n",
       "      <td>NaN</td>\n",
       "    </tr>\n",
       "    <tr>\n",
       "      <th>2004-09-27</th>\n",
       "      <td>59.72</td>\n",
       "      <td>60.38</td>\n",
       "      <td>58.84</td>\n",
       "      <td>59.07</td>\n",
       "      <td>NaN</td>\n",
       "    </tr>\n",
       "    <tr>\n",
       "      <th>2004-09-28</th>\n",
       "      <td>60.51</td>\n",
       "      <td>63.64</td>\n",
       "      <td>60.04</td>\n",
       "      <td>63.37</td>\n",
       "      <td>NaN</td>\n",
       "    </tr>\n",
       "    <tr>\n",
       "      <th>2004-09-29</th>\n",
       "      <td>63.20</td>\n",
       "      <td>67.44</td>\n",
       "      <td>63.05</td>\n",
       "      <td>65.47</td>\n",
       "      <td>NaN</td>\n",
       "    </tr>\n",
       "    <tr>\n",
       "      <th>2004-09-30</th>\n",
       "      <td>64.88</td>\n",
       "      <td>66.08</td>\n",
       "      <td>64.44</td>\n",
       "      <td>64.74</td>\n",
       "      <td>NaN</td>\n",
       "    </tr>\n",
       "    <tr>\n",
       "      <th>...</th>\n",
       "      <td>...</td>\n",
       "      <td>...</td>\n",
       "      <td>...</td>\n",
       "      <td>...</td>\n",
       "      <td>...</td>\n",
       "    </tr>\n",
       "    <tr>\n",
       "      <th>2016-11-17</th>\n",
       "      <td>766.92</td>\n",
       "      <td>772.70</td>\n",
       "      <td>764.23</td>\n",
       "      <td>771.23</td>\n",
       "      <td>1286961.0</td>\n",
       "    </tr>\n",
       "    <tr>\n",
       "      <th>2016-11-18</th>\n",
       "      <td>771.37</td>\n",
       "      <td>775.00</td>\n",
       "      <td>760.00</td>\n",
       "      <td>760.54</td>\n",
       "      <td>1547145.0</td>\n",
       "    </tr>\n",
       "    <tr>\n",
       "      <th>2016-11-21</th>\n",
       "      <td>762.61</td>\n",
       "      <td>769.70</td>\n",
       "      <td>760.60</td>\n",
       "      <td>769.20</td>\n",
       "      <td>1330639.0</td>\n",
       "    </tr>\n",
       "    <tr>\n",
       "      <th>2016-11-22</th>\n",
       "      <td>772.63</td>\n",
       "      <td>776.96</td>\n",
       "      <td>767.00</td>\n",
       "      <td>768.27</td>\n",
       "      <td>1593108.0</td>\n",
       "    </tr>\n",
       "    <tr>\n",
       "      <th>2016-11-23</th>\n",
       "      <td>767.73</td>\n",
       "      <td>768.28</td>\n",
       "      <td>755.25</td>\n",
       "      <td>760.99</td>\n",
       "      <td>1478417.0</td>\n",
       "    </tr>\n",
       "    <tr>\n",
       "      <th>2016-11-25</th>\n",
       "      <td>764.26</td>\n",
       "      <td>765.00</td>\n",
       "      <td>760.52</td>\n",
       "      <td>761.68</td>\n",
       "      <td>587421.0</td>\n",
       "    </tr>\n",
       "    <tr>\n",
       "      <th>2016-11-28</th>\n",
       "      <td>760.00</td>\n",
       "      <td>779.53</td>\n",
       "      <td>759.80</td>\n",
       "      <td>768.24</td>\n",
       "      <td>2188151.0</td>\n",
       "    </tr>\n",
       "    <tr>\n",
       "      <th>2016-11-29</th>\n",
       "      <td>771.53</td>\n",
       "      <td>778.50</td>\n",
       "      <td>768.24</td>\n",
       "      <td>770.84</td>\n",
       "      <td>1616618.0</td>\n",
       "    </tr>\n",
       "    <tr>\n",
       "      <th>2016-11-30</th>\n",
       "      <td>770.07</td>\n",
       "      <td>772.99</td>\n",
       "      <td>754.83</td>\n",
       "      <td>758.04</td>\n",
       "      <td>2392890.0</td>\n",
       "    </tr>\n",
       "    <tr>\n",
       "      <th>2016-12-01</th>\n",
       "      <td>757.44</td>\n",
       "      <td>759.85</td>\n",
       "      <td>737.02</td>\n",
       "      <td>747.92</td>\n",
       "      <td>3017947.0</td>\n",
       "    </tr>\n",
       "    <tr>\n",
       "      <th>2016-12-02</th>\n",
       "      <td>744.59</td>\n",
       "      <td>754.00</td>\n",
       "      <td>743.10</td>\n",
       "      <td>750.50</td>\n",
       "      <td>1452484.0</td>\n",
       "    </tr>\n",
       "    <tr>\n",
       "      <th>2016-12-05</th>\n",
       "      <td>757.71</td>\n",
       "      <td>763.90</td>\n",
       "      <td>752.90</td>\n",
       "      <td>762.52</td>\n",
       "      <td>1394223.0</td>\n",
       "    </tr>\n",
       "    <tr>\n",
       "      <th>2016-12-06</th>\n",
       "      <td>764.73</td>\n",
       "      <td>768.83</td>\n",
       "      <td>757.34</td>\n",
       "      <td>759.11</td>\n",
       "      <td>1690689.0</td>\n",
       "    </tr>\n",
       "    <tr>\n",
       "      <th>2016-12-07</th>\n",
       "      <td>761.00</td>\n",
       "      <td>771.36</td>\n",
       "      <td>755.80</td>\n",
       "      <td>771.19</td>\n",
       "      <td>1760966.0</td>\n",
       "    </tr>\n",
       "    <tr>\n",
       "      <th>2016-12-08</th>\n",
       "      <td>772.48</td>\n",
       "      <td>778.18</td>\n",
       "      <td>767.23</td>\n",
       "      <td>776.42</td>\n",
       "      <td>1488059.0</td>\n",
       "    </tr>\n",
       "    <tr>\n",
       "      <th>2016-12-09</th>\n",
       "      <td>780.00</td>\n",
       "      <td>789.43</td>\n",
       "      <td>779.02</td>\n",
       "      <td>789.29</td>\n",
       "      <td>1821914.0</td>\n",
       "    </tr>\n",
       "    <tr>\n",
       "      <th>2016-12-12</th>\n",
       "      <td>785.04</td>\n",
       "      <td>791.25</td>\n",
       "      <td>784.36</td>\n",
       "      <td>789.27</td>\n",
       "      <td>2104117.0</td>\n",
       "    </tr>\n",
       "    <tr>\n",
       "      <th>2016-12-13</th>\n",
       "      <td>793.90</td>\n",
       "      <td>804.38</td>\n",
       "      <td>793.34</td>\n",
       "      <td>796.10</td>\n",
       "      <td>2145209.0</td>\n",
       "    </tr>\n",
       "    <tr>\n",
       "      <th>2016-12-14</th>\n",
       "      <td>797.40</td>\n",
       "      <td>804.00</td>\n",
       "      <td>794.01</td>\n",
       "      <td>797.07</td>\n",
       "      <td>1704150.0</td>\n",
       "    </tr>\n",
       "    <tr>\n",
       "      <th>2016-12-15</th>\n",
       "      <td>797.34</td>\n",
       "      <td>803.00</td>\n",
       "      <td>792.92</td>\n",
       "      <td>797.85</td>\n",
       "      <td>1626499.0</td>\n",
       "    </tr>\n",
       "    <tr>\n",
       "      <th>2016-12-16</th>\n",
       "      <td>800.40</td>\n",
       "      <td>800.86</td>\n",
       "      <td>790.29</td>\n",
       "      <td>790.80</td>\n",
       "      <td>2443796.0</td>\n",
       "    </tr>\n",
       "    <tr>\n",
       "      <th>2016-12-19</th>\n",
       "      <td>790.22</td>\n",
       "      <td>797.66</td>\n",
       "      <td>786.27</td>\n",
       "      <td>794.20</td>\n",
       "      <td>1232087.0</td>\n",
       "    </tr>\n",
       "    <tr>\n",
       "      <th>2016-12-20</th>\n",
       "      <td>796.76</td>\n",
       "      <td>798.65</td>\n",
       "      <td>793.27</td>\n",
       "      <td>796.42</td>\n",
       "      <td>951014.0</td>\n",
       "    </tr>\n",
       "    <tr>\n",
       "      <th>2016-12-21</th>\n",
       "      <td>795.84</td>\n",
       "      <td>796.68</td>\n",
       "      <td>787.10</td>\n",
       "      <td>794.56</td>\n",
       "      <td>1211346.0</td>\n",
       "    </tr>\n",
       "    <tr>\n",
       "      <th>2016-12-22</th>\n",
       "      <td>792.36</td>\n",
       "      <td>793.32</td>\n",
       "      <td>788.58</td>\n",
       "      <td>791.26</td>\n",
       "      <td>972169.0</td>\n",
       "    </tr>\n",
       "    <tr>\n",
       "      <th>2016-12-23</th>\n",
       "      <td>790.90</td>\n",
       "      <td>792.74</td>\n",
       "      <td>787.28</td>\n",
       "      <td>789.91</td>\n",
       "      <td>623944.0</td>\n",
       "    </tr>\n",
       "    <tr>\n",
       "      <th>2016-12-27</th>\n",
       "      <td>790.68</td>\n",
       "      <td>797.86</td>\n",
       "      <td>787.66</td>\n",
       "      <td>791.55</td>\n",
       "      <td>789321.0</td>\n",
       "    </tr>\n",
       "    <tr>\n",
       "      <th>2016-12-28</th>\n",
       "      <td>793.70</td>\n",
       "      <td>794.23</td>\n",
       "      <td>783.20</td>\n",
       "      <td>785.05</td>\n",
       "      <td>1153824.0</td>\n",
       "    </tr>\n",
       "    <tr>\n",
       "      <th>2016-12-29</th>\n",
       "      <td>783.33</td>\n",
       "      <td>785.93</td>\n",
       "      <td>778.92</td>\n",
       "      <td>782.79</td>\n",
       "      <td>744272.0</td>\n",
       "    </tr>\n",
       "    <tr>\n",
       "      <th>2016-12-30</th>\n",
       "      <td>782.75</td>\n",
       "      <td>782.78</td>\n",
       "      <td>770.41</td>\n",
       "      <td>771.82</td>\n",
       "      <td>1769950.0</td>\n",
       "    </tr>\n",
       "  </tbody>\n",
       "</table>\n",
       "<p>3114 rows × 5 columns</p>\n",
       "</div>"
      ],
      "text/plain": [
       "              Open    High     Low   Close     Volume\n",
       "Date                                                 \n",
       "2004-08-19   49.96   51.98   47.93   50.12        NaN\n",
       "2004-08-20   50.69   54.49   50.20   54.10        NaN\n",
       "2004-08-23   55.32   56.68   54.47   54.65        NaN\n",
       "2004-08-24   55.56   55.74   51.73   52.38        NaN\n",
       "2004-08-25   52.43   53.95   51.89   52.95        NaN\n",
       "2004-08-26   52.42   53.92   52.28   53.90        NaN\n",
       "2004-08-27   54.00   54.26   52.79   53.02        NaN\n",
       "2004-08-30   52.69   52.69   50.95   50.95        NaN\n",
       "2004-08-31   51.11   51.80   51.03   51.13        NaN\n",
       "2004-09-01   51.30   51.43   49.79   50.07        NaN\n",
       "2004-09-02   49.50   51.13   49.42   50.70        NaN\n",
       "2004-09-03   50.42   50.82   49.61   49.95        NaN\n",
       "2004-09-07   50.45   50.95   49.76   50.74        NaN\n",
       "2004-09-08   50.32   51.46   50.20   51.10        NaN\n",
       "2004-09-09   51.20   51.30   50.45   51.10        NaN\n",
       "2004-09-10   50.75   53.23   50.60   52.61        NaN\n",
       "2004-09-13   53.26   54.15   53.18   53.70        NaN\n",
       "2004-09-14   53.67   55.94   53.34   55.69        NaN\n",
       "2004-09-15   55.22   57.06   55.04   55.94        NaN\n",
       "2004-09-16   56.11   57.84   55.77   56.93        NaN\n",
       "2004-09-17   57.15   58.69   56.72   58.69        NaN\n",
       "2004-09-20   58.42   60.74   58.33   59.62        NaN\n",
       "2004-09-21   60.04   60.15   58.70   58.86        NaN\n",
       "2004-09-22   58.67   59.78   58.35   59.13        NaN\n",
       "2004-09-23   59.36   61.25   58.45   60.35        NaN\n",
       "2004-09-24   60.42   61.99   59.82   59.86        NaN\n",
       "2004-09-27   59.72   60.38   58.84   59.07        NaN\n",
       "2004-09-28   60.51   63.64   60.04   63.37        NaN\n",
       "2004-09-29   63.20   67.44   63.05   65.47        NaN\n",
       "2004-09-30   64.88   66.08   64.44   64.74        NaN\n",
       "...            ...     ...     ...     ...        ...\n",
       "2016-11-17  766.92  772.70  764.23  771.23  1286961.0\n",
       "2016-11-18  771.37  775.00  760.00  760.54  1547145.0\n",
       "2016-11-21  762.61  769.70  760.60  769.20  1330639.0\n",
       "2016-11-22  772.63  776.96  767.00  768.27  1593108.0\n",
       "2016-11-23  767.73  768.28  755.25  760.99  1478417.0\n",
       "2016-11-25  764.26  765.00  760.52  761.68   587421.0\n",
       "2016-11-28  760.00  779.53  759.80  768.24  2188151.0\n",
       "2016-11-29  771.53  778.50  768.24  770.84  1616618.0\n",
       "2016-11-30  770.07  772.99  754.83  758.04  2392890.0\n",
       "2016-12-01  757.44  759.85  737.02  747.92  3017947.0\n",
       "2016-12-02  744.59  754.00  743.10  750.50  1452484.0\n",
       "2016-12-05  757.71  763.90  752.90  762.52  1394223.0\n",
       "2016-12-06  764.73  768.83  757.34  759.11  1690689.0\n",
       "2016-12-07  761.00  771.36  755.80  771.19  1760966.0\n",
       "2016-12-08  772.48  778.18  767.23  776.42  1488059.0\n",
       "2016-12-09  780.00  789.43  779.02  789.29  1821914.0\n",
       "2016-12-12  785.04  791.25  784.36  789.27  2104117.0\n",
       "2016-12-13  793.90  804.38  793.34  796.10  2145209.0\n",
       "2016-12-14  797.40  804.00  794.01  797.07  1704150.0\n",
       "2016-12-15  797.34  803.00  792.92  797.85  1626499.0\n",
       "2016-12-16  800.40  800.86  790.29  790.80  2443796.0\n",
       "2016-12-19  790.22  797.66  786.27  794.20  1232087.0\n",
       "2016-12-20  796.76  798.65  793.27  796.42   951014.0\n",
       "2016-12-21  795.84  796.68  787.10  794.56  1211346.0\n",
       "2016-12-22  792.36  793.32  788.58  791.26   972169.0\n",
       "2016-12-23  790.90  792.74  787.28  789.91   623944.0\n",
       "2016-12-27  790.68  797.86  787.66  791.55   789321.0\n",
       "2016-12-28  793.70  794.23  783.20  785.05  1153824.0\n",
       "2016-12-29  783.33  785.93  778.92  782.79   744272.0\n",
       "2016-12-30  782.75  782.78  770.41  771.82  1769950.0\n",
       "\n",
       "[3114 rows x 5 columns]"
      ]
     },
     "execution_count": 25,
     "metadata": {},
     "output_type": "execute_result"
    }
   ],
   "source": [
    "goog"
   ]
  },
  {
   "cell_type": "code",
   "execution_count": 104,
   "metadata": {},
   "outputs": [
    {
     "data": {
      "text/html": [
       "<div>\n",
       "<table border=\"1\" class=\"dataframe\">\n",
       "  <thead>\n",
       "    <tr style=\"text-align: right;\">\n",
       "      <th></th>\n",
       "      <th>Open</th>\n",
       "      <th>High</th>\n",
       "      <th>Low</th>\n",
       "      <th>Close</th>\n",
       "      <th>Volume</th>\n",
       "    </tr>\n",
       "    <tr>\n",
       "      <th>Date</th>\n",
       "      <th></th>\n",
       "      <th></th>\n",
       "      <th></th>\n",
       "      <th></th>\n",
       "      <th></th>\n",
       "    </tr>\n",
       "  </thead>\n",
       "  <tbody>\n",
       "    <tr>\n",
       "      <th>2015-12-28</th>\n",
       "      <td>752.92</td>\n",
       "      <td>762.99</td>\n",
       "      <td>749.52</td>\n",
       "      <td>762.51</td>\n",
       "      <td>1515716.0</td>\n",
       "    </tr>\n",
       "    <tr>\n",
       "      <th>2015-12-29</th>\n",
       "      <td>766.69</td>\n",
       "      <td>779.98</td>\n",
       "      <td>766.43</td>\n",
       "      <td>776.60</td>\n",
       "      <td>1765012.0</td>\n",
       "    </tr>\n",
       "    <tr>\n",
       "      <th>2015-12-30</th>\n",
       "      <td>776.60</td>\n",
       "      <td>777.60</td>\n",
       "      <td>766.90</td>\n",
       "      <td>771.00</td>\n",
       "      <td>1293521.0</td>\n",
       "    </tr>\n",
       "    <tr>\n",
       "      <th>2015-12-31</th>\n",
       "      <td>769.50</td>\n",
       "      <td>769.50</td>\n",
       "      <td>758.34</td>\n",
       "      <td>758.88</td>\n",
       "      <td>1500923.0</td>\n",
       "    </tr>\n",
       "  </tbody>\n",
       "</table>\n",
       "</div>"
      ],
      "text/plain": [
       "              Open    High     Low   Close     Volume\n",
       "Date                                                 \n",
       "2015-12-28  752.92  762.99  749.52  762.51  1515716.0\n",
       "2015-12-29  766.69  779.98  766.43  776.60  1765012.0\n",
       "2015-12-30  776.60  777.60  766.90  771.00  1293521.0\n",
       "2015-12-31  769.50  769.50  758.34  758.88  1500923.0"
      ]
     },
     "execution_count": 104,
     "metadata": {},
     "output_type": "execute_result"
    }
   ],
   "source": [
    "goog['2015-12-28':'2015-12-31']"
   ]
  },
  {
   "cell_type": "code",
   "execution_count": 107,
   "metadata": {
    "collapsed": true
   },
   "outputs": [],
   "source": [
    "rand_index = np.random.choice(1600, size=25)"
   ]
  },
  {
   "cell_type": "code",
   "execution_count": 108,
   "metadata": {},
   "outputs": [
    {
     "data": {
      "text/plain": [
       "array([  46,  350,  907, 1295,  558,  888, 1370,  132,  831,  658,   50,\n",
       "          1,  215, 1151,  752,  987, 1222, 1213, 1309,  857,  898,  978,\n",
       "        424,  658, 1218])"
      ]
     },
     "execution_count": 108,
     "metadata": {},
     "output_type": "execute_result"
    }
   ],
   "source": [
    "rand_index"
   ]
  },
  {
   "cell_type": "code",
   "execution_count": null,
   "metadata": {
    "collapsed": true
   },
   "outputs": [],
   "source": []
  }
 ],
 "metadata": {
  "kernelspec": {
   "display_name": "Python 3",
   "language": "python",
   "name": "python3"
  },
  "language_info": {
   "codemirror_mode": {
    "name": "ipython",
    "version": 3
   },
   "file_extension": ".py",
   "mimetype": "text/x-python",
   "name": "python",
   "nbconvert_exporter": "python",
   "pygments_lexer": "ipython3",
   "version": "3.5.0"
  }
 },
 "nbformat": 4,
 "nbformat_minor": 2
}
