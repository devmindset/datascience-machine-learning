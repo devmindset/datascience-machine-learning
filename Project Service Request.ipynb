{
 "cells": [
  {
   "cell_type": "code",
   "execution_count": 19,
   "metadata": {
    "collapsed": true
   },
   "outputs": [],
   "source": [
    "import pandas as pd"
   ]
  },
  {
   "cell_type": "code",
   "execution_count": 20,
   "metadata": {},
   "outputs": [],
   "source": [
    "service_request = pd.read_csv('service_request.csv',encoding = \"ISO-8859-1\")"
   ]
  },
  {
   "cell_type": "code",
   "execution_count": 21,
   "metadata": {},
   "outputs": [
    {
     "data": {
      "text/html": [
       "<div>\n",
       "<style>\n",
       "    .dataframe thead tr:only-child th {\n",
       "        text-align: right;\n",
       "    }\n",
       "\n",
       "    .dataframe thead th {\n",
       "        text-align: left;\n",
       "    }\n",
       "\n",
       "    .dataframe tbody tr th {\n",
       "        vertical-align: top;\n",
       "    }\n",
       "</style>\n",
       "<table border=\"1\" class=\"dataframe\">\n",
       "  <thead>\n",
       "    <tr style=\"text-align: right;\">\n",
       "      <th></th>\n",
       "      <th>Employee Organization Name</th>\n",
       "      <th>Employee Login</th>\n",
       "      <th>Service Request #</th>\n",
       "      <th>Status</th>\n",
       "      <th>Closed Date</th>\n",
       "      <th>Opened Date</th>\n",
       "      <th>Description</th>\n",
       "      <th>Actual Start Date-Time</th>\n",
       "      <th>Actual End Date-Time</th>\n",
       "      <th>Product</th>\n",
       "      <th>...</th>\n",
       "      <th>Full Name</th>\n",
       "      <th>City</th>\n",
       "      <th>Country</th>\n",
       "      <th>Created Year</th>\n",
       "      <th>Created Date</th>\n",
       "      <th>Attachment Name</th>\n",
       "      <th>Type</th>\n",
       "      <th>Order Status</th>\n",
       "      <th>Order Type</th>\n",
       "      <th>Order #</th>\n",
       "    </tr>\n",
       "  </thead>\n",
       "  <tbody>\n",
       "    <tr>\n",
       "      <th>0</th>\n",
       "      <td>AGS APAC Field Service</td>\n",
       "      <td>AMKANTIP</td>\n",
       "      <td>16060184</td>\n",
       "      <td>Migrated to bFO</td>\n",
       "      <td>1/13/2015 16:04</td>\n",
       "      <td>1/9/2015 15:32</td>\n",
       "      <td>Power Module Fault</td>\n",
       "      <td>1/9/2015 16:31</td>\n",
       "      <td>1/9/2015 18:29</td>\n",
       "      <td>SY64K160H</td>\n",
       "      <td>...</td>\n",
       "      <td>Chethan Chetan</td>\n",
       "      <td>HYDERABAD</td>\n",
       "      <td>INDIA</td>\n",
       "      <td>2015</td>\n",
       "      <td>1/9/2015 0:00</td>\n",
       "      <td>Lastyear.maint</td>\n",
       "      <td>maint</td>\n",
       "      <td>Closed</td>\n",
       "      <td>RMA Advance Exchange</td>\n",
       "      <td>1-6425103393</td>\n",
       "    </tr>\n",
       "    <tr>\n",
       "      <th>1</th>\n",
       "      <td>AGS APAC Field Service</td>\n",
       "      <td>AMKANTIP</td>\n",
       "      <td>16060184</td>\n",
       "      <td>Migrated to bFO</td>\n",
       "      <td>1/13/2015 16:04</td>\n",
       "      <td>1/9/2015 15:32</td>\n",
       "      <td>Power Module Fault</td>\n",
       "      <td>1/9/2015 16:31</td>\n",
       "      <td>1/9/2015 18:29</td>\n",
       "      <td>SY64K160H</td>\n",
       "      <td>...</td>\n",
       "      <td>Chethan Chetan</td>\n",
       "      <td>HYDERABAD</td>\n",
       "      <td>INDIA</td>\n",
       "      <td>2015</td>\n",
       "      <td>1/9/2015 0:00</td>\n",
       "      <td>MICROSOFT RCA-CFR-DCA.xlsx</td>\n",
       "      <td>xlsx</td>\n",
       "      <td>Closed</td>\n",
       "      <td>RMA Advance Exchange</td>\n",
       "      <td>1-6425103393</td>\n",
       "    </tr>\n",
       "    <tr>\n",
       "      <th>2</th>\n",
       "      <td>AGS APAC Field Service</td>\n",
       "      <td>AMKANTIP</td>\n",
       "      <td>16060184</td>\n",
       "      <td>Migrated to bFO</td>\n",
       "      <td>1/13/2015 16:04</td>\n",
       "      <td>1/9/2015 15:32</td>\n",
       "      <td>Power Module Fault</td>\n",
       "      <td>1/9/2015 16:31</td>\n",
       "      <td>1/9/2015 18:29</td>\n",
       "      <td>SY64K160H</td>\n",
       "      <td>...</td>\n",
       "      <td>Chethan Chetan</td>\n",
       "      <td>HYDERABAD</td>\n",
       "      <td>INDIA</td>\n",
       "      <td>2015</td>\n",
       "      <td>1/9/2015 0:00</td>\n",
       "      <td>MS AFTER PM REPLACEMENTMIM_Frame_PD1119360094_...</td>\n",
       "      <td>txt</td>\n",
       "      <td>Closed</td>\n",
       "      <td>RMA Advance Exchange</td>\n",
       "      <td>1-6425103393</td>\n",
       "    </tr>\n",
       "    <tr>\n",
       "      <th>3</th>\n",
       "      <td>AGS APAC Field Service</td>\n",
       "      <td>AMKANTIP</td>\n",
       "      <td>16060184</td>\n",
       "      <td>Migrated to bFO</td>\n",
       "      <td>1/13/2015 16:04</td>\n",
       "      <td>1/9/2015 15:32</td>\n",
       "      <td>Power Module Fault</td>\n",
       "      <td>1/9/2015 16:31</td>\n",
       "      <td>1/9/2015 18:29</td>\n",
       "      <td>SY64K160H</td>\n",
       "      <td>...</td>\n",
       "      <td>Chethan Chetan</td>\n",
       "      <td>HYDERABAD</td>\n",
       "      <td>INDIA</td>\n",
       "      <td>2015</td>\n",
       "      <td>1/9/2015 0:00</td>\n",
       "      <td>MS MIM_Frame_PD1119360094_2015_01_09_21h51mn51...</td>\n",
       "      <td>txt</td>\n",
       "      <td>Closed</td>\n",
       "      <td>RMA Advance Exchange</td>\n",
       "      <td>1-6425103393</td>\n",
       "    </tr>\n",
       "    <tr>\n",
       "      <th>4</th>\n",
       "      <td>AGS APAC Field Service</td>\n",
       "      <td>AMKANTIP</td>\n",
       "      <td>16060184</td>\n",
       "      <td>Migrated to bFO</td>\n",
       "      <td>1/13/2015 16:04</td>\n",
       "      <td>1/9/2015 15:32</td>\n",
       "      <td>Power Module Fault</td>\n",
       "      <td>1/9/2015 16:31</td>\n",
       "      <td>1/9/2015 18:29</td>\n",
       "      <td>SY64K160H</td>\n",
       "      <td>...</td>\n",
       "      <td>Chethan Chetan</td>\n",
       "      <td>HYDERABAD</td>\n",
       "      <td>INDIA</td>\n",
       "      <td>2015</td>\n",
       "      <td>1/9/2015 0:00</td>\n",
       "      <td>MS RIM_Frame_PD1119360094_2015_01_09_22h07mn47...</td>\n",
       "      <td>txt</td>\n",
       "      <td>Closed</td>\n",
       "      <td>RMA Advance Exchange</td>\n",
       "      <td>1-6425103393</td>\n",
       "    </tr>\n",
       "  </tbody>\n",
       "</table>\n",
       "<p>5 rows × 30 columns</p>\n",
       "</div>"
      ],
      "text/plain": [
       "  Employee Organization Name Employee Login Service Request #  \\\n",
       "0     AGS APAC Field Service       AMKANTIP          16060184   \n",
       "1     AGS APAC Field Service       AMKANTIP          16060184   \n",
       "2     AGS APAC Field Service       AMKANTIP          16060184   \n",
       "3     AGS APAC Field Service       AMKANTIP          16060184   \n",
       "4     AGS APAC Field Service       AMKANTIP          16060184   \n",
       "\n",
       "            Status      Closed Date     Opened Date         Description  \\\n",
       "0  Migrated to bFO  1/13/2015 16:04  1/9/2015 15:32  Power Module Fault   \n",
       "1  Migrated to bFO  1/13/2015 16:04  1/9/2015 15:32  Power Module Fault   \n",
       "2  Migrated to bFO  1/13/2015 16:04  1/9/2015 15:32  Power Module Fault   \n",
       "3  Migrated to bFO  1/13/2015 16:04  1/9/2015 15:32  Power Module Fault   \n",
       "4  Migrated to bFO  1/13/2015 16:04  1/9/2015 15:32  Power Module Fault   \n",
       "\n",
       "  Actual Start Date-Time Actual End Date-Time    Product      ...       \\\n",
       "0         1/9/2015 16:31       1/9/2015 18:29  SY64K160H      ...        \n",
       "1         1/9/2015 16:31       1/9/2015 18:29  SY64K160H      ...        \n",
       "2         1/9/2015 16:31       1/9/2015 18:29  SY64K160H      ...        \n",
       "3         1/9/2015 16:31       1/9/2015 18:29  SY64K160H      ...        \n",
       "4         1/9/2015 16:31       1/9/2015 18:29  SY64K160H      ...        \n",
       "\n",
       "        Full Name       City Country Created Year   Created Date  \\\n",
       "0  Chethan Chetan  HYDERABAD   INDIA         2015  1/9/2015 0:00   \n",
       "1  Chethan Chetan  HYDERABAD   INDIA         2015  1/9/2015 0:00   \n",
       "2  Chethan Chetan  HYDERABAD   INDIA         2015  1/9/2015 0:00   \n",
       "3  Chethan Chetan  HYDERABAD   INDIA         2015  1/9/2015 0:00   \n",
       "4  Chethan Chetan  HYDERABAD   INDIA         2015  1/9/2015 0:00   \n",
       "\n",
       "                                     Attachment Name   Type Order Status  \\\n",
       "0                                     Lastyear.maint  maint       Closed   \n",
       "1                         MICROSOFT RCA-CFR-DCA.xlsx   xlsx       Closed   \n",
       "2  MS AFTER PM REPLACEMENTMIM_Frame_PD1119360094_...    txt       Closed   \n",
       "3  MS MIM_Frame_PD1119360094_2015_01_09_21h51mn51...    txt       Closed   \n",
       "4  MS RIM_Frame_PD1119360094_2015_01_09_22h07mn47...    txt       Closed   \n",
       "\n",
       "             Order Type       Order #  \n",
       "0  RMA Advance Exchange  1-6425103393  \n",
       "1  RMA Advance Exchange  1-6425103393  \n",
       "2  RMA Advance Exchange  1-6425103393  \n",
       "3  RMA Advance Exchange  1-6425103393  \n",
       "4  RMA Advance Exchange  1-6425103393  \n",
       "\n",
       "[5 rows x 30 columns]"
      ]
     },
     "execution_count": 21,
     "metadata": {},
     "output_type": "execute_result"
    }
   ],
   "source": [
    "service_request.head()"
   ]
  },
  {
   "cell_type": "code",
   "execution_count": 6,
   "metadata": {},
   "outputs": [
    {
     "name": "stdout",
     "output_type": "stream",
     "text": [
      "<class 'pandas.core.frame.DataFrame'>\n",
      "RangeIndex: 36195 entries, 0 to 36194\n",
      "Data columns (total 30 columns):\n",
      "Employee Organization Name    36195 non-null object\n",
      "Employee Login                36195 non-null object\n",
      "Service Request #             36195 non-null object\n",
      "Status                        36195 non-null object\n",
      "Closed Date                   36190 non-null object\n",
      "Opened Date                   36195 non-null object\n",
      "Description                   36181 non-null object\n",
      "Actual Start Date-Time        34607 non-null object\n",
      "Actual End Date-Time          36096 non-null object\n",
      "Product                       36195 non-null object\n",
      "Product Line                  36195 non-null object\n",
      "Expected Serial #             36169 non-null object\n",
      "Asset #                       36195 non-null object\n",
      "Activity Type                 36195 non-null object\n",
      "Activity SubType              36195 non-null object\n",
      "Comments                      35903 non-null object\n",
      "Billing Class                 36195 non-null object\n",
      "Attachment Flag               36195 non-null object\n",
      "Account Name                  36195 non-null object\n",
      "Primary Street Address 1      36195 non-null object\n",
      "Full Name                     36195 non-null object\n",
      "City                          36195 non-null object\n",
      "Country                       36195 non-null object\n",
      "Created Year                  36195 non-null int64\n",
      "Created Date                  36195 non-null object\n",
      "Attachment Name               36195 non-null object\n",
      "Type                          35391 non-null object\n",
      "Order Status                  36195 non-null object\n",
      "Order Type                    36195 non-null object\n",
      "Order #                       36195 non-null object\n",
      "dtypes: int64(1), object(29)\n",
      "memory usage: 8.3+ MB\n"
     ]
    }
   ],
   "source": [
    "service_request.info()"
   ]
  },
  {
   "cell_type": "code",
   "execution_count": 8,
   "metadata": {},
   "outputs": [
    {
     "data": {
      "text/plain": [
       "0                                 Power Module Fault\n",
       "1                                 Power Module Fault\n",
       "2                                 Power Module Fault\n",
       "3                                 Power Module Fault\n",
       "4                                 Power Module Fault\n",
       "5                                 Power Module Fault\n",
       "6                                 Power Module Fault\n",
       "7                                            UPS Off\n",
       "8                                            UPS Off\n",
       "9                                            UPS Off\n",
       "10                            PFC Fault (IGBT Blast)\n",
       "11                            PFC Fault (IGBT Blast)\n",
       "12                            PFC Fault (IGBT Blast)\n",
       "13                                   Inverter faulty\n",
       "14                                   Inverter faulty\n",
       "15                                   Inverter faulty\n",
       "16                                Controller Tripped\n",
       "17                                Controller Tripped\n",
       "18                   UPS not working in battery mode\n",
       "19                   UPS not working in battery mode\n",
       "20                   UPS not working in battery mode\n",
       "21                             Input contactor fault\n",
       "22                                     Error Message\n",
       "23                                     Error Message\n",
       "24                                    Noise From Fan\n",
       "25                                    Noise From Fan\n",
       "26                              Power Module Failure\n",
       "27                              Power Module Failure\n",
       "28                              Power Module Failure\n",
       "29                             UPS into by Pass mode\n",
       "                            ...                     \n",
       "36165    P-High Temperature , Compressor Not working\n",
       "36166                       Low Evaporating pressure\n",
       "36167                             compressor failure\n",
       "36168                          Expansion Valve Issue\n",
       "36169                                Cooling Problem\n",
       "36170               Display failure display replaced\n",
       "36171                             Blower not working\n",
       "36172                              Outdoor Fan issue\n",
       "36173                            Unit is not working\n",
       "36174                               Controller Issue\n",
       "36175                                    Not Cooling\n",
       "36176                                    Gas leakage\n",
       "36177                             Lan card   problem\n",
       "36178                                    Not Working\n",
       "36179                            AC Compressor Fault\n",
       "36180                               Compressor Fault\n",
       "36181                                   Sensor Issue\n",
       "36182                                  Airflow issue\n",
       "36183                                      Fan fault\n",
       "36184                                    Not Working\n",
       "36185                                    Oil Leakage\n",
       "36186                                     Card Issue\n",
       "36187                                    Gas Leakage\n",
       "36188                               Controller Issue\n",
       "36189                      Compressor is not working\n",
       "36190                          Condenser fan failure\n",
       "36191                                    Gas Leakage\n",
       "36192                                    Gas leakage\n",
       "36193                                    Not working\n",
       "36194                                    Not working\n",
       "Name: Description, Length: 36195, dtype: object"
      ]
     },
     "execution_count": 8,
     "metadata": {},
     "output_type": "execute_result"
    }
   ],
   "source": [
    "service_request.Description"
   ]
  },
  {
   "cell_type": "code",
   "execution_count": 11,
   "metadata": {},
   "outputs": [
    {
     "data": {
      "text/plain": [
       "6537"
      ]
     },
     "execution_count": 11,
     "metadata": {},
     "output_type": "execute_result"
    }
   ],
   "source": [
    "len(service_request.Description.unique())"
   ]
  },
  {
   "cell_type": "code",
   "execution_count": 14,
   "metadata": {},
   "outputs": [
    {
     "data": {
      "text/plain": [
       "array(['Maintenance', 'Service Partner Coordination'], dtype=object)"
      ]
     },
     "execution_count": 14,
     "metadata": {},
     "output_type": "execute_result"
    }
   ],
   "source": [
    "service_request['Activity Type'].unique()"
   ]
  },
  {
   "cell_type": "code",
   "execution_count": 15,
   "metadata": {},
   "outputs": [
    {
     "data": {
      "text/plain": [
       "array(['Break Fix-Corrective Maint', 'Break Fix'], dtype=object)"
      ]
     },
     "execution_count": 15,
     "metadata": {},
     "output_type": "execute_result"
    }
   ],
   "source": [
    "service_request['Activity SubType'].unique()"
   ]
  },
  {
   "cell_type": "code",
   "execution_count": 17,
   "metadata": {},
   "outputs": [
    {
     "data": {
      "text/plain": [
       "0       2015-01-13 16:04:00\n",
       "1       2015-01-13 16:04:00\n",
       "2       2015-01-13 16:04:00\n",
       "3       2015-01-13 16:04:00\n",
       "4       2015-01-13 16:04:00\n",
       "5       2015-01-13 16:04:00\n",
       "6       2015-01-13 16:04:00\n",
       "7       2015-01-19 12:50:00\n",
       "8       2015-01-19 12:50:00\n",
       "9       2015-01-19 12:50:00\n",
       "10      2015-01-19 12:46:00\n",
       "11      2015-01-19 12:46:00\n",
       "12      2015-01-19 12:46:00\n",
       "13      2015-01-20 11:49:00\n",
       "14      2015-01-20 11:49:00\n",
       "15      2015-01-20 11:49:00\n",
       "16      2015-01-27 12:29:00\n",
       "17      2015-01-27 12:29:00\n",
       "18      2015-02-16 12:06:00\n",
       "19      2015-02-16 12:06:00\n",
       "20      2015-02-16 12:06:00\n",
       "21      2015-03-29 13:05:00\n",
       "22      2015-03-11 06:15:00\n",
       "23      2015-03-11 06:15:00\n",
       "24      2015-03-19 07:58:00\n",
       "25      2015-03-19 07:58:00\n",
       "26      2015-03-18 11:32:00\n",
       "27      2015-03-18 11:32:00\n",
       "28      2015-03-18 11:32:00\n",
       "29      2015-03-23 09:15:00\n",
       "                ...        \n",
       "36165   2016-10-10 06:29:00\n",
       "36166   2016-10-17 09:48:00\n",
       "36167   2016-10-24 17:27:00\n",
       "36168   2016-10-23 14:16:00\n",
       "36169   2016-10-25 11:52:00\n",
       "36170   2016-11-04 11:29:00\n",
       "36171   2016-11-08 11:22:00\n",
       "36172   2016-11-11 11:05:00\n",
       "36173   2016-11-10 17:10:00\n",
       "36174   2016-12-09 07:16:00\n",
       "36175   2016-12-05 08:40:00\n",
       "36176   2016-12-09 10:20:00\n",
       "36177   2016-12-21 14:43:00\n",
       "36178   2016-12-21 14:51:00\n",
       "36179   2016-12-21 14:47:00\n",
       "36180   2016-12-29 05:08:00\n",
       "36181   2016-12-29 10:53:00\n",
       "36182   2016-12-28 06:02:00\n",
       "36183   2017-02-03 10:49:00\n",
       "36184   2017-02-12 15:07:00\n",
       "36185   2017-02-17 08:42:00\n",
       "36186   2017-02-16 07:33:00\n",
       "36187   2017-02-20 10:36:00\n",
       "36188   2017-02-23 09:31:00\n",
       "36189   2017-02-23 09:12:00\n",
       "36190   2017-02-23 09:17:00\n",
       "36191   2017-03-28 15:01:00\n",
       "36192   2017-03-31 04:04:00\n",
       "36193   2017-04-03 12:11:00\n",
       "36194   2017-04-03 12:14:00\n",
       "Name: Closed Date, Length: 36195, dtype: datetime64[ns]"
      ]
     },
     "execution_count": 17,
     "metadata": {},
     "output_type": "execute_result"
    }
   ],
   "source": [
    "pd.to_datetime(service_request['Closed Date'])"
   ]
  },
  {
   "cell_type": "code",
   "execution_count": null,
   "metadata": {
    "collapsed": true
   },
   "outputs": [],
   "source": []
  }
 ],
 "metadata": {
  "kernelspec": {
   "display_name": "Python 3",
   "language": "python",
   "name": "python3"
  },
  "language_info": {
   "codemirror_mode": {
    "name": "ipython",
    "version": 3
   },
   "file_extension": ".py",
   "mimetype": "text/x-python",
   "name": "python",
   "nbconvert_exporter": "python",
   "pygments_lexer": "ipython3",
   "version": "3.5.4"
  }
 },
 "nbformat": 4,
 "nbformat_minor": 2
}
