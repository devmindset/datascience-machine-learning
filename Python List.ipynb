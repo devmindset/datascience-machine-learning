{
 "cells": [
  {
   "cell_type": "markdown",
   "metadata": {
    "collapsed": true
   },
   "source": [
    "* List is hetrogenous, sequntial data storage mechanism\n",
    "* Dynamic grow & shrink in size"
   ]
  },
  {
   "cell_type": "code",
   "execution_count": 1,
   "metadata": {
    "collapsed": true
   },
   "outputs": [],
   "source": [
    "#Empty List\n",
    "l = []\n",
    "l = list()"
   ]
  },
  {
   "cell_type": "code",
   "execution_count": 2,
   "metadata": {
    "collapsed": true
   },
   "outputs": [],
   "source": [
    "l.append('hello')\n",
    "l.append(5)\n",
    "l.append(5.5)"
   ]
  },
  {
   "cell_type": "code",
   "execution_count": 3,
   "metadata": {},
   "outputs": [
    {
     "data": {
      "text/plain": [
       "['hello', 5, 5.5]"
      ]
     },
     "execution_count": 3,
     "metadata": {},
     "output_type": "execute_result"
    }
   ],
   "source": [
    "l"
   ]
  },
  {
   "cell_type": "code",
   "execution_count": 4,
   "metadata": {
    "collapsed": true
   },
   "outputs": [],
   "source": [
    "l.append('Good stuff')"
   ]
  },
  {
   "cell_type": "code",
   "execution_count": 5,
   "metadata": {},
   "outputs": [
    {
     "data": {
      "text/plain": [
       "['hello', 5, 5.5, 'Good stuff']"
      ]
     },
     "execution_count": 5,
     "metadata": {},
     "output_type": "execute_result"
    }
   ],
   "source": [
    "l"
   ]
  },
  {
   "cell_type": "code",
   "execution_count": 6,
   "metadata": {},
   "outputs": [
    {
     "data": {
      "text/plain": [
       "1"
      ]
     },
     "execution_count": 6,
     "metadata": {},
     "output_type": "execute_result"
    }
   ],
   "source": [
    "l.count(5)"
   ]
  },
  {
   "cell_type": "code",
   "execution_count": 7,
   "metadata": {
    "collapsed": true
   },
   "outputs": [],
   "source": [
    "l.append(5)"
   ]
  },
  {
   "cell_type": "code",
   "execution_count": 8,
   "metadata": {},
   "outputs": [
    {
     "data": {
      "text/plain": [
       "2"
      ]
     },
     "execution_count": 8,
     "metadata": {},
     "output_type": "execute_result"
    }
   ],
   "source": [
    "l.count(5)"
   ]
  },
  {
   "cell_type": "code",
   "execution_count": 9,
   "metadata": {
    "collapsed": true
   },
   "outputs": [],
   "source": [
    "m = l"
   ]
  },
  {
   "cell_type": "code",
   "execution_count": 10,
   "metadata": {},
   "outputs": [
    {
     "data": {
      "text/plain": [
       "['hello', 5, 5.5, 'Good stuff', 5]"
      ]
     },
     "execution_count": 10,
     "metadata": {},
     "output_type": "execute_result"
    }
   ],
   "source": [
    "m"
   ]
  },
  {
   "cell_type": "code",
   "execution_count": 11,
   "metadata": {},
   "outputs": [
    {
     "data": {
      "text/plain": [
       "'hello'"
      ]
     },
     "execution_count": 11,
     "metadata": {},
     "output_type": "execute_result"
    }
   ],
   "source": [
    "m[0]"
   ]
  },
  {
   "cell_type": "code",
   "execution_count": 12,
   "metadata": {
    "collapsed": true
   },
   "outputs": [],
   "source": [
    "m[0]='Hello World'"
   ]
  },
  {
   "cell_type": "code",
   "execution_count": 13,
   "metadata": {},
   "outputs": [
    {
     "data": {
      "text/plain": [
       "['Hello World', 5, 5.5, 'Good stuff', 5]"
      ]
     },
     "execution_count": 13,
     "metadata": {},
     "output_type": "execute_result"
    }
   ],
   "source": [
    "m"
   ]
  },
  {
   "cell_type": "code",
   "execution_count": 14,
   "metadata": {},
   "outputs": [
    {
     "data": {
      "text/plain": [
       "['Hello World', 5, 5.5, 'Good stuff', 5]"
      ]
     },
     "execution_count": 14,
     "metadata": {},
     "output_type": "execute_result"
    }
   ],
   "source": [
    "l"
   ]
  },
  {
   "cell_type": "code",
   "execution_count": 15,
   "metadata": {
    "collapsed": true
   },
   "outputs": [],
   "source": [
    "k = l.copy()"
   ]
  },
  {
   "cell_type": "code",
   "execution_count": 16,
   "metadata": {},
   "outputs": [
    {
     "data": {
      "text/plain": [
       "['Hello World', 5, 5.5, 'Good stuff', 5]"
      ]
     },
     "execution_count": 16,
     "metadata": {},
     "output_type": "execute_result"
    }
   ],
   "source": [
    "k"
   ]
  },
  {
   "cell_type": "code",
   "execution_count": 17,
   "metadata": {
    "collapsed": true
   },
   "outputs": [],
   "source": [
    "k[0] = 'Tennis'"
   ]
  },
  {
   "cell_type": "code",
   "execution_count": 18,
   "metadata": {},
   "outputs": [
    {
     "data": {
      "text/plain": [
       "['Tennis', 5, 5.5, 'Good stuff', 5]"
      ]
     },
     "execution_count": 18,
     "metadata": {},
     "output_type": "execute_result"
    }
   ],
   "source": [
    "k"
   ]
  },
  {
   "cell_type": "code",
   "execution_count": 19,
   "metadata": {},
   "outputs": [
    {
     "data": {
      "text/plain": [
       "['Hello World', 5, 5.5, 'Good stuff', 5]"
      ]
     },
     "execution_count": 19,
     "metadata": {},
     "output_type": "execute_result"
    }
   ],
   "source": [
    "l"
   ]
  },
  {
   "cell_type": "code",
   "execution_count": 20,
   "metadata": {
    "collapsed": true
   },
   "outputs": [],
   "source": [
    "#Deep Copy\n",
    "#Shallo Copy"
   ]
  },
  {
   "cell_type": "code",
   "execution_count": 21,
   "metadata": {
    "collapsed": true
   },
   "outputs": [],
   "source": [
    "l.extend(k)"
   ]
  },
  {
   "cell_type": "code",
   "execution_count": 22,
   "metadata": {},
   "outputs": [
    {
     "data": {
      "text/plain": [
       "['Hello World', 5, 5.5, 'Good stuff', 5, 'Tennis', 5, 5.5, 'Good stuff', 5]"
      ]
     },
     "execution_count": 22,
     "metadata": {},
     "output_type": "execute_result"
    }
   ],
   "source": [
    "l"
   ]
  },
  {
   "cell_type": "code",
   "execution_count": 23,
   "metadata": {},
   "outputs": [
    {
     "data": {
      "text/plain": [
       "4"
      ]
     },
     "execution_count": 23,
     "metadata": {},
     "output_type": "execute_result"
    }
   ],
   "source": [
    "l.count(5)"
   ]
  },
  {
   "cell_type": "code",
   "execution_count": 24,
   "metadata": {},
   "outputs": [
    {
     "data": {
      "text/plain": [
       "1"
      ]
     },
     "execution_count": 24,
     "metadata": {},
     "output_type": "execute_result"
    }
   ],
   "source": [
    "l.index(5)"
   ]
  },
  {
   "cell_type": "code",
   "execution_count": 25,
   "metadata": {},
   "outputs": [
    {
     "ename": "ValueError",
     "evalue": "-5 is not in list",
     "output_type": "error",
     "traceback": [
      "\u001b[1;31m---------------------------------------------------------------------------\u001b[0m",
      "\u001b[1;31mValueError\u001b[0m                                Traceback (most recent call last)",
      "\u001b[1;32m<ipython-input-25-5b28c98094ba>\u001b[0m in \u001b[0;36m<module>\u001b[1;34m()\u001b[0m\n\u001b[1;32m----> 1\u001b[1;33m \u001b[0ml\u001b[0m\u001b[1;33m.\u001b[0m\u001b[0mindex\u001b[0m\u001b[1;33m(\u001b[0m\u001b[1;33m-\u001b[0m\u001b[1;36m5\u001b[0m\u001b[1;33m)\u001b[0m\u001b[1;33m\u001b[0m\u001b[0m\n\u001b[0m",
      "\u001b[1;31mValueError\u001b[0m: -5 is not in list"
     ]
    }
   ],
   "source": [
    "l.index(-5)"
   ]
  },
  {
   "cell_type": "code",
   "execution_count": 26,
   "metadata": {},
   "outputs": [
    {
     "name": "stdout",
     "output_type": "stream",
     "text": [
      "Not Present\n"
     ]
    }
   ],
   "source": [
    "try:\n",
    "    l.index(-5)\n",
    "except:\n",
    "    print('Not Present')"
   ]
  },
  {
   "cell_type": "code",
   "execution_count": 28,
   "metadata": {},
   "outputs": [],
   "source": [
    "l.insert(3,'Hehehe')"
   ]
  },
  {
   "cell_type": "code",
   "execution_count": 29,
   "metadata": {},
   "outputs": [
    {
     "data": {
      "text/plain": [
       "['Hello World',\n",
       " 5,\n",
       " 5.5,\n",
       " 'Hehehe',\n",
       " 'Good stuff',\n",
       " 5,\n",
       " 'Tennis',\n",
       " 5,\n",
       " 5.5,\n",
       " 'Good stuff',\n",
       " 5]"
      ]
     },
     "execution_count": 29,
     "metadata": {},
     "output_type": "execute_result"
    }
   ],
   "source": [
    "l"
   ]
  },
  {
   "cell_type": "code",
   "execution_count": 30,
   "metadata": {},
   "outputs": [
    {
     "data": {
      "text/plain": [
       "['Hello World',\n",
       " 5,\n",
       " 5.5,\n",
       " 'Hehehe',\n",
       " 'Good stuff',\n",
       " 5,\n",
       " 'Tennis',\n",
       " 5,\n",
       " 5.5,\n",
       " 'Good stuff',\n",
       " 5]"
      ]
     },
     "execution_count": 30,
     "metadata": {},
     "output_type": "execute_result"
    }
   ],
   "source": [
    "l"
   ]
  },
  {
   "cell_type": "code",
   "execution_count": 31,
   "metadata": {},
   "outputs": [
    {
     "data": {
      "text/plain": [
       "'Hehehe'"
      ]
     },
     "execution_count": 31,
     "metadata": {},
     "output_type": "execute_result"
    }
   ],
   "source": [
    "l.pop(3)"
   ]
  },
  {
   "cell_type": "code",
   "execution_count": 32,
   "metadata": {},
   "outputs": [
    {
     "data": {
      "text/plain": [
       "['Hello World', 5, 5.5, 'Good stuff', 5, 'Tennis', 5, 5.5, 'Good stuff', 5]"
      ]
     },
     "execution_count": 32,
     "metadata": {},
     "output_type": "execute_result"
    }
   ],
   "source": [
    "l"
   ]
  },
  {
   "cell_type": "code",
   "execution_count": 33,
   "metadata": {
    "collapsed": true
   },
   "outputs": [],
   "source": [
    "l.remove('Tennis')"
   ]
  },
  {
   "cell_type": "code",
   "execution_count": 34,
   "metadata": {},
   "outputs": [
    {
     "data": {
      "text/plain": [
       "['Hello World', 5, 5.5, 'Good stuff', 5, 5, 5.5, 'Good stuff', 5]"
      ]
     },
     "execution_count": 34,
     "metadata": {},
     "output_type": "execute_result"
    }
   ],
   "source": [
    "l"
   ]
  },
  {
   "cell_type": "code",
   "execution_count": 35,
   "metadata": {
    "collapsed": true
   },
   "outputs": [],
   "source": [
    "l.reverse()"
   ]
  },
  {
   "cell_type": "code",
   "execution_count": 36,
   "metadata": {},
   "outputs": [
    {
     "data": {
      "text/plain": [
       "[5, 'Good stuff', 5.5, 5, 5, 'Good stuff', 5.5, 5, 'Hello World']"
      ]
     },
     "execution_count": 36,
     "metadata": {},
     "output_type": "execute_result"
    }
   ],
   "source": [
    "l"
   ]
  },
  {
   "cell_type": "code",
   "execution_count": 38,
   "metadata": {},
   "outputs": [],
   "source": [
    "d = [1,22,13,4,400,41]"
   ]
  },
  {
   "cell_type": "code",
   "execution_count": 39,
   "metadata": {
    "collapsed": true
   },
   "outputs": [],
   "source": [
    "d.sort()"
   ]
  },
  {
   "cell_type": "code",
   "execution_count": 40,
   "metadata": {},
   "outputs": [
    {
     "data": {
      "text/plain": [
       "[1, 4, 13, 22, 41, 400]"
      ]
     },
     "execution_count": 40,
     "metadata": {},
     "output_type": "execute_result"
    }
   ],
   "source": [
    "d"
   ]
  },
  {
   "cell_type": "code",
   "execution_count": 41,
   "metadata": {},
   "outputs": [
    {
     "ename": "TypeError",
     "evalue": "unorderable types: str() < int()",
     "output_type": "error",
     "traceback": [
      "\u001b[1;31m---------------------------------------------------------------------------\u001b[0m",
      "\u001b[1;31mTypeError\u001b[0m                                 Traceback (most recent call last)",
      "\u001b[1;32m<ipython-input-41-b56eb6767f72>\u001b[0m in \u001b[0;36m<module>\u001b[1;34m()\u001b[0m\n\u001b[1;32m----> 1\u001b[1;33m \u001b[0ml\u001b[0m\u001b[1;33m.\u001b[0m\u001b[0msort\u001b[0m\u001b[1;33m(\u001b[0m\u001b[1;33m)\u001b[0m\u001b[1;33m\u001b[0m\u001b[0m\n\u001b[0m",
      "\u001b[1;31mTypeError\u001b[0m: unorderable types: str() < int()"
     ]
    }
   ],
   "source": [
    "l.sort()"
   ]
  },
  {
   "cell_type": "code",
   "execution_count": 42,
   "metadata": {},
   "outputs": [
    {
     "data": {
      "text/plain": [
       "481"
      ]
     },
     "execution_count": 42,
     "metadata": {},
     "output_type": "execute_result"
    }
   ],
   "source": [
    "sum(d)"
   ]
  },
  {
   "cell_type": "code",
   "execution_count": 43,
   "metadata": {},
   "outputs": [
    {
     "data": {
      "text/plain": [
       "400"
      ]
     },
     "execution_count": 43,
     "metadata": {},
     "output_type": "execute_result"
    }
   ],
   "source": [
    "max(d)"
   ]
  },
  {
   "cell_type": "code",
   "execution_count": 44,
   "metadata": {},
   "outputs": [
    {
     "data": {
      "text/plain": [
       "9"
      ]
     },
     "execution_count": 44,
     "metadata": {},
     "output_type": "execute_result"
    }
   ],
   "source": [
    "len(l)"
   ]
  },
  {
   "cell_type": "code",
   "execution_count": 46,
   "metadata": {},
   "outputs": [
    {
     "data": {
      "text/plain": [
       "[1, 3, 5, 7, 9]"
      ]
     },
     "execution_count": 46,
     "metadata": {},
     "output_type": "execute_result"
    }
   ],
   "source": [
    "list(range(1,10,2))"
   ]
  },
  {
   "cell_type": "code",
   "execution_count": 47,
   "metadata": {},
   "outputs": [
    {
     "data": {
      "text/plain": [
       "range(1, 10, 2)"
      ]
     },
     "execution_count": 47,
     "metadata": {},
     "output_type": "execute_result"
    }
   ],
   "source": [
    "range(1,10,2)"
   ]
  },
  {
   "cell_type": "code",
   "execution_count": 48,
   "metadata": {},
   "outputs": [
    {
     "data": {
      "text/plain": [
       "[10, 8, 6, 4, 2]"
      ]
     },
     "execution_count": 48,
     "metadata": {},
     "output_type": "execute_result"
    }
   ],
   "source": [
    "list(range(10,1,-2))"
   ]
  },
  {
   "cell_type": "code",
   "execution_count": 49,
   "metadata": {
    "collapsed": true
   },
   "outputs": [],
   "source": [
    "st = 'Hello how are you'"
   ]
  },
  {
   "cell_type": "code",
   "execution_count": 51,
   "metadata": {},
   "outputs": [],
   "source": [
    "d = st.split()"
   ]
  },
  {
   "cell_type": "code",
   "execution_count": 52,
   "metadata": {},
   "outputs": [
    {
     "data": {
      "text/plain": [
       "'Hello-how-are-you'"
      ]
     },
     "execution_count": 52,
     "metadata": {},
     "output_type": "execute_result"
    }
   ],
   "source": [
    "'-'.join(d)"
   ]
  },
  {
   "cell_type": "code",
   "execution_count": 53,
   "metadata": {
    "collapsed": true
   },
   "outputs": [],
   "source": [
    "#Reverse the order of words\n",
    "#s = 'Hello how are you'\n",
    "#you are how Hello"
   ]
  },
  {
   "cell_type": "code",
   "execution_count": 54,
   "metadata": {
    "collapsed": true
   },
   "outputs": [],
   "source": [
    "l = [322,212,121,2,2323,77,45]\n",
    "l.sort(reverse=True)"
   ]
  },
  {
   "cell_type": "code",
   "execution_count": 55,
   "metadata": {},
   "outputs": [
    {
     "data": {
      "text/plain": [
       "[2323, 322, 212, 121, 77, 45, 2]"
      ]
     },
     "execution_count": 55,
     "metadata": {},
     "output_type": "execute_result"
    }
   ],
   "source": [
    "l"
   ]
  },
  {
   "cell_type": "code",
   "execution_count": 56,
   "metadata": {},
   "outputs": [
    {
     "data": {
      "text/plain": [
       "2323"
      ]
     },
     "execution_count": 56,
     "metadata": {},
     "output_type": "execute_result"
    }
   ],
   "source": [
    "l[0]\n"
   ]
  },
  {
   "cell_type": "code",
   "execution_count": 57,
   "metadata": {},
   "outputs": [
    {
     "data": {
      "text/plain": [
       "2"
      ]
     },
     "execution_count": 57,
     "metadata": {},
     "output_type": "execute_result"
    }
   ],
   "source": [
    "l[-1]"
   ]
  },
  {
   "cell_type": "code",
   "execution_count": 58,
   "metadata": {},
   "outputs": [
    {
     "data": {
      "text/plain": [
       "[121, 77]"
      ]
     },
     "execution_count": 58,
     "metadata": {},
     "output_type": "execute_result"
    }
   ],
   "source": [
    "l[3:5]"
   ]
  },
  {
   "cell_type": "code",
   "execution_count": 61,
   "metadata": {},
   "outputs": [
    {
     "data": {
      "text/plain": [
       "[2, 45, 77, 121, 212, 322, 2323]"
      ]
     },
     "execution_count": 61,
     "metadata": {},
     "output_type": "execute_result"
    }
   ],
   "source": [
    "l[::-1] #returns a new list with reversed data"
   ]
  },
  {
   "cell_type": "code",
   "execution_count": 60,
   "metadata": {},
   "outputs": [
    {
     "data": {
      "text/plain": [
       "[2323, 322, 212, 121, 77, 45, 2]"
      ]
     },
     "execution_count": 60,
     "metadata": {},
     "output_type": "execute_result"
    }
   ],
   "source": [
    "l"
   ]
  },
  {
   "cell_type": "code",
   "execution_count": 62,
   "metadata": {
    "collapsed": true
   },
   "outputs": [],
   "source": [
    "l = [ [1,2,3], [4,5,6]]"
   ]
  },
  {
   "cell_type": "code",
   "execution_count": 63,
   "metadata": {},
   "outputs": [
    {
     "data": {
      "text/plain": [
       "[[1, 2, 3], [4, 5, 6]]"
      ]
     },
     "execution_count": 63,
     "metadata": {},
     "output_type": "execute_result"
    }
   ],
   "source": [
    "l"
   ]
  },
  {
   "cell_type": "code",
   "execution_count": 65,
   "metadata": {},
   "outputs": [
    {
     "data": {
      "text/plain": [
       "3"
      ]
     },
     "execution_count": 65,
     "metadata": {},
     "output_type": "execute_result"
    }
   ],
   "source": [
    "l[0][-1]"
   ]
  },
  {
   "cell_type": "code",
   "execution_count": 66,
   "metadata": {},
   "outputs": [
    {
     "data": {
      "text/plain": [
       "[[1, 2, 3], [4, 5, 6]]"
      ]
     },
     "execution_count": 66,
     "metadata": {},
     "output_type": "execute_result"
    }
   ],
   "source": [
    "l"
   ]
  },
  {
   "cell_type": "code",
   "execution_count": 67,
   "metadata": {
    "collapsed": true
   },
   "outputs": [],
   "source": [
    "l.append([11,22,33])"
   ]
  },
  {
   "cell_type": "code",
   "execution_count": 68,
   "metadata": {},
   "outputs": [
    {
     "data": {
      "text/plain": [
       "[[1, 2, 3], [4, 5, 6], [11, 22, 33]]"
      ]
     },
     "execution_count": 68,
     "metadata": {},
     "output_type": "execute_result"
    }
   ],
   "source": [
    "l"
   ]
  },
  {
   "cell_type": "code",
   "execution_count": 69,
   "metadata": {
    "collapsed": true
   },
   "outputs": [],
   "source": [
    "l.extend([55,66,77])"
   ]
  },
  {
   "cell_type": "code",
   "execution_count": 70,
   "metadata": {},
   "outputs": [
    {
     "data": {
      "text/plain": [
       "[[1, 2, 3], [4, 5, 6], [11, 22, 33], 55, 66, 77]"
      ]
     },
     "execution_count": 70,
     "metadata": {},
     "output_type": "execute_result"
    }
   ],
   "source": [
    "l"
   ]
  },
  {
   "cell_type": "code",
   "execution_count": 84,
   "metadata": {
    "collapsed": true
   },
   "outputs": [],
   "source": [
    "s = 'ABCDCDC'\n",
    "ss = 'CDC'"
   ]
  },
  {
   "cell_type": "code",
   "execution_count": 79,
   "metadata": {},
   "outputs": [
    {
     "data": {
      "text/plain": [
       "1"
      ]
     },
     "execution_count": 79,
     "metadata": {},
     "output_type": "execute_result"
    }
   ],
   "source": [
    "s.count(ss)"
   ]
  },
  {
   "cell_type": "code",
   "execution_count": 73,
   "metadata": {
    "collapsed": true
   },
   "outputs": [],
   "source": [
    "s = 'I am an Indian, by birth.'\n",
    "ss=  'Birth'"
   ]
  },
  {
   "cell_type": "code",
   "execution_count": 76,
   "metadata": {},
   "outputs": [
    {
     "data": {
      "text/plain": [
       "1"
      ]
     },
     "execution_count": 76,
     "metadata": {},
     "output_type": "execute_result"
    }
   ],
   "source": [
    "s.lower().count(ss.lower())"
   ]
  },
  {
   "cell_type": "code",
   "execution_count": 83,
   "metadata": {},
   "outputs": [
    {
     "name": "stdout",
     "output_type": "stream",
     "text": [
      "2\n"
     ]
    }
   ],
   "source": [
    "st = 0\n",
    "count = 0\n",
    "while True:\n",
    "    try:\n",
    "        idx = s.find(ss,st)\n",
    "        if idx > 0:\n",
    "            count += 1\n",
    "            st = idx + 1\n",
    "    except:\n",
    "        break\n",
    "\n",
    "print(count)"
   ]
  },
  {
   "cell_type": "code",
   "execution_count": 86,
   "metadata": {
    "collapsed": true
   },
   "outputs": [],
   "source": [
    "l = [1,2,3,4]"
   ]
  },
  {
   "cell_type": "code",
   "execution_count": 89,
   "metadata": {},
   "outputs": [
    {
     "data": {
      "text/plain": [
       "[2, 4, 6, 8]"
      ]
     },
     "execution_count": 89,
     "metadata": {},
     "output_type": "execute_result"
    }
   ],
   "source": [
    "list(map(lambda x: x*2, l))\n",
    "#substitude for loops"
   ]
  },
  {
   "cell_type": "code",
   "execution_count": 92,
   "metadata": {},
   "outputs": [
    {
     "data": {
      "text/plain": [
       "[2, 4]"
      ]
     },
     "execution_count": 92,
     "metadata": {},
     "output_type": "execute_result"
    }
   ],
   "source": [
    "list(filter(lambda x: x%2 == 0, l))\n",
    "#substitute for if cond in loops"
   ]
  },
  {
   "cell_type": "code",
   "execution_count": 96,
   "metadata": {},
   "outputs": [
    {
     "name": "stdout",
     "output_type": "stream",
     "text": [
      "HelloHelloHelloHelloHello\n"
     ]
    }
   ],
   "source": [
    "def fun(i = 1):\n",
    "    def morefun():\n",
    "        print ('Hello' * i)\n",
    "        \n",
    "    return morefun\n",
    "        \n",
    "f = fun(5)\n",
    "f()\n",
    "\n"
   ]
  },
  {
   "cell_type": "code",
   "execution_count": 101,
   "metadata": {},
   "outputs": [
    {
     "name": "stdout",
     "output_type": "stream",
     "text": [
      "In Timing Func\n",
      "499999500000\n"
     ]
    },
    {
     "data": {
      "text/plain": [
       "'Time: 0.5823121070861816\\n'"
      ]
     },
     "execution_count": 101,
     "metadata": {},
     "output_type": "execute_result"
    }
   ],
   "source": [
    "import time\n",
    "\n",
    "def timing_function(some_func):\n",
    "    print('In Timing Func')\n",
    "    \n",
    "    def wrap():\n",
    "        t1 = time.time()\n",
    "        some_func()\n",
    "        t2 = time.time()\n",
    "        return \"Time: \" + str((t2 - t1)) + \"\\n\"\n",
    "    \n",
    "    return wrap\n",
    "\n",
    "#decorator acts as wrapper around the function\n",
    "@timing_function\n",
    "def my_func():\n",
    "    l = []\n",
    "    for num in range(1,1000000):\n",
    "        l.append(num)\n",
    "    print(sum(l))\n",
    "    \n",
    "    \n",
    "my_func()"
   ]
  },
  {
   "cell_type": "code",
   "execution_count": 106,
   "metadata": {},
   "outputs": [
    {
     "name": "stdout",
     "output_type": "stream",
     "text": [
      "In Timing Func\n",
      "In Timing Func\n",
      "10\n",
      "20\n",
      "499999500000\n"
     ]
    },
    {
     "data": {
      "text/plain": [
       "'Time: 0.5525417327880859\\n'"
      ]
     },
     "execution_count": 106,
     "metadata": {},
     "output_type": "execute_result"
    }
   ],
   "source": [
    "import time\n",
    "\n",
    "def timing_function(some_func):\n",
    "    print('In Timing Func')\n",
    "    \n",
    "    def wrap():\n",
    "        t1 = time.time()\n",
    "        some_func()\n",
    "        t2 = time.time()\n",
    "        return \"Time: \" + str((t2 - t1)) + \"\\n\"\n",
    "    \n",
    "    return wrap\n",
    "\n",
    "#decorator acts as wrapper around the function\n",
    "@timing_function\n",
    "def my_func(num):\n",
    "    l = []\n",
    "    for num in range(1,1000000):\n",
    "        l.append(num)\n",
    "    print(sum(l))\n",
    "    \n",
    "import time\n",
    "\n",
    "def timing_function(some_func):\n",
    "    print('In Timing Func')\n",
    "    \n",
    "    #args pass\n",
    "    def wrap(num):\n",
    "        print(num)\n",
    "        t1 = time.time()\n",
    "        if num > 15:\n",
    "            some_func(num)\n",
    "        t2 = time.time()\n",
    "        return \"Time: \" + str((t2 - t1)) + \"\\n\"\n",
    "    \n",
    "    return wrap\n",
    "\n",
    "#decorator acts as wrapper around the function\n",
    "#The decrator func returns a wrapper. \n",
    "#Whenever we call a function wrapped around, the wrapper gets invoked\n",
    "#wrap\n",
    "@timing_function\n",
    "def my_func(n):\n",
    "    l = []\n",
    "    for num in range(1,1000000):\n",
    "        l.append(num)\n",
    "    print(sum(l))\n",
    "    \n",
    "    \n",
    "my_func(10)\n",
    "my_func(20)"
   ]
  },
  {
   "cell_type": "code",
   "execution_count": 109,
   "metadata": {},
   "outputs": [],
   "source": [
    "import requests"
   ]
  },
  {
   "cell_type": "code",
   "execution_count": 110,
   "metadata": {
    "collapsed": true
   },
   "outputs": [],
   "source": [
    "data = requests.get('http://www.espncricinfo.com')"
   ]
  },
  {
   "cell_type": "code",
   "execution_count": 112,
   "metadata": {},
   "outputs": [
    {
     "data": {
      "text/plain": [
       "requests.models.Response"
      ]
     },
     "execution_count": 112,
     "metadata": {},
     "output_type": "execute_result"
    }
   ],
   "source": [
    "type(data)"
   ]
  },
  {
   "cell_type": "code",
   "execution_count": 113,
   "metadata": {
    "collapsed": true
   },
   "outputs": [],
   "source": [
    "from bs4 import BeautifulSoup"
   ]
  },
  {
   "cell_type": "code",
   "execution_count": 114,
   "metadata": {
    "collapsed": true
   },
   "outputs": [],
   "source": [
    "soup = BeautifulSoup(data.text,\"lxml\")"
   ]
  },
  {
   "cell_type": "code",
   "execution_count": 116,
   "metadata": {},
   "outputs": [
    {
     "data": {
      "text/plain": [
       "<title>Live cricket scores, commentary, match coverage | Cricket news, statistics | ESPN Cricinfo</title>"
      ]
     },
     "execution_count": 116,
     "metadata": {},
     "output_type": "execute_result"
    }
   ],
   "source": [
    "soup.title"
   ]
  },
  {
   "cell_type": "code",
   "execution_count": 117,
   "metadata": {},
   "outputs": [
    {
     "data": {
      "text/plain": [
       "[<img src=\"http://i.imgci.com/espncricinfo/redesign/ci_logo.png\"/>,\n",
       " <img alt=\"OPPO\" border=\"0\" height=\"40\" src=\"http://i.imgci.com/espncricinfo/oppo_cdc_300x40.gif\" title=\"OPPO\" width=\"300\"/>,\n",
       " <img alt=\"Oppo_Logo_320x30\" border=\"0\" height=\"30\" src=\"/db/ADVERT/3600/03652.png\" title=\"Oppo_Logo_320x30\" width=\"320\"/>,\n",
       " <img alt=\"AMFI_125x125\" border=\"0\" height=\"125\" src=\"/db/ADVERT/3600/03669.gif\" title=\"AMFI_125x125\" width=\"125\"/>,\n",
       " <img alt=\"Voltas\" border=\"0\" height=\"75\" src=\"http://i.imgci.com/espncricinfo/voltas_poll_jun_302x75.jpg\" title=\"Voltas\" width=\"300\"/>,\n",
       " <img alt=\"Voltas\" border=\"0\" height=\"250\" src=\"http://i.imgci.com/espncricinfo/voltas_poll_jun_300x250.jpg\" title=\"Voltas\" width=\"300\"/>,\n",
       " <img alt=\"\" class=\"img-full\" data-src=\"http://p.imgci.com/db/PICTURES/CMS/264300/264313.jpg\" src=\"http://i.imgci.com/espncricinfo/redesign/default-thumbnail.jpg\" title=\"\"/>,\n",
       " <img alt=\"\" class=\"img-full\" data-hide-thumbs=\"1\" data-src=\"http://p.imgci.com/db/PICTURES/CMS/264200/264264.3.jpg\" src=\"http://i.imgci.com/espncricinfo/redesign/default-thumbnail.jpg\" title=\"\"/>,\n",
       " <img alt=\"\" class=\"img-full\" data-hide-thumbs=\"1\" data-src=\"http://p.imgci.com/db/PICTURES/CMS/264200/264263.3.jpg\" src=\"http://i.imgci.com/espncricinfo/redesign/default-thumbnail.jpg\" title=\"\"/>,\n",
       " <img alt=\"\" class=\"img-full\" data-hide-thumbs=\"1\" data-src=\"http://p.imgci.com/db/PICTURES/CMS/264200/264262.3.jpg\" src=\"http://i.imgci.com/espncricinfo/redesign/default-thumbnail.jpg\" title=\"\"/>,\n",
       " <img alt=\"\" class=\"img-full\" data-hide-thumbs=\"1\" data-src=\"http://p.imgci.com/db/PICTURES/CMS/264200/264261.3.jpg\" src=\"http://i.imgci.com/espncricinfo/redesign/default-thumbnail.jpg\" title=\"\"/>,\n",
       " <img alt=\"\" class=\"img-full\" data-hide-thumbs=\"1\" data-src=\"http://p.imgci.com/db/PICTURES/CMS/264200/264260.3.jpg\" src=\"http://i.imgci.com/espncricinfo/redesign/default-thumbnail.jpg\" title=\"\"/>,\n",
       " <img alt=\"\" class=\"img-full\" data-hide-thumbs=\"1\" data-src=\"http://p.imgci.com/db/PICTURES/CMS/264200/264258.jpg\" src=\"http://i.imgci.com/espncricinfo/redesign/default-thumbnail.jpg\" title=\"\"/>,\n",
       " <img alt=\"\" class=\"img-full\" data-hide-thumbs=\"1\" data-src=\"http://p.imgci.com/db/PICTURES/CMS/264200/264257.3.jpg\" src=\"http://i.imgci.com/espncricinfo/redesign/default-thumbnail.jpg\" title=\"\"/>,\n",
       " <img alt=\"\" class=\"img-full\" data-hide-thumbs=\"1\" data-src=\"http://p.imgci.com/db/PICTURES/CMS/264200/264256.3.jpg\" src=\"http://i.imgci.com/espncricinfo/redesign/default-thumbnail.jpg\" title=\"\"/>,\n",
       " <img alt=\"\" class=\"img-full\" data-hide-thumbs=\"1\" data-src=\"http://p.imgci.com/db/PICTURES/CMS/264200/264253.3.jpg\" src=\"http://i.imgci.com/espncricinfo/redesign/default-thumbnail.jpg\" title=\"\"/>,\n",
       " <img alt=\"\" class=\"espni-vid-thumb full\" src=\"http://a.espncdn.com/combiner/i?img=/media/motion/2017/0611/dm_170611_Cric-CT17-June11-Runorder-Rains-NRH/dm_170611_Cric-CT17-June11-Runorder-Rains-NRH.jpg?w=300&amp;h=168\"/>,\n",
       " <img alt=\"\" class=\"img-full\" data-src=\"http://p.imgci.com/db/PICTURES/CMS/264200/264295.5.jpg\" src=\"http://i.imgci.com/espncricinfo/redesign/default-thumbnail.jpg\" title=\"\"/>,\n",
       " <img alt=\"\" class=\"img-full\" data-src=\"http://p.imgci.com/db/PICTURES/CMS/264200/264249.5.jpg\" src=\"http://i.imgci.com/espncricinfo/redesign/default-thumbnail.jpg\" title=\"\"/>,\n",
       " <img alt=\"\" class=\"img-full\" data-src=\"http://p.imgci.com/db/PICTURES/CMS/205000/205075.5.jpg\" src=\"http://i.imgci.com/espncricinfo/redesign/default-thumbnail.jpg\" title=\"\"/>,\n",
       " <img alt=\"\" class=\"img-full\" data-src=\"http://p.imgci.com/db/PICTURES/CMS/264200/264252.5.jpg\" src=\"http://i.imgci.com/espncricinfo/redesign/default-thumbnail.jpg\" title=\"\"/>,\n",
       " <img alt=\"\" class=\"espni-vid-thumb full\" src=\"http://a.espncdn.com/combiner/i?img=/media/motion/2017/0610/dm_170610_CRICK_CT17_June10_PE_WhyDoesItRainInBirmingham_NRH/dm_170610_CRICK_CT17_June10_PE_WhyDoesItRainInBirmingham_NRH.jpg?w=300&amp;h=168\"/>,\n",
       " <img alt=\"\" class=\"img-full\" data-src=\"http://p.imgci.com/db/PICTURES/CMS/264200/264212.5.jpg\" src=\"http://i.imgci.com/espncricinfo/redesign/default-thumbnail.jpg\" title=\"\"/>,\n",
       " <img alt=\"\" class=\"espni-vid-thumb full\" src=\"http://a.espncdn.com/combiner/i?img=/media/motion/2017/0609/dm_170609_Cric-CT17-June9-BothEnds-Coaches-NRH/dm_170609_Cric-CT17-June9-BothEnds-Coaches-NRH.jpg?w=300&amp;h=168\"/>,\n",
       " <img alt=\"\" class=\"img-full\" data-src=\"http://p.imgci.com/db/PICTURES/CMS/264200/264207.1.jpg\" src=\"http://i.imgci.com/espncricinfo/redesign/default-thumbnail.jpg\" title=\"\"/>,\n",
       " <img alt=\"Cricfantasy-CL_125x125\" border=\"0\" height=\"125\" src=\"/db/ADVERT/3600/03662.gif\" title=\"Cricfantasy-CL_125x125\" width=\"125\"/>,\n",
       " <img alt=\"\" class=\"img-full\" data-src=\"http://p.imgci.com/db/PICTURES/CMS/264300/264308.4.jpg\" src=\"http://i.imgci.com/espncricinfo/redesign/default-thumbnail.jpg\" title=\"\"/>,\n",
       " <img alt=\"\" class=\"espni-vid-thumb full\" src=\"http://p.imgci.com/db/PICTURES/CMS/264200/264261.4.jpg?w=300&amp;h=168\"/>,\n",
       " <img alt=\"\" class=\"img-full\" data-src=\"http://p.imgci.com/db/PICTURES/CMS/259500/259580.4.jpg\" src=\"http://i.imgci.com/espncricinfo/redesign/default-thumbnail.jpg\" title=\"\"/>,\n",
       " <img alt=\"\" class=\"img-full\" data-src=\"http://p.imgci.com/db/PICTURES/CMS/263900/263929.4.jpg\" src=\"http://i.imgci.com/espncricinfo/redesign/default-thumbnail.jpg\" title=\"\"/>,\n",
       " <img alt=\"\" class=\"espni-vid-thumb full\" src=\"http://p.imgci.com/db/PICTURES/CMS/264200/264260.4.jpg?w=300&amp;h=168\"/>,\n",
       " <img alt=\"\" class=\"img-full\" data-src=\"http://p.imgci.com/db/PICTURES/CMS/264200/264288.4.jpg\" src=\"http://i.imgci.com/espncricinfo/redesign/default-thumbnail.jpg\" title=\"\"/>,\n",
       " <img alt=\"\" class=\"img-full\" data-src=\"http://p.imgci.com/db/PICTURES/CMS/197100/197177.6.jpg\" src=\"http://i.imgci.com/espncricinfo/redesign/default-thumbnail.jpg\" title=\"\"/>,\n",
       " <img alt=\"\" class=\"espni-vid-thumb full\" src=\"http://a.espncdn.com/combiner/i?img=/media/motion/2017/0611/dm_170611_Cric-CT17-June11-Runorder-Rains-NRH/dm_170611_Cric-CT17-June11-Runorder-Rains-NRH.jpg?w=300&amp;h=168\"/>,\n",
       " <img alt=\"\" class=\"img-full\" data-src=\"http://p.imgci.com/db/PICTURES/CMS/264200/264295.5.jpg\" src=\"http://i.imgci.com/espncricinfo/redesign/default-thumbnail.jpg\" title=\"\"/>,\n",
       " <img alt=\"\" class=\"img-full\" data-src=\"http://p.imgci.com/db/PICTURES/CMS/264200/264249.5.jpg\" src=\"http://i.imgci.com/espncricinfo/redesign/default-thumbnail.jpg\" title=\"\"/>,\n",
       " <img alt=\"\" class=\"img-full\" data-src=\"http://p.imgci.com/db/PICTURES/CMS/205000/205075.5.jpg\" src=\"http://i.imgci.com/espncricinfo/redesign/default-thumbnail.jpg\" title=\"\"/>,\n",
       " <img alt=\"\" class=\"img-full\" data-src=\"http://p.imgci.com/db/PICTURES/CMS/264200/264252.5.jpg\" src=\"http://i.imgci.com/espncricinfo/redesign/default-thumbnail.jpg\" title=\"\"/>,\n",
       " <img alt=\"\" class=\"espni-vid-thumb full\" src=\"http://a.espncdn.com/combiner/i?img=/media/motion/2017/0610/dm_170610_CRICK_CT17_June10_PE_WhyDoesItRainInBirmingham_NRH/dm_170610_CRICK_CT17_June10_PE_WhyDoesItRainInBirmingham_NRH.jpg?w=300&amp;h=168\"/>,\n",
       " <img alt=\"\" class=\"img-full\" data-src=\"http://p.imgci.com/db/PICTURES/CMS/264200/264212.5.jpg\" src=\"http://i.imgci.com/espncricinfo/redesign/default-thumbnail.jpg\" title=\"\"/>,\n",
       " <img alt=\"\" class=\"espni-vid-thumb full\" src=\"http://a.espncdn.com/combiner/i?img=/media/motion/2017/0609/dm_170609_Cric-CT17-June9-BothEnds-Coaches-NRH/dm_170609_Cric-CT17-June9-BothEnds-Coaches-NRH.jpg?w=300&amp;h=168\"/>,\n",
       " <img alt=\"\" class=\"img-full\" data-src=\"http://p.imgci.com/db/PICTURES/CMS/264200/264207.1.jpg\" src=\"http://i.imgci.com/espncricinfo/redesign/default-thumbnail.jpg\" title=\"\"/>,\n",
       " <img alt=\"Cricfantasy-CL_125x125\" border=\"0\" height=\"125\" src=\"/db/ADVERT/3600/03662.gif\" title=\"Cricfantasy-CL_125x125\" width=\"125\"/>,\n",
       " <img alt=\"\" class=\"espni-vid-thumb full\" src=\"http://a.espncdn.com/combiner/i?img=/media/motion/2017/0611/dm_170611_FTR_Mithali2_GLO/dm_170611_FTR_Mithali2_GLO.jpg?w=620&amp;h=349\"/>,\n",
       " <img alt=\"\" class=\"espni-vid-thumb full\" src=\"http://a.espncdn.com/combiner/i?img=/media/motion/2017/0611/dm_170611_CT17_Kohli_PC_6112017/dm_170611_CT17_Kohli_PC_6112017.jpg?w=300&amp;h=168\"/>,\n",
       " <img alt=\"\" class=\"espni-vid-thumb full\" src=\"http://a.espncdn.com/combiner/i?img=/media/motion/2017/0611/dm_170611_CRICK_CT17_June11_INDvSA_ABDOnFuture_NRH/dm_170611_CRICK_CT17_June11_INDvSA_ABDOnFuture_NRH.jpg?w=300&amp;h=168\"/>,\n",
       " <img alt=\"\" class=\"espni-vid-thumb full\" src=\"http://a.espncdn.com/combiner/i?img=/media/motion/2017/0611/dm_170611_CRIC_CT17_JUN11_SG-MATHEWS-nrh/dm_170611_CRIC_CT17_JUN11_SG-MATHEWS-nrh.jpg?w=300&amp;h=168\"/>,\n",
       " <img alt=\"\" class=\"espni-vid-thumb full\" src=\"http://a.espncdn.com/combiner/i?img=/media/motion/2017/0611/dm_170611_CRIC_CT17_JUNE11_MATHEWS_PC_NRH/dm_170611_CRIC_CT17_JUNE11_MATHEWS_PC_NRH.jpg?w=300&amp;h=168\"/>,\n",
       " <img alt=\"\" data-src=\"/db/PICTURES/CMS/103900/103930.5.png\" src=\"http://i.imgci.com/espncricinfo/redesign/default-thumbnail.jpg\"/>,\n",
       " <img alt=\"\" data-src=\"/db/PICTURES/CMS/69000/69058.7.png\" src=\"http://i.imgci.com/espncricinfo/redesign/default-thumbnail.jpg\"/>,\n",
       " <img alt=\"\" data-src=\"/db/PICTURES/CMS/137600/137625.5.png\" src=\"http://i.imgci.com/espncricinfo/redesign/default-thumbnail.jpg\"/>,\n",
       " <img alt=\"\" data-src=\"/db/PICTURES/CMS/165300/165393.png\" src=\"http://i.imgci.com/espncricinfo/redesign/default-thumbnail.jpg\"/>,\n",
       " <img alt=\"\" data-src=\"/db/PICTURES/CMS/178600/178655.1.png\" src=\"http://i.imgci.com/espncricinfo/redesign/default-thumbnail.jpg\"/>,\n",
       " <img alt=\"\" data-src=\"/db/PICTURES/CMS/207500/207573.png\" src=\"http://i.imgci.com/espncricinfo/redesign/default-thumbnail.jpg\"/>,\n",
       " <img alt=\"\" data-src=\"/db/PICTURES/CMS/174900/174961.1.png\" src=\"http://i.imgci.com/espncricinfo/redesign/default-thumbnail.jpg\"/>,\n",
       " <img alt=\"\" data-src=\"/db/PICTURES/CMS/204700/204787.png\" src=\"http://i.imgci.com/espncricinfo/redesign/default-thumbnail.jpg\"/>,\n",
       " <img alt=\"\" data-src=\"/db/PICTURES/CMS/131200/131247.5.png\" src=\"http://i.imgci.com/espncricinfo/redesign/default-thumbnail.jpg\"/>,\n",
       " <img alt=\"\" data-src=\"/db/PICTURES/CMS/172300/172385.1.png\" src=\"http://i.imgci.com/espncricinfo/redesign/default-thumbnail.jpg\"/>,\n",
       " <img alt=\"\" data-src=\"/db/PICTURES/CMS/141600/141678.3.png\" src=\"http://i.imgci.com/espncricinfo/redesign/default-thumbnail.jpg\"/>,\n",
       " <img alt=\"\" data-src=\"/db/PICTURES/CMS/120100/120162.4.png\" src=\"http://i.imgci.com/espncricinfo/redesign/default-thumbnail.jpg\"/>,\n",
       " <img alt=\"\" data-src=\"/db/PICTURES/CMS/155300/155353.1.png\" src=\"http://i.imgci.com/espncricinfo/redesign/default-thumbnail.jpg\"/>,\n",
       " <img alt=\"\" data-src=\"/db/PICTURES/CMS/154400/154421.2.png\" src=\"http://i.imgci.com/espncricinfo/redesign/default-thumbnail.jpg\"/>,\n",
       " <img alt=\"\" class=\"img-full\" data-src=\"http://p.imgci.com/db/PICTURES/CMS/264300/264316.3.jpg\" src=\"http://i.imgci.com/espncricinfo/redesign/default-thumbnail.jpg\" title=\"\"/>,\n",
       " <img alt=\"\" class=\"img-full\" data-src=\"http://p.imgci.com/db/PICTURES/CMS/264300/264315.3.jpg\" src=\"http://i.imgci.com/espncricinfo/redesign/default-thumbnail.jpg\" title=\"\"/>,\n",
       " <img alt=\"\" class=\"img-full\" data-src=\"http://p.imgci.com/db/PICTURES/CMS/264300/264314.3.jpg\" src=\"http://i.imgci.com/espncricinfo/redesign/default-thumbnail.jpg\" title=\"\"/>,\n",
       " <img alt=\"\" class=\"img-full\" data-src=\"http://p.imgci.com/db/PICTURES/CMS/264300/264313.jpg\" src=\"http://i.imgci.com/espncricinfo/redesign/default-thumbnail.jpg\" title=\"\"/>,\n",
       " <img alt=\"\" border=\"0\" src=\"http://i.imgci.com/espncricinfo/redesign/espn-family-logo_3x.png\" usemap=\"#Map\"/>,\n",
       " <img alt=\"ESPN\" src=\"http://i.imgci.com/espncricinfo/espnfooter/strip_espnin_first.png\" title=\"ESPN\"/>,\n",
       " <img alt=\"French Open\" src=\"http://i.imgci.com/espncricinfo/espnfooter/footer_french_open.png\" style=\"width: 82px;\" title=\"French Open\"/>,\n",
       " <img alt=\"NBA\" src=\"http://i.imgci.com/espncricinfo/espnfooter/footer_nba.png\" style=\"width: 112px;\" title=\"NBA\"/>,\n",
       " <img alt=\"UEFA Champions\" src=\"http://i.imgci.com/espncricinfo/espnfooter/uefa_footer.png\" style=\"width: 165px;\" title=\"UEFA Champions\"/>,\n",
       " <img alt=\"Confederations Cup Football\" src=\"http://i.imgci.com/espncricinfo/espnfooter/ccf_footer.png\" style=\"width: 160px;\" title=\"Confederations Cup Football\"/>,\n",
       " <img alt=\"Formula One\" src=\"http://i.imgci.com/espncricinfo/espnfooter/formula_one_footer.png\" style=\"width: 80px;\" title=\"Formula One\"/>,\n",
       " <img alt=\"more\" src=\"http://i.imgci.com/espncricinfo/espnfooter/more_footer.png\" style=\"width: 72px;margin-top: 50px;\" title=\"more\"/>,\n",
       " <img alt=\"ESPN\" src=\"http://i.imgci.com/espncricinfo/espnfooter/footer_follow.png\" style=\"width: 420px;display: inline-block;\" title=\"ESPN\"/>,\n",
       " <img alt=\"Download app\" src=\"http://i.imgci.com/espncricinfo/espnfooter/footer_download_app.png\" style=\"width: 158px;display: inline-block;margin-bottom: 6px;\" title=\"Download app\"/>,\n",
       " <img alt=\"\" border=\"0\" height=\"1\" src=\"https://www.facebook.com/tr?id=1485530595011438&amp;ev=NoScript\" style=\"display:none\" width=\"1\"/>,\n",
       " <img src=\"http://b.scorecardresearch.com/p?c1=2&amp;c2=3000005&amp;c3=dictionary_value1&amp;c4=dictionary_value2&amp;c5=03&amp;c6=dictionary_value3&amp;c10=5-8&amp;cv=2.0&amp;cj=1\"/>]"
      ]
     },
     "execution_count": 117,
     "metadata": {},
     "output_type": "execute_result"
    }
   ],
   "source": [
    "soup.find_all('img')"
   ]
  },
  {
   "cell_type": "code",
   "execution_count": 121,
   "metadata": {},
   "outputs": [],
   "source": [
    "import itertools\n"
   ]
  },
  {
   "cell_type": "code",
   "execution_count": 126,
   "metadata": {},
   "outputs": [
    {
     "data": {
      "text/plain": [
       "[(0, 1), (0, 2), (1, 0), (1, 2), (2, 0), (2, 1)]"
      ]
     },
     "execution_count": 126,
     "metadata": {},
     "output_type": "execute_result"
    }
   ],
   "source": [
    "list(itertools.permutations(range(3), 2))"
   ]
  },
  {
   "cell_type": "code",
   "execution_count": 127,
   "metadata": {},
   "outputs": [
    {
     "name": "stdout",
     "output_type": "stream",
     "text": [
      "Help on class combinations in module itertools:\n",
      "\n",
      "class combinations(builtins.object)\n",
      " |  combinations(iterable, r) --> combinations object\n",
      " |  \n",
      " |  Return successive r-length combinations of elements in the iterable.\n",
      " |  \n",
      " |  combinations(range(4), 3) --> (0,1,2), (0,1,3), (0,2,3), (1,2,3)\n",
      " |  \n",
      " |  Methods defined here:\n",
      " |  \n",
      " |  __getattribute__(self, name, /)\n",
      " |      Return getattr(self, name).\n",
      " |  \n",
      " |  __iter__(self, /)\n",
      " |      Implement iter(self).\n",
      " |  \n",
      " |  __new__(*args, **kwargs) from builtins.type\n",
      " |      Create and return a new object.  See help(type) for accurate signature.\n",
      " |  \n",
      " |  __next__(self, /)\n",
      " |      Implement next(self).\n",
      " |  \n",
      " |  __reduce__(...)\n",
      " |      Return state information for pickling.\n",
      " |  \n",
      " |  __setstate__(...)\n",
      " |      Set state information for unpickling.\n",
      " |  \n",
      " |  __sizeof__(...)\n",
      " |      Returns size in memory, in bytes.\n",
      "\n"
     ]
    }
   ],
   "source": [
    "help(itertools.combinations)"
   ]
  },
  {
   "cell_type": "code",
   "execution_count": 128,
   "metadata": {},
   "outputs": [
    {
     "data": {
      "text/plain": [
       "[(0, 1), (0, 2), (1, 2)]"
      ]
     },
     "execution_count": 128,
     "metadata": {},
     "output_type": "execute_result"
    }
   ],
   "source": [
    "list(itertools.combinations(range(3), 2))"
   ]
  },
  {
   "cell_type": "code",
   "execution_count": null,
   "metadata": {
    "collapsed": true
   },
   "outputs": [],
   "source": []
  }
 ],
 "metadata": {
  "kernelspec": {
   "display_name": "Python 3",
   "language": "python",
   "name": "python3"
  },
  "language_info": {
   "codemirror_mode": {
    "name": "ipython",
    "version": 3
   },
   "file_extension": ".py",
   "mimetype": "text/x-python",
   "name": "python",
   "nbconvert_exporter": "python",
   "pygments_lexer": "ipython3",
   "version": "3.5.0"
  }
 },
 "nbformat": 4,
 "nbformat_minor": 2
}
